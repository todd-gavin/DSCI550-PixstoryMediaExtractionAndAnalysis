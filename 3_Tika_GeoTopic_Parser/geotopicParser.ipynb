{
 "cells": [
  {
   "cell_type": "code",
   "execution_count": 1,
   "metadata": {},
   "outputs": [],
   "source": [
    "from tika import parser"
   ]
  },
  {
   "cell_type": "code",
   "execution_count": 5,
   "metadata": {},
   "outputs": [
    {
     "name": "stdout",
     "output_type": "stream",
     "text": [
      "{'metadata': {'Geographic_LONGITUDE': '105.0', 'Geographic_NAME': 'People’s Republic of China', 'X-TIKA:Parsed-By-Full-Set': ['org.apache.tika.parser.DefaultParser', 'org.apache.tika.parser.geo.GeoParser'], 'resourceName': \"b'polar.geot'\", 'Optional_NAME1': 'United States', 'Optional_LATITUDE1': '39.76', 'Optional_LONGITUDE1': '-98.5', 'X-TIKA:Parsed-By': ['org.apache.tika.parser.DefaultParser', 'org.apache.tika.parser.geo.GeoParser'], 'X-TIKA:parse_time_millis': '254', 'X-TIKA:embedded_depth': '0', 'Geographic_LATITUDE': '35.0', 'Content-Length': '881', 'Content-Type-Override': 'application/geotopic', 'Content-Type': 'application/geotopic'}, 'content': None, 'status': 200}\n"
     ]
    }
   ],
   "source": [
    "# from tika import parser\n",
    "# Parse the file with Tika and the GeoTopic Parser\n",
    "parsed = parser.from_file('polar.geot', headers={'Content-Type' : 'application/geotopic'})\n",
    "print(parsed)"
   ]
  },
  {
   "cell_type": "code",
   "execution_count": 6,
   "metadata": {},
   "outputs": [],
   "source": [
    "name = parsed['metadata']['Geographic_NAME']\n",
    "latitude = parsed['metadata']['Geographic_LATITUDE']\n",
    "longitude = parsed['metadata']['Geographic_LONGITUDE']"
   ]
  },
  {
   "cell_type": "code",
   "execution_count": 8,
   "metadata": {},
   "outputs": [
    {
     "name": "stdout",
     "output_type": "stream",
     "text": [
      "People’s Republic of China\n",
      "35.0\n",
      "105.0\n"
     ]
    }
   ],
   "source": [
    "print(name)\n",
    "print(latitude)\n",
    "print(longitude)"
   ]
  }
 ],
 "metadata": {
  "kernelspec": {
   "display_name": "Python 3",
   "language": "python",
   "name": "python3"
  },
  "language_info": {
   "codemirror_mode": {
    "name": "ipython",
    "version": 3
   },
   "file_extension": ".py",
   "mimetype": "text/x-python",
   "name": "python",
   "nbconvert_exporter": "python",
   "pygments_lexer": "ipython3",
   "version": "3.9.13"
  },
  "orig_nbformat": 4
 },
 "nbformat": 4,
 "nbformat_minor": 2
}
