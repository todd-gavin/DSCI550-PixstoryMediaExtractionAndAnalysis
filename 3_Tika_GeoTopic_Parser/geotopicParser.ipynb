{
 "cells": [
  {
   "cell_type": "code",
   "execution_count": 3,
   "metadata": {},
   "outputs": [],
   "source": [
    "from tika import parser\n",
    "import json"
   ]
  },
  {
   "cell_type": "code",
   "execution_count": 4,
   "metadata": {},
   "outputs": [
    {
     "name": "stdout",
     "output_type": "stream",
     "text": [
      "{'metadata': {'X-TIKA:Parsed-By': 'org.apache.tika.parser.EmptyParser', 'X-TIKA:Parsed-By-Full-Set': 'org.apache.tika.parser.EmptyParser', 'X-TIKA:parse_time_millis': '9', 'X-TIKA:embedded_depth': '0', 'resourceName': \"b'polar.txt'\", 'Content-Length': '881', 'Content-Type-Override': 'application/geotopic', 'Content-Type': 'application/geotopic'}, 'content': None, 'status': 200}\n"
     ]
    }
   ],
   "source": [
    "# Parse the file with Tika and the GeoTopic Parser\n",
    "parsed = parser.from_file('polar.geot', headers={'Content-Type' : 'application/geotopic'})\n",
    "print(parsed)"
   ]
  },
  {
   "cell_type": "code",
   "execution_count": 5,
   "metadata": {},
   "outputs": [
    {
     "name": "stdout",
     "output_type": "stream",
     "text": [
      "None\n"
     ]
    }
   ],
   "source": [
    "print(parsed['content'])"
   ]
  },
  {
   "cell_type": "code",
   "execution_count": null,
   "metadata": {},
   "outputs": [],
   "source": [
    "# Retrieve the metadata containing the geographic information\n",
    "metadata = parsed.get('metadata')\n",
    "\n",
    "# Retrieve the geographic data as a JSON string\n",
    "geotopic_str = metadata.get('geotopic')\n",
    "\n",
    "# Parse the JSON string into a Python dictionary\n",
    "geotopic_dict = json.loads(geotopic_str)\n",
    "\n",
    "# Extract the latitude and longitude values from the dictionary\n",
    "latitude = geotopic_dict.get('latitude')\n",
    "longitude = geotopic_dict.get('longitude')"
   ]
  }
 ],
 "metadata": {
  "kernelspec": {
   "display_name": "Python 3",
   "language": "python",
   "name": "python3"
  },
  "language_info": {
   "codemirror_mode": {
    "name": "ipython",
    "version": 3
   },
   "file_extension": ".py",
   "mimetype": "text/x-python",
   "name": "python",
   "nbconvert_exporter": "python",
   "pygments_lexer": "ipython3",
   "version": "3.9.13"
  },
  "orig_nbformat": 4
 },
 "nbformat": 4,
 "nbformat_minor": 2
}
