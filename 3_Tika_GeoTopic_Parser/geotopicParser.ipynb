{
 "cells": [
  {
   "attachments": {},
   "cell_type": "markdown",
   "metadata": {},
   "source": [
    "#### Run GeoTopic Parser End-to-End\n",
    "1. Kill all java processes and kill tika server is already running (refer to Errors section fo ReadMe)\n",
    "    - `killall java`\n",
    "    - List current processes: `jps`\n",
    "        - Kill all tika processes with: `kill <process number>`\n",
    "2. Navigate to directory /3_Tika_GeoTopic_Parser and run command to start lucene server: `lucene-geo-gazetteer -server`\n",
    "3. In new terminal window, navigate to directory /3_Tika_GeoTopic_Parser and run command to start geotopic server: `./geotopic-server`\n",
    "4. In new terminal window again, navigate to directory /3_Tika_GeoTopic_Parser and run command to test servers: `curl -T polar.geot -H \"Content-Type: application/geotopic; filename=polar.geot\" http://localhost:9998/rmeta | python -mjson.tool`\n",
    "    - Should Get if running correctly: `United States, 39.76, -98.5`"
   ]
  },
  {
   "cell_type": "code",
   "execution_count": 14,
   "metadata": {},
   "outputs": [],
   "source": [
    "from tika import parser"
   ]
  },
  {
   "cell_type": "code",
   "execution_count": 15,
   "metadata": {},
   "outputs": [
    {
     "name": "stdout",
     "output_type": "stream",
     "text": [
      "{'metadata': {'Geographic_LONGITUDE': '-98.5', 'Geographic_NAME': 'United States', 'X-TIKA:Parsed-By-Full-Set': ['org.apache.tika.parser.DefaultParser', 'org.apache.tika.parser.geo.GeoParser'], 'resourceName': \"b'polar.geot'\", 'Optional_NAME1': 'People’s Republic of China', 'Optional_LATITUDE1': '35.0', 'Optional_LONGITUDE1': '105.0', 'X-TIKA:Parsed-By': ['org.apache.tika.parser.DefaultParser', 'org.apache.tika.parser.geo.GeoParser'], 'X-TIKA:parse_time_millis': '341', 'X-TIKA:embedded_depth': '0', 'Geographic_LATITUDE': '39.76', 'Content-Length': '881', 'Content-Type-Override': 'application/geotopic', 'Content-Type': 'application/geotopic'}, 'content': None, 'status': 200}\n"
     ]
    }
   ],
   "source": [
    "# from tika import parser\n",
    "# Parse the file with Tika and the GeoTopic Parser\n",
    "parsed = parser.from_file('polar.geot', headers={'Content-Type' : 'application/geotopic'})\n",
    "print(parsed)"
   ]
  },
  {
   "cell_type": "code",
   "execution_count": 16,
   "metadata": {},
   "outputs": [],
   "source": [
    "name = parsed['metadata']['Geographic_NAME']\n",
    "latitude = parsed['metadata']['Geographic_LATITUDE']\n",
    "longitude = parsed['metadata']['Geographic_LONGITUDE']"
   ]
  },
  {
   "cell_type": "code",
   "execution_count": 17,
   "metadata": {},
   "outputs": [
    {
     "name": "stdout",
     "output_type": "stream",
     "text": [
      "United States\n",
      "39.76\n",
      "-98.5\n"
     ]
    }
   ],
   "source": [
    "print(name)\n",
    "print(latitude)\n",
    "print(longitude)"
   ]
  }
 ],
 "metadata": {
  "kernelspec": {
   "display_name": "Python 3",
   "language": "python",
   "name": "python3"
  },
  "language_info": {
   "codemirror_mode": {
    "name": "ipython",
    "version": 3
   },
   "file_extension": ".py",
   "mimetype": "text/x-python",
   "name": "python",
   "nbconvert_exporter": "python",
   "pygments_lexer": "ipython3",
   "version": "3.9.13"
  },
  "orig_nbformat": 4
 },
 "nbformat": 4,
 "nbformat_minor": 2
}
