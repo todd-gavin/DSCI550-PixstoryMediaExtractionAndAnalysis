{
 "cells": [
  {
   "cell_type": "code",
   "execution_count": null,
   "metadata": {},
   "outputs": [],
   "source": [
    "import pandas as pd\n",
    "import os"
   ]
  },
  {
   "attachments": {},
   "cell_type": "markdown",
   "metadata": {},
   "source": [
    "Creating a directory called \"Pixstory_Posts_Text_Files\" that contains individual text files for each of the Pixstory Posts' text respectively."
   ]
  },
  {
   "cell_type": "code",
   "execution_count": null,
   "metadata": {},
   "outputs": [],
   "source": [
    "# read in your dataframe\n",
    "df = pd.read_csv(\"your_dataframe.csv\")\n",
    "\n",
    "# create the folder to store the .txt files\n",
    "if not os.path.exists(\"Pixstory_Posts_Text_Files\"):\n",
    "    os.mkdir(\"Pixstory_Posts_Text_Files\")\n",
    "\n",
    "# iterate over each row of the dataframe and write the text to a new .txt file\n",
    "for index, row in df.iterrows():\n",
    "    filename = f\"post_{index}.txt\"\n",
    "    with open(f\"Pixstory_Posts_Text_Files/{filename}\", \"w\") as f:\n",
    "        f.write(row[\"text\"])\n"
   ]
  }
 ],
 "metadata": {
  "language_info": {
   "name": "python"
  },
  "orig_nbformat": 4
 },
 "nbformat": 4,
 "nbformat_minor": 2
}
