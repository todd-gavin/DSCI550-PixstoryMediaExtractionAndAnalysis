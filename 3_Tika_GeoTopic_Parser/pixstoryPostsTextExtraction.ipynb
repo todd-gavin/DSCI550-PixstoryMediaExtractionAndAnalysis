{
 "cells": [
  {
   "cell_type": "code",
   "execution_count": 1,
   "metadata": {},
   "outputs": [],
   "source": [
    "import pandas as pd\n",
    "from bs4 import BeautifulSoup\n",
    "import os"
   ]
  },
  {
   "cell_type": "code",
   "execution_count": 3,
   "metadata": {},
   "outputs": [],
   "source": [
    "df_master_dataset = pd.read_csv('../Datasets/Master_Dataset.tsv', delimiter='\\t')"
   ]
  },
  {
   "attachments": {},
   "cell_type": "markdown",
   "metadata": {},
   "source": [
    "Creating a directory called \"Pixstory_Posts_Text_Files\" that contains individual text files for each of the Pixstory Posts' text respectively."
   ]
  },
  {
   "cell_type": "code",
   "execution_count": 6,
   "metadata": {},
   "outputs": [],
   "source": [
    "# create the folder to store the .txt files\n",
    "if not os.path.exists(\"Pixstory_Posts_Text_Files\"):\n",
    "    os.mkdir(\"Pixstory_Posts_Text_Files\")"
   ]
  },
  {
   "cell_type": "code",
   "execution_count": 8,
   "metadata": {},
   "outputs": [],
   "source": [
    "# iterate over each row of the dataframe and write the text to a new .txt file\n",
    "for index, row in df_master_dataset.iterrows():\n",
    "    storyID = row[\"Story Primary ID\"]\n",
    "    text = str(row[\"Narrative\"])\n",
    "    filename = f\"post_{index}_{storyID}.txt\"\n",
    "    with open(f\"Pixstory_Posts_Text_Files/{filename}\", \"w\") as f:\n",
    "        f.write(text)"
   ]
  }
 ],
 "metadata": {
  "kernelspec": {
   "display_name": "base",
   "language": "python",
   "name": "python3"
  },
  "language_info": {
   "codemirror_mode": {
    "name": "ipython",
    "version": 3
   },
   "file_extension": ".py",
   "mimetype": "text/x-python",
   "name": "python",
   "nbconvert_exporter": "python",
   "pygments_lexer": "ipython3",
   "version": "3.9.13"
  },
  "orig_nbformat": 4
 },
 "nbformat": 4,
 "nbformat_minor": 2
}
