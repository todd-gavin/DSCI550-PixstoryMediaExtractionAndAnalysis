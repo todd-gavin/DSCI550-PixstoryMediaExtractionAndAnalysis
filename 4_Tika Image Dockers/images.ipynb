{
 "cells": [
  {
   "cell_type": "markdown",
   "metadata": {},
   "source": [
    "7. Install Tika Image Dockers and generate captions for your Pixstory images posts\n",
    "- Download all 95k images associated with the posts ...Write a simple python script to do this\n",
    "- Install Tika Dockers package for Image Captioning and Object Recognition\n",
    "- DONE - git clone https://github.com/USCDataScience/tika-dockers.git and https://hub.docker.com/r/uscdatascience/im2txt-rest-tika\n",
    "- Read and test out: https://cwiki.apache.org/confluence/display/TIKA/TikaAndVisionDL4J iii. \n",
    "- Read and test out: https://github.com/apache/tika/pull/189\n",
    "- Iterate through all the Pixstory posts and add the generated image caption and the detect object(s) column to your dataset"
   ]
  },
  {
   "cell_type": "code",
   "execution_count": null,
   "metadata": {},
   "outputs": [],
   "source": [
    "#path to raw data set = \"../Datasets/Master_Dataset_Raw.csv\""
   ]
  }
 ],
 "metadata": {
  "kernelspec": {
   "display_name": "Python 3.9.13 64-bit",
   "language": "python",
   "name": "python3"
  },
  "language_info": {
   "name": "python",
   "version": "3.9.13"
  },
  "orig_nbformat": 4,
  "vscode": {
   "interpreter": {
    "hash": "aee8b7b246df8f9039afb4144a1f6fd8d2ca17a180786b69acc140d282b71a49"
   }
  }
 },
 "nbformat": 4,
 "nbformat_minor": 2
}
