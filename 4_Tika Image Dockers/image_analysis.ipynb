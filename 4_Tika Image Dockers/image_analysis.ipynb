{
 "cells": [
  {
   "cell_type": "markdown",
   "metadata": {},
   "source": [
    "\n",
    "\n",
    "- From Mattman to another student on slack\n",
    "    - Don't build the xml file, just use the docker\n",
    "    - Run this: docker run -it -p 8764:8764 uscdatascience/inception-rest-tika\n",
    "    - This is how to test it: http://localhost:8764/inception/v4/classify/image?topn=2&min_confidence=0.03&url=https://upload.wikimedia.org/wikipedia/commons/f/f6/Working_Dogs%2C_Handlers_Share_Special_Bond_DVIDS124942.jpg\n",
    "    - more documentation here: https://cwiki.apache.org/confluence/display/TIKA/TikaAndVision#TikaAndVision-a.Usingdocker(Recommended)\n",
    "    - to find image caption, use this docker: docker run -it -p 8764:8764 uscdatascience/im2txt-rest-tika\n",
    "    - see this: https://github.com/USCDataScience/tika-dockers\n",
    "    - then see this: http://localhost:8764/inception/v3/caption/image?url=https://upload.wikimedia.org/w[…]s_Thames_Tigers_2007.jpg/1200px-Marcus_Thames_Tigers_2007.jpg\n",
    "    - additional documentation: https://cwiki.apache.org/confluence/display/TIKA/ImageCaption#ImageCaption-a.Usingdocker(Recommended)\n"
   ]
  },
  {
   "cell_type": "markdown",
   "metadata": {},
   "source": [
    "# Follow these steps to get started:\n",
    "\n",
    "Check out this if you get stuck: https://cwiki.apache.org/confluence/display/TIKA/TikaAndVision#TikaAndVision-a.Usingdocker(Recommended)\n",
    "\n",
    "- install the docker desktop app\n",
    "- pip install tensorflow\n",
    "- git clone https://github.com/tensorflow/models.git\n",
    "- export PYTHONPATH=\"$PYTHONPATH:`pwd`:`pwd`/slim\"\n",
    "- python -c 'import tensorflow, numpy, dataset; print(\"OK\")'\n",
    "- git clone https://github.com/USCDataScience/tika-dockers.git && cd tika-dockers\n",
    "- docker build -f InceptionRestDockerfile -t uscdatascience/inception-rest-tika .\n",
    "- docker run -p 8764:8764 -it uscdatascience/inception-rest-tika \n",
    "- Below is what Mattman said to do in slack. Note that the docker run command is very similar to the one we just did. I believe they are interchangable commands. \n",
    "- docker run -it -p 8764:8764 uscdatascience/inception-rest-tika\n",
    "- to test it, plug this into web browser: http://localhost:8764/inception/v4/classify/image?topn=2&min_confidence=0.03&url=https://upload.wikimedia.org/wikipedia/commons/f/f6/Working_Dogs%2C_Handlers_Share_Special_Bond_DVIDS124942.jpg \n",
    "- if the test doesn't work, Go to docker desktop and clear out: 1) any unused or old containers; and 2) delete your image for uscdatascience/inception-rest-tika. Try again. \n",
    "\n",
    "In order to get a url that points to your downloaded photos, do the follwing:\n",
    "- \"python -mhttp.server 8888\" in the directory where your photos are\n",
    "- Follow this format to point to a specific photo http://localhost:8888/Pixstory-image-161668402049563.jpg\n",
    "- here's another image to try: http://localhost:8888/Pixstory-image-162521751234631.jpeg\n",
    "- if you want to see the list of links to images: http://localhost:8888\n",
    "\n"
   ]
  },
  {
   "cell_type": "markdown",
   "metadata": {},
   "source": [
    "# Hypothesis - docker is not properly connected to local images. From Chat GPT: \n",
    "- First, you need to make sure that the image is stored in a directory that is accessible to the Docker container. You can do this by copying the image to the Docker host's file system, or by creating a shared volume between the host and the container.\n",
    "    - docker run -it -p 8764:8764 -v /path/to/my/folder:/data uscdatascience/inception-rest-tika --debug\n",
    "    - docker run -it -p 8764:8764 -v /Users/daniilabbruzzese/Documents/Senior Year/DSCI 550/assignment 2/DSCI550-PixstoryMediaExtractionAndAnalysis/4_Tika Image Dockers/95k_Images:/data uscdatascience/inception-rest-tika --debug\n",
    "\n",
    "\n",
    "- Once the image is accessible to the Docker container, you can use the image's URL to access it from within the container. For example, if the image is stored at /path/to/image.jpg on the Docker host, you can access it from within the container using the URL http://host.docker.internal/path/to/image.jpg.\n",
    "\n",
    "- When you run the Docker container, you need to make sure that the container is able to access the URL of the image. You can do this by specifying the appropriate network settings when you run the container. For example, you can use the --network host option to give the container access to the host network, or you can use the --add-host option to add the host's IP address to the container's /etc/hosts file.\n",
    "\n",
    "- Once you have configured the network settings for the container, you should be able to access the image from within the container using its URL. You can test this by running the curl command from within the container, as we did earlier. If everything is set up correctly, you should be able to download the image from within the container."
   ]
  },
  {
   "cell_type": "markdown",
   "metadata": {},
   "source": [
    "# URL Pointing to Downloaded Images STEPS \n",
    "\n",
    "In order to get a url that points to your downloaded photos, do the follwing:\n",
    "- \"python -mhttp.server 8888\" in the directory where your photos are\n",
    "- Follow this format to point to a specific photo http://localhost:8888/Pixstory-image-161668402049563.jpg\n",
    "- here's another image to try: http://localhost:8888/Pixstory-image-162521751234631.jpeg\n",
    "- if you want to see the list of links to images: http://localhost:8888\n",
    "\n",
    "\n",
    "ultimetly, you need the link to your photos to look like this: http://10.25.179.208:8888 AKA <your_local_ip>:8888.\n",
    "Steps to do this: \n",
    "\n",
    "- Get IP address of your local machine: ipconfig (Windows) or ifconfig (Mac or Linux). \n",
    "\n",
    "- Configure the web server to bind to the host IP address: Once you have determined the IP address of your local machine, you can configure the web server to bind to that IP address. The steps to do this will depend on the web server software you are using, but typically involve editing a configuration file or settings file. Look for a setting that specifies the IP address or hostname that the web server should bind to, and set it to the IP address of your local machine. For example, in Apache, you would edit the httpd.conf file and set the Listen directive to Listen <your_local_ip>:8888.\n",
    "\n",
    "- Configure Docker Desktop to access the web server: Once the web server is bound to the host IP address, you can configure Docker Desktop to access it. Open the Docker Desktop settings and go to the \"Resources\" section. Under \"File Sharing\", add the directory that contains your web server files, and make sure the checkbox next to it is selected. This will allow Docker Desktop to access the directory and the web server files.\n",
    "\n",
    "- Test the web server in a Docker container: Once you have configured Docker Desktop to access the web server, you can test it by creating a Docker container that accesses the web server. You can do this by creating a Dockerfile that specifies the image you want to use, and the command to run the container (which would typically involve starting the web server). Then, build the image and run the container, and access the web server using the IP address and port number of the Docker container. For example, if your web server is running on http://localhost:8888 and your Docker container is running on http://172.17.0.2:8888, you would access the web server using http://172.17.0.2:8888.\n",
    "\n"
   ]
  },
  {
   "cell_type": "code",
   "execution_count": 9,
   "metadata": {},
   "outputs": [],
   "source": [
    "import tika\n",
    "import tika.parser\n",
    "from tika import parser\n",
    "import requests\n",
    "import urllib.parse\n",
    "import pandas as pd\n"
   ]
  },
  {
   "cell_type": "code",
   "execution_count": 11,
   "metadata": {},
   "outputs": [
    {
     "name": "stdout",
     "output_type": "stream",
     "text": [
      "https://image.pixstory.com/optimized/Pixstory-image-165942680078373.jpeg\n",
      "{'confidence': [0.17712360620498657, 0.09326252341270447], 'classnames': ['loudspeaker, speaker, speaker unit, loudspeaker system, speaker system', 'face powder'], 'classids': [633, 552], 'time': {'read': 1370, 'units': 'ms', 'classification': 383}}\n"
     ]
    }
   ],
   "source": [
    "#testing this with a pixtosry image online - it works! Even when the test link doesn't work.... I wonder why\n",
    "\n",
    "\n",
    "# Load the CSV file into a pandas DataFrame\n",
    "df = pd.read_csv('../Datasets/Master_Dataset_Raw.csv')\n",
    "\n",
    "\n",
    "# Define a lambda function to modify the URLs\n",
    "modify_url = lambda url: url.replace(\".com/\", \".com/optimized/\")\n",
    "\n",
    "# Apply the lambda function to the \"Media\" column of the DataFrame\n",
    "df['Media'] = df['Media'].apply(modify_url)\n",
    "\n",
    "first_media = df.loc[0, 'Media']\n",
    "print(first_media)\n",
    "\n",
    "\n",
    "#link is https://image.pixstory.com/optimized/Pixstory-image-165942680078373.jpeg\n",
    "#modified link is 'http://localhost:8764/inception/v4/classify/image?topn=2&min_confidence=0.03&url=https://image.pixstory.com/optimized/Pixstory-image-165942680078373.jpeg'\n",
    "\n",
    "url3 = 'http://localhost:8764/inception/v4/classify/image?topn=2&min_confidence=0.03&url=https://image.pixstory.com/optimized/Pixstory-image-165942680078373.jpeg'\n",
    "\n",
    "#another link is \n",
    "\n",
    "response = requests.get(url3)\n",
    "json_response = response.json()\n",
    "\n",
    "print(json_response)\n",
    "\n"
   ]
  },
  {
   "cell_type": "code",
   "execution_count": 8,
   "metadata": {},
   "outputs": [
    {
     "name": "stdout",
     "output_type": "stream",
     "text": [
      "{'confidence': [0.675788402557373, 0.11660852283239365], 'classnames': ['pickelhaube', 'book jacket, dust cover, dust jacket, dust wrapper'], 'classids': [716, 922], 'time': {'read': 31, 'units': 'ms', 'classification': 423}}\n"
     ]
    }
   ],
   "source": [
    "#Testing with downloaded image\n",
    "\n",
    "#Example image URL \"http://10.25.179.208:8888/Pixstory-image-164318304274781.png\"\n",
    "\n",
    "#Modified URL skeleton format 'http://localhost:8764/inception/v4/classify/image?topn=2&min_confidence=0.03&url=<URL>'\n",
    "\n",
    "\n",
    "url3 = 'http://localhost:8764/inception/v4/classify/image?topn=2&min_confidence=0.03&url=http://10.25.179.208:8888/Pixstory-image-164318304274781.png' #this one works!!!!!\n",
    "\n",
    "\n",
    "response = requests.get(url3)\n",
    "json_response = response.json()\n",
    "\n",
    "print(json_response)\n"
   ]
  }
 ],
 "metadata": {
  "kernelspec": {
   "display_name": "Python 3.9.12 ('base')",
   "language": "python",
   "name": "python3"
  },
  "language_info": {
   "codemirror_mode": {
    "name": "ipython",
    "version": 3
   },
   "file_extension": ".py",
   "mimetype": "text/x-python",
   "name": "python",
   "nbconvert_exporter": "python",
   "pygments_lexer": "ipython3",
   "version": "3.9.12"
  },
  "orig_nbformat": 4,
  "vscode": {
   "interpreter": {
    "hash": "14b5f4a1e35b3543103fc71a08ac87c31dbc262e66f163b05b7ba3f77eb1e8a6"
   }
  }
 },
 "nbformat": 4,
 "nbformat_minor": 2
}
