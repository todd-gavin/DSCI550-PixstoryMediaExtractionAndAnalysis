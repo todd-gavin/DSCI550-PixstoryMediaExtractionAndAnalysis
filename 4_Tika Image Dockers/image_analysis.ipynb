{
 "cells": [
  {
   "cell_type": "markdown",
   "metadata": {},
   "source": [
    "\n",
    "\n",
    "- From Mattman to another student on slack\n",
    "    - Don't build the xml file, just use the docker\n",
    "    - Run this: docker run -it -p 8764:8764 uscdatascience/inception-rest-tika\n",
    "    - This is how to test it: http://localhost:8764/inception/v4/classify/image?topn=2&min_confidence=0.03&url=https://upload.wikimedia.org/wikipedia/commons/f/f6/Working_Dogs%2C_Handlers_Share_Special_Bond_DVIDS124942.jpg\n",
    "    - more documentation here: https://cwiki.apache.org/confluence/display/TIKA/TikaAndVision#TikaAndVision-a.Usingdocker(Recommended)\n",
    "    - to find image caption, use this docker: docker run -it -p 8764:8764 uscdatascience/im2txt-rest-tika\n",
    "    - see this: https://github.com/USCDataScience/tika-dockers\n",
    "    - then see this: http://localhost:8764/inception/v3/caption/image?url=https://upload.wikimedia.org/w[…]s_Thames_Tigers_2007.jpg/1200px-Marcus_Thames_Tigers_2007.jpg\n",
    "    - additional documentation: https://cwiki.apache.org/confluence/display/TIKA/ImageCaption#ImageCaption-a.Usingdocker(Recommended)\n"
   ]
  },
  {
   "cell_type": "markdown",
   "metadata": {},
   "source": [
    "# Follow these steps to get started:\n",
    "\n",
    "Check out this if you get stuck: https://cwiki.apache.org/confluence/display/TIKA/TikaAndVision#TikaAndVision-a.Usingdocker(Recommended)\n",
    "\n",
    "- install the docker desktop app\n",
    "- pip install tensorflow\n",
    "- git clone https://github.com/tensorflow/models.git\n",
    "- export PYTHONPATH=\"$PYTHONPATH:`pwd`:`pwd`/slim\"\n",
    "- python -c 'import tensorflow, numpy, dataset; print(\"OK\")'\n",
    "- git clone https://github.com/USCDataScience/tika-dockers.git && cd tika-dockers\n",
    "- docker build -f InceptionRestDockerfile -t uscdatascience/inception-rest-tika .\n",
    "- docker run -p 8764:8764 -it uscdatascience/inception-rest-tika \n",
    "- Below is what Mattman said to do in slack. Note that the docker run command is very similar to the one we just did. I believe they are interchangable commands. \n",
    "- docker run -it -p 8764:8764 uscdatascience/inception-rest-tika\n",
    "- to test it, plug this into web browser: http://localhost:8764/inception/v4/classify/image?topn=2&min_confidence=0.03&url=https://upload.wikimedia.org/wikipedia/commons/f/f6/Working_Dogs%2C_Handlers_Share_Special_Bond_DVIDS124942.jpg \n",
    "- if the test doesn't work, Go to docker desktop and clear out: 1) any unused or old containers; and 2) delete your image for uscdatascience/inception-rest-tika. Try again. \n",
    "\n",
    "In order to get a url that points to your downloaded photos, do the follwing:\n",
    "- \"python -mhttp.server 8888\" in the directory where your photos are\n",
    "- Follow this format to point to a specific photo http://localhost:8888/Pixstory-image-161668402049563.jpg\n",
    "- here's another image to try: http://localhost:8888/Pixstory-image-162521751234631.jpeg\n",
    "- if you want to see the list of links to images: http://localhost:8888\n",
    "\n"
   ]
  },
  {
   "cell_type": "markdown",
   "metadata": {},
   "source": [
    "# Hypothesis - docker is not properly connected to local images. From Chat GPT: \n",
    "- First, you need to make sure that the image is stored in a directory that is accessible to the Docker container. You can do this by copying the image to the Docker host's file system, or by creating a shared volume between the host and the container.\n",
    "    - docker run -it -p 8764:8764 -v /path/to/my/folder:/data uscdatascience/inception-rest-tika --debug\n",
    "    - docker run -it -p 8764:8764 -v /Users/daniilabbruzzese/Documents/Senior Year/DSCI 550/assignment 2/DSCI550-PixstoryMediaExtractionAndAnalysis/4_Tika Image Dockers/95k_Images:/data uscdatascience/inception-rest-tika --debug\n",
    "\n",
    "\n",
    "- Once the image is accessible to the Docker container, you can use the image's URL to access it from within the container. For example, if the image is stored at /path/to/image.jpg on the Docker host, you can access it from within the container using the URL http://host.docker.internal/path/to/image.jpg.\n",
    "\n",
    "- When you run the Docker container, you need to make sure that the container is able to access the URL of the image. You can do this by specifying the appropriate network settings when you run the container. For example, you can use the --network host option to give the container access to the host network, or you can use the --add-host option to add the host's IP address to the container's /etc/hosts file.\n",
    "\n",
    "- Once you have configured the network settings for the container, you should be able to access the image from within the container using its URL. You can test this by running the curl command from within the container, as we did earlier. If everything is set up correctly, you should be able to download the image from within the container."
   ]
  },
  {
   "cell_type": "code",
   "execution_count": 1,
   "metadata": {},
   "outputs": [],
   "source": [
    "import tika\n",
    "import tika.parser\n",
    "from tika import parser\n",
    "import requests\n",
    "import urllib.parse\n",
    "import pandas as pd\n"
   ]
  },
  {
   "cell_type": "code",
   "execution_count": 5,
   "metadata": {},
   "outputs": [
    {
     "ename": "JSONDecodeError",
     "evalue": "[Errno Expecting value] <!DOCTYPE HTML PUBLIC \"-//W3C//DTD HTML 3.2 Final//EN\">\n<title>500 Internal Server Error</title>\n<h1>Internal Server Error</h1>\n<p>The server encountered an internal error and was unable to complete your request.  Either the server is overloaded or there is an error in the application.</p>\n: 0",
     "output_type": "error",
     "traceback": [
      "\u001b[0;31m---------------------------------------------------------------------------\u001b[0m",
      "\u001b[0;31mJSONDecodeError\u001b[0m                           Traceback (most recent call last)",
      "File \u001b[0;32m~/opt/anaconda3/lib/python3.9/site-packages/requests/models.py:910\u001b[0m, in \u001b[0;36mResponse.json\u001b[0;34m(self, **kwargs)\u001b[0m\n\u001b[1;32m    909\u001b[0m \u001b[39mtry\u001b[39;00m:\n\u001b[0;32m--> 910\u001b[0m     \u001b[39mreturn\u001b[39;00m complexjson\u001b[39m.\u001b[39;49mloads(\u001b[39mself\u001b[39;49m\u001b[39m.\u001b[39;49mtext, \u001b[39m*\u001b[39;49m\u001b[39m*\u001b[39;49mkwargs)\n\u001b[1;32m    911\u001b[0m \u001b[39mexcept\u001b[39;00m JSONDecodeError \u001b[39mas\u001b[39;00m e:\n\u001b[1;32m    912\u001b[0m     \u001b[39m# Catch JSON-related errors and raise as requests.JSONDecodeError\u001b[39;00m\n\u001b[1;32m    913\u001b[0m     \u001b[39m# This aliases json.JSONDecodeError and simplejson.JSONDecodeError\u001b[39;00m\n",
      "File \u001b[0;32m~/opt/anaconda3/lib/python3.9/json/__init__.py:346\u001b[0m, in \u001b[0;36mloads\u001b[0;34m(s, cls, object_hook, parse_float, parse_int, parse_constant, object_pairs_hook, **kw)\u001b[0m\n\u001b[1;32m    343\u001b[0m \u001b[39mif\u001b[39;00m (\u001b[39mcls\u001b[39m \u001b[39mis\u001b[39;00m \u001b[39mNone\u001b[39;00m \u001b[39mand\u001b[39;00m object_hook \u001b[39mis\u001b[39;00m \u001b[39mNone\u001b[39;00m \u001b[39mand\u001b[39;00m\n\u001b[1;32m    344\u001b[0m         parse_int \u001b[39mis\u001b[39;00m \u001b[39mNone\u001b[39;00m \u001b[39mand\u001b[39;00m parse_float \u001b[39mis\u001b[39;00m \u001b[39mNone\u001b[39;00m \u001b[39mand\u001b[39;00m\n\u001b[1;32m    345\u001b[0m         parse_constant \u001b[39mis\u001b[39;00m \u001b[39mNone\u001b[39;00m \u001b[39mand\u001b[39;00m object_pairs_hook \u001b[39mis\u001b[39;00m \u001b[39mNone\u001b[39;00m \u001b[39mand\u001b[39;00m \u001b[39mnot\u001b[39;00m kw):\n\u001b[0;32m--> 346\u001b[0m     \u001b[39mreturn\u001b[39;00m _default_decoder\u001b[39m.\u001b[39;49mdecode(s)\n\u001b[1;32m    347\u001b[0m \u001b[39mif\u001b[39;00m \u001b[39mcls\u001b[39m \u001b[39mis\u001b[39;00m \u001b[39mNone\u001b[39;00m:\n",
      "File \u001b[0;32m~/opt/anaconda3/lib/python3.9/json/decoder.py:337\u001b[0m, in \u001b[0;36mJSONDecoder.decode\u001b[0;34m(self, s, _w)\u001b[0m\n\u001b[1;32m    333\u001b[0m \u001b[39m\"\"\"Return the Python representation of ``s`` (a ``str`` instance\u001b[39;00m\n\u001b[1;32m    334\u001b[0m \u001b[39mcontaining a JSON document).\u001b[39;00m\n\u001b[1;32m    335\u001b[0m \n\u001b[1;32m    336\u001b[0m \u001b[39m\"\"\"\u001b[39;00m\n\u001b[0;32m--> 337\u001b[0m obj, end \u001b[39m=\u001b[39m \u001b[39mself\u001b[39;49m\u001b[39m.\u001b[39;49mraw_decode(s, idx\u001b[39m=\u001b[39;49m_w(s, \u001b[39m0\u001b[39;49m)\u001b[39m.\u001b[39;49mend())\n\u001b[1;32m    338\u001b[0m end \u001b[39m=\u001b[39m _w(s, end)\u001b[39m.\u001b[39mend()\n",
      "File \u001b[0;32m~/opt/anaconda3/lib/python3.9/json/decoder.py:355\u001b[0m, in \u001b[0;36mJSONDecoder.raw_decode\u001b[0;34m(self, s, idx)\u001b[0m\n\u001b[1;32m    354\u001b[0m \u001b[39mexcept\u001b[39;00m \u001b[39mStopIteration\u001b[39;00m \u001b[39mas\u001b[39;00m err:\n\u001b[0;32m--> 355\u001b[0m     \u001b[39mraise\u001b[39;00m JSONDecodeError(\u001b[39m\"\u001b[39m\u001b[39mExpecting value\u001b[39m\u001b[39m\"\u001b[39m, s, err\u001b[39m.\u001b[39mvalue) \u001b[39mfrom\u001b[39;00m \u001b[39mNone\u001b[39m\n\u001b[1;32m    356\u001b[0m \u001b[39mreturn\u001b[39;00m obj, end\n",
      "\u001b[0;31mJSONDecodeError\u001b[0m: Expecting value: line 1 column 1 (char 0)",
      "\nDuring handling of the above exception, another exception occurred:\n",
      "\u001b[0;31mJSONDecodeError\u001b[0m                           Traceback (most recent call last)",
      "\u001b[1;32m/Users/daniilabbruzzese/Documents/Senior Year/DSCI 550/assignment 2/DSCI550-PixstoryMediaExtractionAndAnalysis/4_Tika Image Dockers/image_analysis.ipynb Cell 5\u001b[0m in \u001b[0;36m<cell line: 6>\u001b[0;34m()\u001b[0m\n\u001b[1;32m      <a href='vscode-notebook-cell:/Users/daniilabbruzzese/Documents/Senior%20Year/DSCI%20550/assignment%202/DSCI550-PixstoryMediaExtractionAndAnalysis/4_Tika%20Image%20Dockers/image_analysis.ipynb#W4sZmlsZQ%3D%3D?line=2'>3</a>\u001b[0m test_url \u001b[39m=\u001b[39m \u001b[39m'\u001b[39m\u001b[39mhttp://localhost:8764/inception/v4/classify/image?topn=2&min_confidence=0.03&url=https://upload.wikimedia.org/wikipedia/commons/f/f6/Working_Dogs\u001b[39m\u001b[39m%\u001b[39m\u001b[39m2C_Handlers_Share_Special_Bond_DVIDS124942.jpg\u001b[39m\u001b[39m'\u001b[39m\n\u001b[1;32m      <a href='vscode-notebook-cell:/Users/daniilabbruzzese/Documents/Senior%20Year/DSCI%20550/assignment%202/DSCI550-PixstoryMediaExtractionAndAnalysis/4_Tika%20Image%20Dockers/image_analysis.ipynb#W4sZmlsZQ%3D%3D?line=4'>5</a>\u001b[0m response \u001b[39m=\u001b[39m requests\u001b[39m.\u001b[39mget(test_url)\n\u001b[0;32m----> <a href='vscode-notebook-cell:/Users/daniilabbruzzese/Documents/Senior%20Year/DSCI%20550/assignment%202/DSCI550-PixstoryMediaExtractionAndAnalysis/4_Tika%20Image%20Dockers/image_analysis.ipynb#W4sZmlsZQ%3D%3D?line=5'>6</a>\u001b[0m json_response \u001b[39m=\u001b[39m response\u001b[39m.\u001b[39;49mjson()\n\u001b[1;32m      <a href='vscode-notebook-cell:/Users/daniilabbruzzese/Documents/Senior%20Year/DSCI%20550/assignment%202/DSCI550-PixstoryMediaExtractionAndAnalysis/4_Tika%20Image%20Dockers/image_analysis.ipynb#W4sZmlsZQ%3D%3D?line=7'>8</a>\u001b[0m \u001b[39mprint\u001b[39m(json_response)\n",
      "File \u001b[0;32m~/opt/anaconda3/lib/python3.9/site-packages/requests/models.py:917\u001b[0m, in \u001b[0;36mResponse.json\u001b[0;34m(self, **kwargs)\u001b[0m\n\u001b[1;32m    915\u001b[0m     \u001b[39mraise\u001b[39;00m RequestsJSONDecodeError(e\u001b[39m.\u001b[39mmessage)\n\u001b[1;32m    916\u001b[0m \u001b[39melse\u001b[39;00m:\n\u001b[0;32m--> 917\u001b[0m     \u001b[39mraise\u001b[39;00m RequestsJSONDecodeError(e\u001b[39m.\u001b[39mmsg, e\u001b[39m.\u001b[39mdoc, e\u001b[39m.\u001b[39mpos)\n",
      "\u001b[0;31mJSONDecodeError\u001b[0m: [Errno Expecting value] <!DOCTYPE HTML PUBLIC \"-//W3C//DTD HTML 3.2 Final//EN\">\n<title>500 Internal Server Error</title>\n<h1>Internal Server Error</h1>\n<p>The server encountered an internal error and was unable to complete your request.  Either the server is overloaded or there is an error in the application.</p>\n: 0"
     ]
    }
   ],
   "source": [
    "#TEST -- Making a request test to retrieve objects from a photo. This was works (but is very spotty and sometimes doesn't work) \n",
    "\n",
    "test_url = 'http://localhost:8764/inception/v4/classify/image?topn=2&min_confidence=0.03&url=https://upload.wikimedia.org/wikipedia/commons/f/f6/Working_Dogs%2C_Handlers_Share_Special_Bond_DVIDS124942.jpg'\n",
    "\n",
    "response = requests.get(test_url)\n",
    "json_response = response.json()\n",
    "\n",
    "print(json_response)\n"
   ]
  },
  {
   "cell_type": "code",
   "execution_count": 3,
   "metadata": {},
   "outputs": [
    {
     "name": "stdout",
     "output_type": "stream",
     "text": [
      "https://image.pixstory.com/optimized/Pixstory-image-165942680078373.jpeg\n",
      "{'confidence': [0.17712360620498657, 0.09326252341270447], 'classnames': ['loudspeaker, speaker, speaker unit, loudspeaker system, speaker system', 'face powder'], 'classids': [633, 552], 'time': {'read': 1289, 'units': 'ms', 'classification': 1476}}\n"
     ]
    }
   ],
   "source": [
    "#testing this with a pixtosry image online - it works! Even when the test link doesn't work.... I wonder why\n",
    "\n",
    "\n",
    "# Load the CSV file into a pandas DataFrame\n",
    "df = pd.read_csv('../Datasets/Master_Dataset_Raw.csv')\n",
    "\n",
    "\n",
    "# Define a lambda function to modify the URLs\n",
    "modify_url = lambda url: url.replace(\".com/\", \".com/optimized/\")\n",
    "\n",
    "# Apply the lambda function to the \"Media\" column of the DataFrame\n",
    "df['Media'] = df['Media'].apply(modify_url)\n",
    "\n",
    "first_media = df.loc[0, 'Media']\n",
    "print(first_media)\n",
    "\n",
    "\n",
    "#link is https://image.pixstory.com/optimized/Pixstory-image-165942680078373.jpeg\n",
    "#modified link is 'http://localhost:8764/inception/v4/classify/image?topn=2&min_confidence=0.03&url=https://image.pixstory.com/optimized/Pixstory-image-165942680078373.jpeg'\n",
    "\n",
    "url3 = 'http://localhost:8764/inception/v4/classify/image?topn=2&min_confidence=0.03&url=https://image.pixstory.com/optimized/Pixstory-image-165942680078373.jpeg'\n",
    "\n",
    "response = requests.get(url3)\n",
    "json_response = response.json()\n",
    "\n",
    "print(json_response)\n",
    "\n"
   ]
  },
  {
   "cell_type": "code",
   "execution_count": 7,
   "metadata": {},
   "outputs": [
    {
     "ename": "JSONDecodeError",
     "evalue": "[Errno Expecting value] <!DOCTYPE HTML PUBLIC \"-//W3C//DTD HTML 3.2 Final//EN\">\n<title>500 Internal Server Error</title>\n<h1>Internal Server Error</h1>\n<p>The server encountered an internal error and was unable to complete your request.  Either the server is overloaded or there is an error in the application.</p>\n: 0",
     "output_type": "error",
     "traceback": [
      "\u001b[0;31m---------------------------------------------------------------------------\u001b[0m",
      "\u001b[0;31mJSONDecodeError\u001b[0m                           Traceback (most recent call last)",
      "File \u001b[0;32m~/opt/anaconda3/lib/python3.9/site-packages/requests/models.py:910\u001b[0m, in \u001b[0;36mResponse.json\u001b[0;34m(self, **kwargs)\u001b[0m\n\u001b[1;32m    909\u001b[0m \u001b[39mtry\u001b[39;00m:\n\u001b[0;32m--> 910\u001b[0m     \u001b[39mreturn\u001b[39;00m complexjson\u001b[39m.\u001b[39;49mloads(\u001b[39mself\u001b[39;49m\u001b[39m.\u001b[39;49mtext, \u001b[39m*\u001b[39;49m\u001b[39m*\u001b[39;49mkwargs)\n\u001b[1;32m    911\u001b[0m \u001b[39mexcept\u001b[39;00m JSONDecodeError \u001b[39mas\u001b[39;00m e:\n\u001b[1;32m    912\u001b[0m     \u001b[39m# Catch JSON-related errors and raise as requests.JSONDecodeError\u001b[39;00m\n\u001b[1;32m    913\u001b[0m     \u001b[39m# This aliases json.JSONDecodeError and simplejson.JSONDecodeError\u001b[39;00m\n",
      "File \u001b[0;32m~/opt/anaconda3/lib/python3.9/json/__init__.py:346\u001b[0m, in \u001b[0;36mloads\u001b[0;34m(s, cls, object_hook, parse_float, parse_int, parse_constant, object_pairs_hook, **kw)\u001b[0m\n\u001b[1;32m    343\u001b[0m \u001b[39mif\u001b[39;00m (\u001b[39mcls\u001b[39m \u001b[39mis\u001b[39;00m \u001b[39mNone\u001b[39;00m \u001b[39mand\u001b[39;00m object_hook \u001b[39mis\u001b[39;00m \u001b[39mNone\u001b[39;00m \u001b[39mand\u001b[39;00m\n\u001b[1;32m    344\u001b[0m         parse_int \u001b[39mis\u001b[39;00m \u001b[39mNone\u001b[39;00m \u001b[39mand\u001b[39;00m parse_float \u001b[39mis\u001b[39;00m \u001b[39mNone\u001b[39;00m \u001b[39mand\u001b[39;00m\n\u001b[1;32m    345\u001b[0m         parse_constant \u001b[39mis\u001b[39;00m \u001b[39mNone\u001b[39;00m \u001b[39mand\u001b[39;00m object_pairs_hook \u001b[39mis\u001b[39;00m \u001b[39mNone\u001b[39;00m \u001b[39mand\u001b[39;00m \u001b[39mnot\u001b[39;00m kw):\n\u001b[0;32m--> 346\u001b[0m     \u001b[39mreturn\u001b[39;00m _default_decoder\u001b[39m.\u001b[39;49mdecode(s)\n\u001b[1;32m    347\u001b[0m \u001b[39mif\u001b[39;00m \u001b[39mcls\u001b[39m \u001b[39mis\u001b[39;00m \u001b[39mNone\u001b[39;00m:\n",
      "File \u001b[0;32m~/opt/anaconda3/lib/python3.9/json/decoder.py:337\u001b[0m, in \u001b[0;36mJSONDecoder.decode\u001b[0;34m(self, s, _w)\u001b[0m\n\u001b[1;32m    333\u001b[0m \u001b[39m\"\"\"Return the Python representation of ``s`` (a ``str`` instance\u001b[39;00m\n\u001b[1;32m    334\u001b[0m \u001b[39mcontaining a JSON document).\u001b[39;00m\n\u001b[1;32m    335\u001b[0m \n\u001b[1;32m    336\u001b[0m \u001b[39m\"\"\"\u001b[39;00m\n\u001b[0;32m--> 337\u001b[0m obj, end \u001b[39m=\u001b[39m \u001b[39mself\u001b[39;49m\u001b[39m.\u001b[39;49mraw_decode(s, idx\u001b[39m=\u001b[39;49m_w(s, \u001b[39m0\u001b[39;49m)\u001b[39m.\u001b[39;49mend())\n\u001b[1;32m    338\u001b[0m end \u001b[39m=\u001b[39m _w(s, end)\u001b[39m.\u001b[39mend()\n",
      "File \u001b[0;32m~/opt/anaconda3/lib/python3.9/json/decoder.py:355\u001b[0m, in \u001b[0;36mJSONDecoder.raw_decode\u001b[0;34m(self, s, idx)\u001b[0m\n\u001b[1;32m    354\u001b[0m \u001b[39mexcept\u001b[39;00m \u001b[39mStopIteration\u001b[39;00m \u001b[39mas\u001b[39;00m err:\n\u001b[0;32m--> 355\u001b[0m     \u001b[39mraise\u001b[39;00m JSONDecodeError(\u001b[39m\"\u001b[39m\u001b[39mExpecting value\u001b[39m\u001b[39m\"\u001b[39m, s, err\u001b[39m.\u001b[39mvalue) \u001b[39mfrom\u001b[39;00m \u001b[39mNone\u001b[39m\n\u001b[1;32m    356\u001b[0m \u001b[39mreturn\u001b[39;00m obj, end\n",
      "\u001b[0;31mJSONDecodeError\u001b[0m: Expecting value: line 1 column 1 (char 0)",
      "\nDuring handling of the above exception, another exception occurred:\n",
      "\u001b[0;31mJSONDecodeError\u001b[0m                           Traceback (most recent call last)",
      "\u001b[1;32m/Users/daniilabbruzzese/Documents/Senior Year/DSCI 550/assignment 2/DSCI550-PixstoryMediaExtractionAndAnalysis/4_Tika Image Dockers/image_analysis.ipynb Cell 7\u001b[0m in \u001b[0;36m<cell line: 15>\u001b[0;34m()\u001b[0m\n\u001b[1;32m     <a href='vscode-notebook-cell:/Users/daniilabbruzzese/Documents/Senior%20Year/DSCI%20550/assignment%202/DSCI550-PixstoryMediaExtractionAndAnalysis/4_Tika%20Image%20Dockers/image_analysis.ipynb#X10sZmlsZQ%3D%3D?line=11'>12</a>\u001b[0m \u001b[39m#above doesn't work\u001b[39;00m\n\u001b[1;32m     <a href='vscode-notebook-cell:/Users/daniilabbruzzese/Documents/Senior%20Year/DSCI%20550/assignment%202/DSCI550-PixstoryMediaExtractionAndAnalysis/4_Tika%20Image%20Dockers/image_analysis.ipynb#X10sZmlsZQ%3D%3D?line=13'>14</a>\u001b[0m response \u001b[39m=\u001b[39m requests\u001b[39m.\u001b[39mget(url1)\n\u001b[0;32m---> <a href='vscode-notebook-cell:/Users/daniilabbruzzese/Documents/Senior%20Year/DSCI%20550/assignment%202/DSCI550-PixstoryMediaExtractionAndAnalysis/4_Tika%20Image%20Dockers/image_analysis.ipynb#X10sZmlsZQ%3D%3D?line=14'>15</a>\u001b[0m json_response \u001b[39m=\u001b[39m response\u001b[39m.\u001b[39;49mjson()\n\u001b[1;32m     <a href='vscode-notebook-cell:/Users/daniilabbruzzese/Documents/Senior%20Year/DSCI%20550/assignment%202/DSCI550-PixstoryMediaExtractionAndAnalysis/4_Tika%20Image%20Dockers/image_analysis.ipynb#X10sZmlsZQ%3D%3D?line=16'>17</a>\u001b[0m \u001b[39mprint\u001b[39m(json_response)\n",
      "File \u001b[0;32m~/opt/anaconda3/lib/python3.9/site-packages/requests/models.py:917\u001b[0m, in \u001b[0;36mResponse.json\u001b[0;34m(self, **kwargs)\u001b[0m\n\u001b[1;32m    915\u001b[0m     \u001b[39mraise\u001b[39;00m RequestsJSONDecodeError(e\u001b[39m.\u001b[39mmessage)\n\u001b[1;32m    916\u001b[0m \u001b[39melse\u001b[39;00m:\n\u001b[0;32m--> 917\u001b[0m     \u001b[39mraise\u001b[39;00m RequestsJSONDecodeError(e\u001b[39m.\u001b[39mmsg, e\u001b[39m.\u001b[39mdoc, e\u001b[39m.\u001b[39mpos)\n",
      "\u001b[0;31mJSONDecodeError\u001b[0m: [Errno Expecting value] <!DOCTYPE HTML PUBLIC \"-//W3C//DTD HTML 3.2 Final//EN\">\n<title>500 Internal Server Error</title>\n<h1>Internal Server Error</h1>\n<p>The server encountered an internal error and was unable to complete your request.  Either the server is overloaded or there is an error in the application.</p>\n: 0"
     ]
    }
   ],
   "source": [
    "#Testing this with a downloaded image - This doesn't work\n",
    "#Example image URL \"https://upload.wikimedia.org/wikipedia/commons/f/f6/Working_Dogs%2C_Handlers_Share_Special_Bond_DVIDS124942.jpg\"\n",
    "\n",
    "#My image URL is \"http://localhost:8888/Pixstory-image-161668402049563.jpg\"\n",
    "\n",
    "#skeleton format is 'http://localhost:8764/inception/v4/classify/image?topn=2&min_confidence=0.03&url=<URL>'\n",
    "\n",
    "url1 = 'http://localhost:8764/inception/v4/classify/image?topn=2&min_confidence=0.03&url=http://localhost:8888/Pixstory-image-161668402049563.jpg'\n",
    "\n",
    "url2 = 'http://localhost:8764/inception/v4/classify/image?topn=2&min_confidence=0.03&url=http://localhost:8888/Pixstory-image-162521751234631.jpeg'\n",
    "\n",
    "#above doesn't work\n",
    "\n",
    "response = requests.get(url1)\n",
    "json_response = response.json()\n",
    "\n",
    "print(json_response)\n"
   ]
  }
 ],
 "metadata": {
  "kernelspec": {
   "display_name": "Python 3.9.12 ('base')",
   "language": "python",
   "name": "python3"
  },
  "language_info": {
   "codemirror_mode": {
    "name": "ipython",
    "version": 3
   },
   "file_extension": ".py",
   "mimetype": "text/x-python",
   "name": "python",
   "nbconvert_exporter": "python",
   "pygments_lexer": "ipython3",
   "version": "3.9.12"
  },
  "orig_nbformat": 4,
  "vscode": {
   "interpreter": {
    "hash": "14b5f4a1e35b3543103fc71a08ac87c31dbc262e66f163b05b7ba3f77eb1e8a6"
   }
  }
 },
 "nbformat": 4,
 "nbformat_minor": 2
}
