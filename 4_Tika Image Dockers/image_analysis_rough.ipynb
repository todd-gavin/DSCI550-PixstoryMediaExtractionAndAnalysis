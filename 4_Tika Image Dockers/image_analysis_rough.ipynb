{
 "cells": [
  {
   "cell_type": "markdown",
   "metadata": {},
   "source": [
    "\n",
    "\n",
    "- From Mattman to another student on slack\n",
    "    - Don't build the xml file, just use the docker\n",
    "    - Run this: docker run -it -p 8764:8764 uscdatascience/inception-rest-tika\n",
    "    - This is how to test it: http://localhost:8764/inception/v4/classify/image?topn=2&min_confidence=0.03&url=https://upload.wikimedia.org/wikipedia/commons/f/f6/Working_Dogs%2C_Handlers_Share_Special_Bond_DVIDS124942.jpg\n",
    "    - more documentation here: https://cwiki.apache.org/confluence/display/TIKA/TikaAndVision#TikaAndVision-a.Usingdocker(Recommended)\n",
    "    - to find image caption, use this docker: docker run -it -p 8764:8764 uscdatascience/im2txt-rest-tika\n",
    "    - see this: https://github.com/USCDataScience/tika-dockers\n",
    "    - then see this: http://localhost:8764/inception/v3/caption/image?url=https://upload.wikimedia.org/w[…]s_Thames_Tigers_2007.jpg/1200px-Marcus_Thames_Tigers_2007.jpg\n",
    "    - additional documentation: https://cwiki.apache.org/confluence/display/TIKA/ImageCaption#ImageCaption-a.Usingdocker(Recommended)\n"
   ]
  },
  {
   "cell_type": "markdown",
   "metadata": {},
   "source": [
    "# Follow these steps to get started:\n",
    "\n",
    "Check out this if you get stuck: https://cwiki.apache.org/confluence/display/TIKA/TikaAndVision#TikaAndVision-a.Usingdocker(Recommended)\n",
    "\n",
    "- install the docker desktop app\n",
    "- pip install tensorflow\n",
    "- git clone https://github.com/tensorflow/models.git\n",
    "- export PYTHONPATH=\"$PYTHONPATH:`pwd`:`pwd`/slim\"\n",
    "- python -c 'import tensorflow, numpy, dataset; print(\"OK\")'\n",
    "- git clone https://github.com/USCDataScience/tika-dockers.git && cd tika-dockers\n",
    "- docker build -f InceptionRestDockerfile -t uscdatascience/inception-rest-tika .\n",
    "- docker run -p 8764:8764 -it uscdatascience/inception-rest-tika \n",
    "- Below is what Mattman said to do in slack. Note that the docker run command is very similar to the one we just did. I believe they are interchangable commands. \n",
    "- docker run -it -p 8764:8764 uscdatascience/inception-rest-tika\n",
    "- to test it, plug this into web browser: http://localhost:8764/inception/v4/classify/image?topn=2&min_confidence=0.03&url=https://upload.wikimedia.org/wikipedia/commons/f/f6/Working_Dogs%2C_Handlers_Share_Special_Bond_DVIDS124942.jpg \n",
    "- if the test doesn't work, Go to docker desktop and clear out: 1) any unused or old containers; and 2) delete your image for uscdatascience/inception-rest-tika. Try again. \n",
    "\n",
    "In order to get a url that points to your downloaded photos, do the follwing:\n",
    "- \"python -mhttp.server 8888\" in the directory where your photos are\n",
    "- Follow this format to point to a specific photo http://localhost:8888/Pixstory-image-161668402049563.jpg\n",
    "- here's another image to try: http://localhost:8888/Pixstory-image-162521751234631.jpeg\n",
    "- if you want to see the list of links to images: http://localhost:8888\n",
    "\n"
   ]
  },
  {
   "cell_type": "markdown",
   "metadata": {},
   "source": [
    "# URL Pointing to Downloaded Images STEPS \n",
    "\n",
    "In order to get a url that points to your downloaded photos, do the follwing:\n",
    "- \"python -mhttp.server 8888\" in the directory where your photos are\n",
    "- Follow this format to point to a specific photo http://localhost:8888/Pixstory-image-161668402049563.jpg\n",
    "- here's another image to try: http://localhost:8888/Pixstory-image-162521751234631.jpeg\n",
    "- if you want to see the list of links to images: http://localhost:8888\n",
    "\n",
    "\n",
    "This IP addressed worked at school: http://10.25.179.208:8888 AKA <your_local_ip>:8888.\n",
    "\n",
    "This IP address worked at home: http://192.168.1.13:8888\n",
    "\n",
    "Steps to do this: \n",
    "\n",
    "- Get IP address of your local machine: ipconfig (Windows) or ifconfig (Mac or Linux). \n",
    "\n",
    "\n",
    "\n"
   ]
  },
  {
   "cell_type": "code",
   "execution_count": 1,
   "metadata": {},
   "outputs": [],
   "source": [
    "import tika\n",
    "import tika.parser\n",
    "from tika import parser\n",
    "import requests\n",
    "import urllib.parse\n",
    "import pandas as pd\n",
    "from bs4 import BeautifulSoup\n",
    "import pandas as pd\n",
    "\n"
   ]
  },
  {
   "cell_type": "code",
   "execution_count": 12,
   "metadata": {},
   "outputs": [],
   "source": [
    "images_url_usc  = 'http://10.25.179.208:8888'\n",
    "\n",
    "images_url_home = 'http://192.168.1.13:8888'"
   ]
  },
  {
   "cell_type": "markdown",
   "metadata": {},
   "source": [
    "# Running Tests"
   ]
  },
  {
   "cell_type": "markdown",
   "metadata": {},
   "source": [
    "# Detect Object Tests"
   ]
  },
  {
   "cell_type": "code",
   "execution_count": 3,
   "metadata": {},
   "outputs": [
    {
     "name": "stdout",
     "output_type": "stream",
     "text": [
      "https://image.pixstory.com/optimized/Pixstory-image-165942680078373.jpeg\n"
     ]
    },
    {
     "ename": "JSONDecodeError",
     "evalue": "[Errno Expecting value] <!DOCTYPE HTML PUBLIC \"-//W3C//DTD HTML 3.2 Final//EN\">\n<title>404 Not Found</title>\n<h1>Not Found</h1>\n<p>The requested URL was not found on the server.  If you entered the URL manually please check your spelling and try again.</p>\n: 0",
     "output_type": "error",
     "traceback": [
      "\u001b[0;31m---------------------------------------------------------------------------\u001b[0m",
      "\u001b[0;31mJSONDecodeError\u001b[0m                           Traceback (most recent call last)",
      "File \u001b[0;32m~/opt/anaconda3/lib/python3.9/site-packages/requests/models.py:910\u001b[0m, in \u001b[0;36mResponse.json\u001b[0;34m(self, **kwargs)\u001b[0m\n\u001b[1;32m    909\u001b[0m \u001b[39mtry\u001b[39;00m:\n\u001b[0;32m--> 910\u001b[0m     \u001b[39mreturn\u001b[39;00m complexjson\u001b[39m.\u001b[39;49mloads(\u001b[39mself\u001b[39;49m\u001b[39m.\u001b[39;49mtext, \u001b[39m*\u001b[39;49m\u001b[39m*\u001b[39;49mkwargs)\n\u001b[1;32m    911\u001b[0m \u001b[39mexcept\u001b[39;00m JSONDecodeError \u001b[39mas\u001b[39;00m e:\n\u001b[1;32m    912\u001b[0m     \u001b[39m# Catch JSON-related errors and raise as requests.JSONDecodeError\u001b[39;00m\n\u001b[1;32m    913\u001b[0m     \u001b[39m# This aliases json.JSONDecodeError and simplejson.JSONDecodeError\u001b[39;00m\n",
      "File \u001b[0;32m~/opt/anaconda3/lib/python3.9/json/__init__.py:346\u001b[0m, in \u001b[0;36mloads\u001b[0;34m(s, cls, object_hook, parse_float, parse_int, parse_constant, object_pairs_hook, **kw)\u001b[0m\n\u001b[1;32m    343\u001b[0m \u001b[39mif\u001b[39;00m (\u001b[39mcls\u001b[39m \u001b[39mis\u001b[39;00m \u001b[39mNone\u001b[39;00m \u001b[39mand\u001b[39;00m object_hook \u001b[39mis\u001b[39;00m \u001b[39mNone\u001b[39;00m \u001b[39mand\u001b[39;00m\n\u001b[1;32m    344\u001b[0m         parse_int \u001b[39mis\u001b[39;00m \u001b[39mNone\u001b[39;00m \u001b[39mand\u001b[39;00m parse_float \u001b[39mis\u001b[39;00m \u001b[39mNone\u001b[39;00m \u001b[39mand\u001b[39;00m\n\u001b[1;32m    345\u001b[0m         parse_constant \u001b[39mis\u001b[39;00m \u001b[39mNone\u001b[39;00m \u001b[39mand\u001b[39;00m object_pairs_hook \u001b[39mis\u001b[39;00m \u001b[39mNone\u001b[39;00m \u001b[39mand\u001b[39;00m \u001b[39mnot\u001b[39;00m kw):\n\u001b[0;32m--> 346\u001b[0m     \u001b[39mreturn\u001b[39;00m _default_decoder\u001b[39m.\u001b[39;49mdecode(s)\n\u001b[1;32m    347\u001b[0m \u001b[39mif\u001b[39;00m \u001b[39mcls\u001b[39m \u001b[39mis\u001b[39;00m \u001b[39mNone\u001b[39;00m:\n",
      "File \u001b[0;32m~/opt/anaconda3/lib/python3.9/json/decoder.py:337\u001b[0m, in \u001b[0;36mJSONDecoder.decode\u001b[0;34m(self, s, _w)\u001b[0m\n\u001b[1;32m    333\u001b[0m \u001b[39m\"\"\"Return the Python representation of ``s`` (a ``str`` instance\u001b[39;00m\n\u001b[1;32m    334\u001b[0m \u001b[39mcontaining a JSON document).\u001b[39;00m\n\u001b[1;32m    335\u001b[0m \n\u001b[1;32m    336\u001b[0m \u001b[39m\"\"\"\u001b[39;00m\n\u001b[0;32m--> 337\u001b[0m obj, end \u001b[39m=\u001b[39m \u001b[39mself\u001b[39;49m\u001b[39m.\u001b[39;49mraw_decode(s, idx\u001b[39m=\u001b[39;49m_w(s, \u001b[39m0\u001b[39;49m)\u001b[39m.\u001b[39;49mend())\n\u001b[1;32m    338\u001b[0m end \u001b[39m=\u001b[39m _w(s, end)\u001b[39m.\u001b[39mend()\n",
      "File \u001b[0;32m~/opt/anaconda3/lib/python3.9/json/decoder.py:355\u001b[0m, in \u001b[0;36mJSONDecoder.raw_decode\u001b[0;34m(self, s, idx)\u001b[0m\n\u001b[1;32m    354\u001b[0m \u001b[39mexcept\u001b[39;00m \u001b[39mStopIteration\u001b[39;00m \u001b[39mas\u001b[39;00m err:\n\u001b[0;32m--> 355\u001b[0m     \u001b[39mraise\u001b[39;00m JSONDecodeError(\u001b[39m\"\u001b[39m\u001b[39mExpecting value\u001b[39m\u001b[39m\"\u001b[39m, s, err\u001b[39m.\u001b[39mvalue) \u001b[39mfrom\u001b[39;00m \u001b[39mNone\u001b[39m\n\u001b[1;32m    356\u001b[0m \u001b[39mreturn\u001b[39;00m obj, end\n",
      "\u001b[0;31mJSONDecodeError\u001b[0m: Expecting value: line 1 column 1 (char 0)",
      "\nDuring handling of the above exception, another exception occurred:\n",
      "\u001b[0;31mJSONDecodeError\u001b[0m                           Traceback (most recent call last)",
      "\u001b[1;32m/Users/daniilabbruzzese/Documents/Senior Year/DSCI 550/assignment 2/DSCI550-PixstoryMediaExtractionAndAnalysis/4_Tika Image Dockers/image_analysis.ipynb Cell 8\u001b[0m in \u001b[0;36m<cell line: 26>\u001b[0;34m()\u001b[0m\n\u001b[1;32m     <a href='vscode-notebook-cell:/Users/daniilabbruzzese/Documents/Senior%20Year/DSCI%20550/assignment%202/DSCI550-PixstoryMediaExtractionAndAnalysis/4_Tika%20Image%20Dockers/image_analysis.ipynb#X10sZmlsZQ%3D%3D?line=22'>23</a>\u001b[0m \u001b[39m#another link is \u001b[39;00m\n\u001b[1;32m     <a href='vscode-notebook-cell:/Users/daniilabbruzzese/Documents/Senior%20Year/DSCI%20550/assignment%202/DSCI550-PixstoryMediaExtractionAndAnalysis/4_Tika%20Image%20Dockers/image_analysis.ipynb#X10sZmlsZQ%3D%3D?line=24'>25</a>\u001b[0m response \u001b[39m=\u001b[39m requests\u001b[39m.\u001b[39mget(url3)\n\u001b[0;32m---> <a href='vscode-notebook-cell:/Users/daniilabbruzzese/Documents/Senior%20Year/DSCI%20550/assignment%202/DSCI550-PixstoryMediaExtractionAndAnalysis/4_Tika%20Image%20Dockers/image_analysis.ipynb#X10sZmlsZQ%3D%3D?line=25'>26</a>\u001b[0m json_response \u001b[39m=\u001b[39m response\u001b[39m.\u001b[39;49mjson()\n\u001b[1;32m     <a href='vscode-notebook-cell:/Users/daniilabbruzzese/Documents/Senior%20Year/DSCI%20550/assignment%202/DSCI550-PixstoryMediaExtractionAndAnalysis/4_Tika%20Image%20Dockers/image_analysis.ipynb#X10sZmlsZQ%3D%3D?line=27'>28</a>\u001b[0m \u001b[39mprint\u001b[39m(json_response)\n",
      "File \u001b[0;32m~/opt/anaconda3/lib/python3.9/site-packages/requests/models.py:917\u001b[0m, in \u001b[0;36mResponse.json\u001b[0;34m(self, **kwargs)\u001b[0m\n\u001b[1;32m    915\u001b[0m     \u001b[39mraise\u001b[39;00m RequestsJSONDecodeError(e\u001b[39m.\u001b[39mmessage)\n\u001b[1;32m    916\u001b[0m \u001b[39melse\u001b[39;00m:\n\u001b[0;32m--> 917\u001b[0m     \u001b[39mraise\u001b[39;00m RequestsJSONDecodeError(e\u001b[39m.\u001b[39mmsg, e\u001b[39m.\u001b[39mdoc, e\u001b[39m.\u001b[39mpos)\n",
      "\u001b[0;31mJSONDecodeError\u001b[0m: [Errno Expecting value] <!DOCTYPE HTML PUBLIC \"-//W3C//DTD HTML 3.2 Final//EN\">\n<title>404 Not Found</title>\n<h1>Not Found</h1>\n<p>The requested URL was not found on the server.  If you entered the URL manually please check your spelling and try again.</p>\n: 0"
     ]
    }
   ],
   "source": [
    "#docker run -it -p 8764:8764 uscdatascience/inception-rest-tika\n",
    "\n",
    "#testing this with a pixtosry image online - it works! Even when the test link doesn't work.... I wonder why\n",
    "\n",
    "\n",
    "# Load the CSV file into a pandas DataFrame\n",
    "df = pd.read_csv('../Datasets/Master_Dataset_Raw.csv')\n",
    "\n",
    "\n",
    "# Define a lambda function to modify the URLs\n",
    "modify_url = lambda url: url.replace(\".com/\", \".com/optimized/\")\n",
    "\n",
    "# Apply the lambda function to the \"Media\" column of the DataFrame\n",
    "df['Media'] = df['Media'].apply(modify_url)\n",
    "\n",
    "first_media = df.loc[0, 'Media']\n",
    "print(first_media)\n",
    "\n",
    "\n",
    "#link is https://image.pixstory.com/optimized/Pixstory-image-165942680078373.jpeg\n",
    "#modified link is 'http://localhost:8764/inception/v4/classify/image?topn=2&min_confidence=0.03&url=https://image.pixstory.com/optimized/Pixstory-image-165942680078373.jpeg'\n",
    "\n",
    "url3 = 'http://localhost:8764/inception/v4/classify/image?topn=2&min_confidence=0.03&url=https://image.pixstory.com/optimized/Pixstory-image-165942680078373.jpeg'\n",
    "\n",
    "#another link is \n",
    "\n",
    "response = requests.get(url3)\n",
    "json_response = response.json()\n",
    "\n",
    "print(json_response)\n",
    "\n"
   ]
  },
  {
   "cell_type": "code",
   "execution_count": 11,
   "metadata": {},
   "outputs": [
    {
     "ename": "JSONDecodeError",
     "evalue": "[Errno Expecting value] <!DOCTYPE HTML PUBLIC \"-//W3C//DTD HTML 3.2 Final//EN\">\n<title>404 Not Found</title>\n<h1>Not Found</h1>\n<p>The requested URL was not found on the server.  If you entered the URL manually please check your spelling and try again.</p>\n: 0",
     "output_type": "error",
     "traceback": [
      "\u001b[0;31m---------------------------------------------------------------------------\u001b[0m",
      "\u001b[0;31mJSONDecodeError\u001b[0m                           Traceback (most recent call last)",
      "File \u001b[0;32m~/opt/anaconda3/lib/python3.9/site-packages/requests/models.py:910\u001b[0m, in \u001b[0;36mResponse.json\u001b[0;34m(self, **kwargs)\u001b[0m\n\u001b[1;32m    909\u001b[0m \u001b[39mtry\u001b[39;00m:\n\u001b[0;32m--> 910\u001b[0m     \u001b[39mreturn\u001b[39;00m complexjson\u001b[39m.\u001b[39;49mloads(\u001b[39mself\u001b[39;49m\u001b[39m.\u001b[39;49mtext, \u001b[39m*\u001b[39;49m\u001b[39m*\u001b[39;49mkwargs)\n\u001b[1;32m    911\u001b[0m \u001b[39mexcept\u001b[39;00m JSONDecodeError \u001b[39mas\u001b[39;00m e:\n\u001b[1;32m    912\u001b[0m     \u001b[39m# Catch JSON-related errors and raise as requests.JSONDecodeError\u001b[39;00m\n\u001b[1;32m    913\u001b[0m     \u001b[39m# This aliases json.JSONDecodeError and simplejson.JSONDecodeError\u001b[39;00m\n",
      "File \u001b[0;32m~/opt/anaconda3/lib/python3.9/json/__init__.py:346\u001b[0m, in \u001b[0;36mloads\u001b[0;34m(s, cls, object_hook, parse_float, parse_int, parse_constant, object_pairs_hook, **kw)\u001b[0m\n\u001b[1;32m    343\u001b[0m \u001b[39mif\u001b[39;00m (\u001b[39mcls\u001b[39m \u001b[39mis\u001b[39;00m \u001b[39mNone\u001b[39;00m \u001b[39mand\u001b[39;00m object_hook \u001b[39mis\u001b[39;00m \u001b[39mNone\u001b[39;00m \u001b[39mand\u001b[39;00m\n\u001b[1;32m    344\u001b[0m         parse_int \u001b[39mis\u001b[39;00m \u001b[39mNone\u001b[39;00m \u001b[39mand\u001b[39;00m parse_float \u001b[39mis\u001b[39;00m \u001b[39mNone\u001b[39;00m \u001b[39mand\u001b[39;00m\n\u001b[1;32m    345\u001b[0m         parse_constant \u001b[39mis\u001b[39;00m \u001b[39mNone\u001b[39;00m \u001b[39mand\u001b[39;00m object_pairs_hook \u001b[39mis\u001b[39;00m \u001b[39mNone\u001b[39;00m \u001b[39mand\u001b[39;00m \u001b[39mnot\u001b[39;00m kw):\n\u001b[0;32m--> 346\u001b[0m     \u001b[39mreturn\u001b[39;00m _default_decoder\u001b[39m.\u001b[39;49mdecode(s)\n\u001b[1;32m    347\u001b[0m \u001b[39mif\u001b[39;00m \u001b[39mcls\u001b[39m \u001b[39mis\u001b[39;00m \u001b[39mNone\u001b[39;00m:\n",
      "File \u001b[0;32m~/opt/anaconda3/lib/python3.9/json/decoder.py:337\u001b[0m, in \u001b[0;36mJSONDecoder.decode\u001b[0;34m(self, s, _w)\u001b[0m\n\u001b[1;32m    333\u001b[0m \u001b[39m\"\"\"Return the Python representation of ``s`` (a ``str`` instance\u001b[39;00m\n\u001b[1;32m    334\u001b[0m \u001b[39mcontaining a JSON document).\u001b[39;00m\n\u001b[1;32m    335\u001b[0m \n\u001b[1;32m    336\u001b[0m \u001b[39m\"\"\"\u001b[39;00m\n\u001b[0;32m--> 337\u001b[0m obj, end \u001b[39m=\u001b[39m \u001b[39mself\u001b[39;49m\u001b[39m.\u001b[39;49mraw_decode(s, idx\u001b[39m=\u001b[39;49m_w(s, \u001b[39m0\u001b[39;49m)\u001b[39m.\u001b[39;49mend())\n\u001b[1;32m    338\u001b[0m end \u001b[39m=\u001b[39m _w(s, end)\u001b[39m.\u001b[39mend()\n",
      "File \u001b[0;32m~/opt/anaconda3/lib/python3.9/json/decoder.py:355\u001b[0m, in \u001b[0;36mJSONDecoder.raw_decode\u001b[0;34m(self, s, idx)\u001b[0m\n\u001b[1;32m    354\u001b[0m \u001b[39mexcept\u001b[39;00m \u001b[39mStopIteration\u001b[39;00m \u001b[39mas\u001b[39;00m err:\n\u001b[0;32m--> 355\u001b[0m     \u001b[39mraise\u001b[39;00m JSONDecodeError(\u001b[39m\"\u001b[39m\u001b[39mExpecting value\u001b[39m\u001b[39m\"\u001b[39m, s, err\u001b[39m.\u001b[39mvalue) \u001b[39mfrom\u001b[39;00m \u001b[39mNone\u001b[39m\n\u001b[1;32m    356\u001b[0m \u001b[39mreturn\u001b[39;00m obj, end\n",
      "\u001b[0;31mJSONDecodeError\u001b[0m: Expecting value: line 1 column 1 (char 0)",
      "\nDuring handling of the above exception, another exception occurred:\n",
      "\u001b[0;31mJSONDecodeError\u001b[0m                           Traceback (most recent call last)",
      "\u001b[1;32m/Users/daniilabbruzzese/Documents/Senior Year/DSCI 550/assignment 2/DSCI550-PixstoryMediaExtractionAndAnalysis/4_Tika Image Dockers/image_analysis.ipynb Cell 9\u001b[0m in \u001b[0;36m<cell line: 12>\u001b[0;34m()\u001b[0m\n\u001b[1;32m      <a href='vscode-notebook-cell:/Users/daniilabbruzzese/Documents/Senior%20Year/DSCI%20550/assignment%202/DSCI550-PixstoryMediaExtractionAndAnalysis/4_Tika%20Image%20Dockers/image_analysis.ipynb#X11sZmlsZQ%3D%3D?line=7'>8</a>\u001b[0m url3 \u001b[39m=\u001b[39m \u001b[39m'\u001b[39m\u001b[39mhttp://localhost:8764/inception/v4/classify/image?topn=2&min_confidence=0.03&url=http://10.25.179.208:8888/Pixstory-image-164318304274781.png\u001b[39m\u001b[39m'\u001b[39m\n\u001b[1;32m     <a href='vscode-notebook-cell:/Users/daniilabbruzzese/Documents/Senior%20Year/DSCI%20550/assignment%202/DSCI550-PixstoryMediaExtractionAndAnalysis/4_Tika%20Image%20Dockers/image_analysis.ipynb#X11sZmlsZQ%3D%3D?line=10'>11</a>\u001b[0m response \u001b[39m=\u001b[39m requests\u001b[39m.\u001b[39mget(url3)\n\u001b[0;32m---> <a href='vscode-notebook-cell:/Users/daniilabbruzzese/Documents/Senior%20Year/DSCI%20550/assignment%202/DSCI550-PixstoryMediaExtractionAndAnalysis/4_Tika%20Image%20Dockers/image_analysis.ipynb#X11sZmlsZQ%3D%3D?line=11'>12</a>\u001b[0m json_response \u001b[39m=\u001b[39m response\u001b[39m.\u001b[39;49mjson()\n\u001b[1;32m     <a href='vscode-notebook-cell:/Users/daniilabbruzzese/Documents/Senior%20Year/DSCI%20550/assignment%202/DSCI550-PixstoryMediaExtractionAndAnalysis/4_Tika%20Image%20Dockers/image_analysis.ipynb#X11sZmlsZQ%3D%3D?line=13'>14</a>\u001b[0m \u001b[39mprint\u001b[39m(json_response)\n",
      "File \u001b[0;32m~/opt/anaconda3/lib/python3.9/site-packages/requests/models.py:917\u001b[0m, in \u001b[0;36mResponse.json\u001b[0;34m(self, **kwargs)\u001b[0m\n\u001b[1;32m    915\u001b[0m     \u001b[39mraise\u001b[39;00m RequestsJSONDecodeError(e\u001b[39m.\u001b[39mmessage)\n\u001b[1;32m    916\u001b[0m \u001b[39melse\u001b[39;00m:\n\u001b[0;32m--> 917\u001b[0m     \u001b[39mraise\u001b[39;00m RequestsJSONDecodeError(e\u001b[39m.\u001b[39mmsg, e\u001b[39m.\u001b[39mdoc, e\u001b[39m.\u001b[39mpos)\n",
      "\u001b[0;31mJSONDecodeError\u001b[0m: [Errno Expecting value] <!DOCTYPE HTML PUBLIC \"-//W3C//DTD HTML 3.2 Final//EN\">\n<title>404 Not Found</title>\n<h1>Not Found</h1>\n<p>The requested URL was not found on the server.  If you entered the URL manually please check your spelling and try again.</p>\n: 0"
     ]
    }
   ],
   "source": [
    "#Testing with downloaded image\n",
    "\n",
    "#Example image URL \"http://10.25.179.208:8888/Pixstory-image-164318304274781.png\"\n",
    "\n",
    "#Modified URL skeleton format 'http://localhost:8764/inception/v4/classify/image?topn=2&min_confidence=0.03&url=<URL>'\n",
    "\n",
    " #this one works!!!!!\n",
    "url3_usc = 'http://localhost:8764/inception/v4/classify/image?topn=2&min_confidence=0.03&url=http://10.25.179.208:8888/Pixstory-image-164318304274781.png'\n",
    "\n",
    "url3 = 'http://localhost:8764/inception/v4/classify/image?topn=2&min_confidence=0.03&url=http://192.168.1.13:8888/Pixstory-image-164318304274781.png'\n",
    "\n",
    "response = requests.get(url3)\n",
    "json_response = response.json()\n",
    "\n",
    "print(json_response)\n"
   ]
  },
  {
   "cell_type": "markdown",
   "metadata": {},
   "source": [
    "# Generated Image Caption Tests"
   ]
  },
  {
   "cell_type": "code",
   "execution_count": 4,
   "metadata": {},
   "outputs": [
    {
     "name": "stdout",
     "output_type": "stream",
     "text": [
      "{'captions': [{'confidence': 3.2656944553199396e-05, 'sentence': 'an old fashioned clock sitting on top of a table .'}, {'confidence': 2.4475188480119203e-05, 'sentence': 'an old fashioned clock sitting in the middle of a field .'}, {'confidence': 1.5979679814940473e-05, 'sentence': 'an old fashioned clock sitting on top of a wooden table .'}], 'beam_size': 3, 'max_caption_length': 20, 'time': {'read': 31, 'captioning': 1250, 'units': 'ms'}}\n",
      "an old fashioned clock sitting on top of a table .\n"
     ]
    }
   ],
   "source": [
    "#docker run -it -p 8764:8764 uscdatascience/im2txt-rest-tika\n",
    "\n",
    "#test link: http://localhost:8764/inception/v3/caption/image?url=https://upload.wikimedia.org/wikipedia/commons/thumb/1/1d/Marcus_Thames_Tigers_2007.jpg/1200px-Marcus_Thames_Tigers_2007.jpg\n",
    "\n",
    "#skeleton modified URL: http://localhost:8764/inception/v3/caption/image?url=<URL>\n",
    "\n",
    "url_usc = 'http://localhost:8764/inception/v3/caption/image?url=http://10.25.179.208:8888/Pixstory-image-164318304274781.png'\n",
    "url3 = 'http://localhost:8764/inception/v3/caption/image?url=http://192.168.1.13:8888/Pixstory-image-164318304274781.png'\n",
    "\n",
    "response = requests.get(url3)\n",
    "json_response = response.json()\n",
    "\n",
    "print(json_response)\n",
    "\n",
    "# Extract the first listed sentence\n",
    "first_sentence = json_response['captions'][0]['sentence']\n",
    "\n",
    "print(first_sentence)\n"
   ]
  },
  {
   "cell_type": "markdown",
   "metadata": {},
   "source": [
    "# Image Analysis Starts Here"
   ]
  },
  {
   "cell_type": "markdown",
   "metadata": {},
   "source": [
    "# DF of Detect Object Using a List of URLs"
   ]
  },
  {
   "cell_type": "code",
   "execution_count": 8,
   "metadata": {},
   "outputs": [
    {
     "ename": "JSONDecodeError",
     "evalue": "[Errno Expecting value] <!DOCTYPE HTML PUBLIC \"-//W3C//DTD HTML 3.2 Final//EN\">\n<title>404 Not Found</title>\n<h1>Not Found</h1>\n<p>The requested URL was not found on the server.  If you entered the URL manually please check your spelling and try again.</p>\n: 0",
     "output_type": "error",
     "traceback": [
      "\u001b[0;31m---------------------------------------------------------------------------\u001b[0m",
      "\u001b[0;31mJSONDecodeError\u001b[0m                           Traceback (most recent call last)",
      "File \u001b[0;32m~/opt/anaconda3/lib/python3.9/site-packages/requests/models.py:910\u001b[0m, in \u001b[0;36mResponse.json\u001b[0;34m(self, **kwargs)\u001b[0m\n\u001b[1;32m    909\u001b[0m \u001b[39mtry\u001b[39;00m:\n\u001b[0;32m--> 910\u001b[0m     \u001b[39mreturn\u001b[39;00m complexjson\u001b[39m.\u001b[39;49mloads(\u001b[39mself\u001b[39;49m\u001b[39m.\u001b[39;49mtext, \u001b[39m*\u001b[39;49m\u001b[39m*\u001b[39;49mkwargs)\n\u001b[1;32m    911\u001b[0m \u001b[39mexcept\u001b[39;00m JSONDecodeError \u001b[39mas\u001b[39;00m e:\n\u001b[1;32m    912\u001b[0m     \u001b[39m# Catch JSON-related errors and raise as requests.JSONDecodeError\u001b[39;00m\n\u001b[1;32m    913\u001b[0m     \u001b[39m# This aliases json.JSONDecodeError and simplejson.JSONDecodeError\u001b[39;00m\n",
      "File \u001b[0;32m~/opt/anaconda3/lib/python3.9/json/__init__.py:346\u001b[0m, in \u001b[0;36mloads\u001b[0;34m(s, cls, object_hook, parse_float, parse_int, parse_constant, object_pairs_hook, **kw)\u001b[0m\n\u001b[1;32m    343\u001b[0m \u001b[39mif\u001b[39;00m (\u001b[39mcls\u001b[39m \u001b[39mis\u001b[39;00m \u001b[39mNone\u001b[39;00m \u001b[39mand\u001b[39;00m object_hook \u001b[39mis\u001b[39;00m \u001b[39mNone\u001b[39;00m \u001b[39mand\u001b[39;00m\n\u001b[1;32m    344\u001b[0m         parse_int \u001b[39mis\u001b[39;00m \u001b[39mNone\u001b[39;00m \u001b[39mand\u001b[39;00m parse_float \u001b[39mis\u001b[39;00m \u001b[39mNone\u001b[39;00m \u001b[39mand\u001b[39;00m\n\u001b[1;32m    345\u001b[0m         parse_constant \u001b[39mis\u001b[39;00m \u001b[39mNone\u001b[39;00m \u001b[39mand\u001b[39;00m object_pairs_hook \u001b[39mis\u001b[39;00m \u001b[39mNone\u001b[39;00m \u001b[39mand\u001b[39;00m \u001b[39mnot\u001b[39;00m kw):\n\u001b[0;32m--> 346\u001b[0m     \u001b[39mreturn\u001b[39;00m _default_decoder\u001b[39m.\u001b[39;49mdecode(s)\n\u001b[1;32m    347\u001b[0m \u001b[39mif\u001b[39;00m \u001b[39mcls\u001b[39m \u001b[39mis\u001b[39;00m \u001b[39mNone\u001b[39;00m:\n",
      "File \u001b[0;32m~/opt/anaconda3/lib/python3.9/json/decoder.py:337\u001b[0m, in \u001b[0;36mJSONDecoder.decode\u001b[0;34m(self, s, _w)\u001b[0m\n\u001b[1;32m    333\u001b[0m \u001b[39m\"\"\"Return the Python representation of ``s`` (a ``str`` instance\u001b[39;00m\n\u001b[1;32m    334\u001b[0m \u001b[39mcontaining a JSON document).\u001b[39;00m\n\u001b[1;32m    335\u001b[0m \n\u001b[1;32m    336\u001b[0m \u001b[39m\"\"\"\u001b[39;00m\n\u001b[0;32m--> 337\u001b[0m obj, end \u001b[39m=\u001b[39m \u001b[39mself\u001b[39;49m\u001b[39m.\u001b[39;49mraw_decode(s, idx\u001b[39m=\u001b[39;49m_w(s, \u001b[39m0\u001b[39;49m)\u001b[39m.\u001b[39;49mend())\n\u001b[1;32m    338\u001b[0m end \u001b[39m=\u001b[39m _w(s, end)\u001b[39m.\u001b[39mend()\n",
      "File \u001b[0;32m~/opt/anaconda3/lib/python3.9/json/decoder.py:355\u001b[0m, in \u001b[0;36mJSONDecoder.raw_decode\u001b[0;34m(self, s, idx)\u001b[0m\n\u001b[1;32m    354\u001b[0m \u001b[39mexcept\u001b[39;00m \u001b[39mStopIteration\u001b[39;00m \u001b[39mas\u001b[39;00m err:\n\u001b[0;32m--> 355\u001b[0m     \u001b[39mraise\u001b[39;00m JSONDecodeError(\u001b[39m\"\u001b[39m\u001b[39mExpecting value\u001b[39m\u001b[39m\"\u001b[39m, s, err\u001b[39m.\u001b[39mvalue) \u001b[39mfrom\u001b[39;00m \u001b[39mNone\u001b[39m\n\u001b[1;32m    356\u001b[0m \u001b[39mreturn\u001b[39;00m obj, end\n",
      "\u001b[0;31mJSONDecodeError\u001b[0m: Expecting value: line 1 column 1 (char 0)",
      "\nDuring handling of the above exception, another exception occurred:\n",
      "\u001b[0;31mJSONDecodeError\u001b[0m                           Traceback (most recent call last)",
      "\u001b[1;32m/Users/daniilabbruzzese/Documents/Senior Year/DSCI 550/assignment 2/DSCI550-PixstoryMediaExtractionAndAnalysis/4_Tika Image Dockers/image_analysis.ipynb Cell 14\u001b[0m in \u001b[0;36m<cell line: 14>\u001b[0;34m()\u001b[0m\n\u001b[1;32m     <a href='vscode-notebook-cell:/Users/daniilabbruzzese/Documents/Senior%20Year/DSCI%20550/assignment%202/DSCI550-PixstoryMediaExtractionAndAnalysis/4_Tika%20Image%20Dockers/image_analysis.ipynb#X16sZmlsZQ%3D%3D?line=19'>20</a>\u001b[0m response \u001b[39m=\u001b[39m requests\u001b[39m.\u001b[39mget(api_url)\n\u001b[1;32m     <a href='vscode-notebook-cell:/Users/daniilabbruzzese/Documents/Senior%20Year/DSCI%20550/assignment%202/DSCI550-PixstoryMediaExtractionAndAnalysis/4_Tika%20Image%20Dockers/image_analysis.ipynb#X16sZmlsZQ%3D%3D?line=21'>22</a>\u001b[0m \u001b[39m# Parse the JSON response\u001b[39;00m\n\u001b[0;32m---> <a href='vscode-notebook-cell:/Users/daniilabbruzzese/Documents/Senior%20Year/DSCI%20550/assignment%202/DSCI550-PixstoryMediaExtractionAndAnalysis/4_Tika%20Image%20Dockers/image_analysis.ipynb#X16sZmlsZQ%3D%3D?line=22'>23</a>\u001b[0m json_response \u001b[39m=\u001b[39m response\u001b[39m.\u001b[39;49mjson()\n\u001b[1;32m     <a href='vscode-notebook-cell:/Users/daniilabbruzzese/Documents/Senior%20Year/DSCI%20550/assignment%202/DSCI550-PixstoryMediaExtractionAndAnalysis/4_Tika%20Image%20Dockers/image_analysis.ipynb#X16sZmlsZQ%3D%3D?line=24'>25</a>\u001b[0m \u001b[39m# Extract the top two labels and their confidences from the JSON response\u001b[39;00m\n\u001b[1;32m     <a href='vscode-notebook-cell:/Users/daniilabbruzzese/Documents/Senior%20Year/DSCI%20550/assignment%202/DSCI550-PixstoryMediaExtractionAndAnalysis/4_Tika%20Image%20Dockers/image_analysis.ipynb#X16sZmlsZQ%3D%3D?line=25'>26</a>\u001b[0m classnames \u001b[39m=\u001b[39m json_response[\u001b[39m'\u001b[39m\u001b[39mclassnames\u001b[39m\u001b[39m'\u001b[39m]\n",
      "File \u001b[0;32m~/opt/anaconda3/lib/python3.9/site-packages/requests/models.py:917\u001b[0m, in \u001b[0;36mResponse.json\u001b[0;34m(self, **kwargs)\u001b[0m\n\u001b[1;32m    915\u001b[0m     \u001b[39mraise\u001b[39;00m RequestsJSONDecodeError(e\u001b[39m.\u001b[39mmessage)\n\u001b[1;32m    916\u001b[0m \u001b[39melse\u001b[39;00m:\n\u001b[0;32m--> 917\u001b[0m     \u001b[39mraise\u001b[39;00m RequestsJSONDecodeError(e\u001b[39m.\u001b[39mmsg, e\u001b[39m.\u001b[39mdoc, e\u001b[39m.\u001b[39mpos)\n",
      "\u001b[0;31mJSONDecodeError\u001b[0m: [Errno Expecting value] <!DOCTYPE HTML PUBLIC \"-//W3C//DTD HTML 3.2 Final//EN\">\n<title>404 Not Found</title>\n<h1>Not Found</h1>\n<p>The requested URL was not found on the server.  If you entered the URL manually please check your spelling and try again.</p>\n: 0"
     ]
    }
   ],
   "source": [
    "# This works!\n",
    "\n",
    "# List of image URLs\n",
    "image_urls = [\n",
    "    'http://192.168.1.13:8888/Pixstory-image-164318304274781.png',\n",
    "    'http://192.168.1.13:8888/Pixstory-image-161668402049563.jpg',\n",
    "    'http://192.168.1.13:8888/Pixstory-image-161681318757326.jpg'\n",
    "\n",
    "]\n",
    "# List to store the classification results\n",
    "results = []\n",
    "\n",
    "# Loop through the image URLs and classify each image\n",
    "for url in image_urls:\n",
    "\n",
    "    # Construct the API URL for the image classification\n",
    "    api_url = 'http://localhost:8764/inception/v4/classify/image?topn=2&min_confidence=0.03&url=' + url\n",
    "\n",
    "#http://localhost:8764/inception/v4/classify/image?topn=2&min_confidence=0.03&url=http://192.168.1.13:8888/Pixstory-image-164318304274781.png\n",
    "\n",
    "#http://localhost:8764/inception/v3/caption/image?url=http://192.168.1.13:8888/Pixstory-image-164318304274781.png\n",
    "\n",
    "    # Send the API request\n",
    "    response = requests.get(api_url)\n",
    "\n",
    "    # Parse the JSON response\n",
    "    json_response = response.json()\n",
    "\n",
    "    # Extract the top two labels and their confidences from the JSON response\n",
    "    classnames = json_response['classnames']\n",
    "    confidence = json_response['confidence']\n",
    "\n",
    "\n",
    "    # Add the results to the list\n",
    "    results.append({\n",
    "        'api_url': api_url,\n",
    "        'url': url,\n",
    "        'detect object': classnames,\n",
    "    \n",
    "\n",
    "    })\n",
    "\n",
    "# Create a Pandas dataframe from the list of dictionaries\n",
    "df = pd.DataFrame(results)\n",
    "\n",
    "\n",
    "df\n"
   ]
  },
  {
   "cell_type": "markdown",
   "metadata": {},
   "source": [
    "# Df of image captions from list of links"
   ]
  },
  {
   "cell_type": "code",
   "execution_count": 10,
   "metadata": {},
   "outputs": [
    {
     "data": {
      "text/html": [
       "<div>\n",
       "<style scoped>\n",
       "    .dataframe tbody tr th:only-of-type {\n",
       "        vertical-align: middle;\n",
       "    }\n",
       "\n",
       "    .dataframe tbody tr th {\n",
       "        vertical-align: top;\n",
       "    }\n",
       "\n",
       "    .dataframe thead th {\n",
       "        text-align: right;\n",
       "    }\n",
       "</style>\n",
       "<table border=\"1\" class=\"dataframe\">\n",
       "  <thead>\n",
       "    <tr style=\"text-align: right;\">\n",
       "      <th></th>\n",
       "      <th>api_url2</th>\n",
       "      <th>url</th>\n",
       "      <th>caption</th>\n",
       "    </tr>\n",
       "  </thead>\n",
       "  <tbody>\n",
       "    <tr>\n",
       "      <th>0</th>\n",
       "      <td>http://localhost:8764/inception/v3/caption/image?url=http://192.168.1.13:8888/Pixstory-image-164318304274781.png</td>\n",
       "      <td>http://192.168.1.13:8888/Pixstory-image-164318304274781.png</td>\n",
       "      <td>an old fashioned clock sitting on top of a table .</td>\n",
       "    </tr>\n",
       "    <tr>\n",
       "      <th>1</th>\n",
       "      <td>http://localhost:8764/inception/v3/caption/image?url=http://192.168.1.13:8888/Pixstory-image-161668402049563.jpg</td>\n",
       "      <td>http://192.168.1.13:8888/Pixstory-image-161668402049563.jpg</td>\n",
       "      <td>a bunch of bananas that are on a table .</td>\n",
       "    </tr>\n",
       "    <tr>\n",
       "      <th>2</th>\n",
       "      <td>http://localhost:8764/inception/v3/caption/image?url=http://192.168.1.13:8888/Pixstory-image-161681318757326.jpg</td>\n",
       "      <td>http://192.168.1.13:8888/Pixstory-image-161681318757326.jpg</td>\n",
       "      <td>a man sitting on a couch with a laptop .</td>\n",
       "    </tr>\n",
       "  </tbody>\n",
       "</table>\n",
       "</div>"
      ],
      "text/plain": [
       "                                                                                                           api_url2  \\\n",
       "0  http://localhost:8764/inception/v3/caption/image?url=http://192.168.1.13:8888/Pixstory-image-164318304274781.png   \n",
       "1  http://localhost:8764/inception/v3/caption/image?url=http://192.168.1.13:8888/Pixstory-image-161668402049563.jpg   \n",
       "2  http://localhost:8764/inception/v3/caption/image?url=http://192.168.1.13:8888/Pixstory-image-161681318757326.jpg   \n",
       "\n",
       "                                                           url  \\\n",
       "0  http://192.168.1.13:8888/Pixstory-image-164318304274781.png   \n",
       "1  http://192.168.1.13:8888/Pixstory-image-161668402049563.jpg   \n",
       "2  http://192.168.1.13:8888/Pixstory-image-161681318757326.jpg   \n",
       "\n",
       "                                              caption  \n",
       "0  an old fashioned clock sitting on top of a table .  \n",
       "1            a bunch of bananas that are on a table .  \n",
       "2            a man sitting on a couch with a laptop .  "
      ]
     },
     "execution_count": 10,
     "metadata": {},
     "output_type": "execute_result"
    }
   ],
   "source": [
    "# This works!\n",
    "\n",
    "# List of image URLs\n",
    "image_urls = [\n",
    "    'http://192.168.1.13:8888/Pixstory-image-164318304274781.png',\n",
    "    'http://192.168.1.13:8888/Pixstory-image-161668402049563.jpg',\n",
    "    'http://192.168.1.13:8888/Pixstory-image-161681318757326.jpg'\n",
    "\n",
    "]\n",
    "# List to store the classification results\n",
    "results = []\n",
    "\n",
    "# Loop through the image URLs and classify each image\n",
    "for url in image_urls:\n",
    "\n",
    "    # Construct the API URL for the image classification\n",
    "    api2_url = 'http://localhost:8764/inception/v3/caption/image?url=' + url\n",
    "\n",
    "    # Send the API request\n",
    "    response = requests.get(api2_url)\n",
    "\n",
    "    # Parse the JSON response\n",
    "    json_response = response.json()\n",
    "\n",
    "    # Extract the first listed sentence\n",
    "    first_sentence = json_response['captions'][0]['sentence']\n",
    "\n",
    "    # Add the results to the list\n",
    "    results.append({\n",
    "        'api_url2': api2_url,\n",
    "        'url': url, \n",
    "        'caption':first_sentence\n",
    "    })\n",
    "\n",
    "\n",
    "# Create a Pandas dataframe from the list of dictionaries\n",
    "df2 = pd.DataFrame(results)\n",
    "\n",
    "# Set display options to show all columns and avoid truncation of string data\n",
    "pd.set_option('display.max_columns', None)\n",
    "pd.set_option('display.max_colwidth', None)\n",
    "\n",
    "\n",
    "df2\n"
   ]
  },
  {
   "cell_type": "markdown",
   "metadata": {},
   "source": [
    "# Webscraping to get list of image URLs"
   ]
  },
  {
   "cell_type": "code",
   "execution_count": 14,
   "metadata": {},
   "outputs": [
    {
     "name": "stdout",
     "output_type": "stream",
     "text": [
      "['http://192.168.1.13:8888/Pixstory-image-161668402049563.jpg', 'http://192.168.1.13:8888/Pixstory-image-161681318757326.jpg', 'http://192.168.1.13:8888/Pixstory-image-161984246212221.jpeg', 'http://192.168.1.13:8888/Pixstory-image-162014760674045.jpeg', 'http://192.168.1.13:8888/Pixstory-image-162153257364412.png', 'http://192.168.1.13:8888/Pixstory-image-162157341332029.jpeg', 'http://192.168.1.13:8888/Pixstory-image-162244448366044.jpeg', 'http://192.168.1.13:8888/Pixstory-image-16233178221386.jpeg', 'http://192.168.1.13:8888/Pixstory-image-162347005942405.jpeg', 'http://192.168.1.13:8888/Pixstory-image-162454466467149.jpeg']\n"
     ]
    }
   ],
   "source": [
    "# Creating a list of urls from webpage \n",
    "# This works!\n",
    "\n",
    "\n",
    "webpage_url = images_url_home\n",
    "\n",
    "response = requests.get(webpage_url)\n",
    "html_content = response.content\n",
    "\n",
    "soup = BeautifulSoup(html_content, 'html.parser')\n",
    "\n",
    "image_urls = []\n",
    "for i, link in enumerate(soup.find_all('a')):\n",
    "    if i >= 10:\n",
    "        break\n",
    "    href = link.get('href')\n",
    "    if href is not None and href.startswith('http'):\n",
    "        image_urls.append(href)\n",
    "    elif href is not None:\n",
    "        image_urls.append(webpage_url + '/' + href)\n",
    "\n",
    "print(image_urls)\n"
   ]
  },
  {
   "cell_type": "markdown",
   "metadata": {},
   "source": [
    "# Df of image captions through web scraping"
   ]
  },
  {
   "cell_type": "code",
   "execution_count": 15,
   "metadata": {},
   "outputs": [
    {
     "data": {
      "text/html": [
       "<div>\n",
       "<style scoped>\n",
       "    .dataframe tbody tr th:only-of-type {\n",
       "        vertical-align: middle;\n",
       "    }\n",
       "\n",
       "    .dataframe tbody tr th {\n",
       "        vertical-align: top;\n",
       "    }\n",
       "\n",
       "    .dataframe thead th {\n",
       "        text-align: right;\n",
       "    }\n",
       "</style>\n",
       "<table border=\"1\" class=\"dataframe\">\n",
       "  <thead>\n",
       "    <tr style=\"text-align: right;\">\n",
       "      <th></th>\n",
       "      <th>url</th>\n",
       "      <th>caption</th>\n",
       "    </tr>\n",
       "  </thead>\n",
       "  <tbody>\n",
       "    <tr>\n",
       "      <th>0</th>\n",
       "      <td>http://192.168.1.13:8888/Pixstory-image-161668402049563.jpg</td>\n",
       "      <td>a bunch of bananas that are on a table .</td>\n",
       "    </tr>\n",
       "    <tr>\n",
       "      <th>1</th>\n",
       "      <td>http://192.168.1.13:8888/Pixstory-image-161681318757326.jpg</td>\n",
       "      <td>a man sitting on a couch with a laptop .</td>\n",
       "    </tr>\n",
       "    <tr>\n",
       "      <th>2</th>\n",
       "      <td>http://192.168.1.13:8888/Pixstory-image-161984246212221.jpeg</td>\n",
       "      <td>a man in a suit and tie holding a cell phone .</td>\n",
       "    </tr>\n",
       "    <tr>\n",
       "      <th>3</th>\n",
       "      <td>http://192.168.1.13:8888/Pixstory-image-162014760674045.jpeg</td>\n",
       "      <td>a bunch of birds that are flying in the air .</td>\n",
       "    </tr>\n",
       "    <tr>\n",
       "      <th>4</th>\n",
       "      <td>http://192.168.1.13:8888/Pixstory-image-162153257364412.png</td>\n",
       "      <td>a bike parked on the side of a road .</td>\n",
       "    </tr>\n",
       "    <tr>\n",
       "      <th>5</th>\n",
       "      <td>http://192.168.1.13:8888/Pixstory-image-162157341332029.jpeg</td>\n",
       "      <td>a man in a suit and tie standing in a room .</td>\n",
       "    </tr>\n",
       "    <tr>\n",
       "      <th>6</th>\n",
       "      <td>http://192.168.1.13:8888/Pixstory-image-162244448366044.jpeg</td>\n",
       "      <td>a bunch of flowers that are on a table .</td>\n",
       "    </tr>\n",
       "    <tr>\n",
       "      <th>7</th>\n",
       "      <td>http://192.168.1.13:8888/Pixstory-image-16233178221386.jpeg</td>\n",
       "      <td>a man in a suit and tie standing in a room .</td>\n",
       "    </tr>\n",
       "    <tr>\n",
       "      <th>8</th>\n",
       "      <td>http://192.168.1.13:8888/Pixstory-image-162347005942405.jpeg</td>\n",
       "      <td>a close up of a vase with flowers in it</td>\n",
       "    </tr>\n",
       "    <tr>\n",
       "      <th>9</th>\n",
       "      <td>http://192.168.1.13:8888/Pixstory-image-162454466467149.jpeg</td>\n",
       "      <td>a cat laying on top of a blanket on a bed .</td>\n",
       "    </tr>\n",
       "  </tbody>\n",
       "</table>\n",
       "</div>"
      ],
      "text/plain": [
       "                                                            url  \\\n",
       "0   http://192.168.1.13:8888/Pixstory-image-161668402049563.jpg   \n",
       "1   http://192.168.1.13:8888/Pixstory-image-161681318757326.jpg   \n",
       "2  http://192.168.1.13:8888/Pixstory-image-161984246212221.jpeg   \n",
       "3  http://192.168.1.13:8888/Pixstory-image-162014760674045.jpeg   \n",
       "4   http://192.168.1.13:8888/Pixstory-image-162153257364412.png   \n",
       "5  http://192.168.1.13:8888/Pixstory-image-162157341332029.jpeg   \n",
       "6  http://192.168.1.13:8888/Pixstory-image-162244448366044.jpeg   \n",
       "7   http://192.168.1.13:8888/Pixstory-image-16233178221386.jpeg   \n",
       "8  http://192.168.1.13:8888/Pixstory-image-162347005942405.jpeg   \n",
       "9  http://192.168.1.13:8888/Pixstory-image-162454466467149.jpeg   \n",
       "\n",
       "                                          caption  \n",
       "0        a bunch of bananas that are on a table .  \n",
       "1        a man sitting on a couch with a laptop .  \n",
       "2  a man in a suit and tie holding a cell phone .  \n",
       "3   a bunch of birds that are flying in the air .  \n",
       "4           a bike parked on the side of a road .  \n",
       "5    a man in a suit and tie standing in a room .  \n",
       "6        a bunch of flowers that are on a table .  \n",
       "7    a man in a suit and tie standing in a room .  \n",
       "8         a close up of a vase with flowers in it  \n",
       "9     a cat laying on top of a blanket on a bed .  "
      ]
     },
     "execution_count": 15,
     "metadata": {},
     "output_type": "execute_result"
    }
   ],
   "source": [
    "\n",
    "\n",
    "captions_results = []\n",
    "\n",
    "# Loop through the image URLs and classify each image\n",
    "for url in image_urls:\n",
    "\n",
    "    # Construct the API URL for the image classification\n",
    "    api2_url = 'http://localhost:8764/inception/v3/caption/image?url=' + url\n",
    "\n",
    "    # Send the API request\n",
    "    response = requests.get(api2_url)\n",
    "\n",
    "    # Parse the JSON response\n",
    "    json_response = response.json()\n",
    "\n",
    "    # Extract the first listed sentence\n",
    "    first_sentence = json_response['captions'][0]['sentence']\n",
    "\n",
    "    # Add the results to the list\n",
    "    captions_results.append({\n",
    "\n",
    "        'url': url, \n",
    "        'caption':first_sentence\n",
    "    })\n",
    "\n",
    "# Create a Pandas dataframe from the list of dictionaries\n",
    "df2 = pd.DataFrame(captions_results)\n",
    "\n",
    "# Set display options to show all columns and avoid truncation of string data\n",
    "pd.set_option('display.max_columns', None)\n",
    "pd.set_option('display.max_colwidth', None)\n",
    "\n",
    "# Display the dataframe\n",
    "df2"
   ]
  },
  {
   "cell_type": "markdown",
   "metadata": {},
   "source": [
    "# Df of detect objects through webscraping "
   ]
  },
  {
   "cell_type": "code",
   "execution_count": null,
   "metadata": {},
   "outputs": [],
   "source": [
    "\n",
    "objects_results = []\n",
    "\n",
    "# Loop through the image URLs and classify each image\n",
    "for url in image_urls:\n",
    "\n",
    "\n",
    "        # Construct the API URL for the image classification\n",
    "    api_url = 'http://localhost:8764/inception/v4/classify/image?topn=2&min_confidence=0.03&url=' + url\n",
    "\n",
    "    # Send the API request\n",
    "    response = requests.get(api_url)\n",
    "\n",
    "    # Parse the JSON response\n",
    "    json_response = response.json()\n",
    "\n",
    "    # Extract the first listed sentence\n",
    "    first_sentence = json_response['captions'][0]['sentence']\n",
    "\n",
    "    # Add the results to the list\n",
    "    captions_results.append({\n",
    "\n",
    "        'url': url, \n",
    "        'caption':first_sentence\n",
    "    })\n",
    "\n",
    "# Create a Pandas dataframe from the list of dictionaries\n",
    "df2 = pd.DataFrame(captions_results)\n",
    "\n",
    "# Set display options to show all columns and avoid truncation of string data\n",
    "pd.set_option('display.max_columns', None)\n",
    "pd.set_option('display.max_colwidth', None)\n",
    "\n",
    "# Display the dataframe\n",
    "df2"
   ]
  }
 ],
 "metadata": {
  "kernelspec": {
   "display_name": "Python 3.9.12 ('base')",
   "language": "python",
   "name": "python3"
  },
  "language_info": {
   "codemirror_mode": {
    "name": "ipython",
    "version": 3
   },
   "file_extension": ".py",
   "mimetype": "text/x-python",
   "name": "python",
   "nbconvert_exporter": "python",
   "pygments_lexer": "ipython3",
   "version": "3.9.12"
  },
  "orig_nbformat": 4,
  "vscode": {
   "interpreter": {
    "hash": "14b5f4a1e35b3543103fc71a08ac87c31dbc262e66f163b05b7ba3f77eb1e8a6"
   }
  }
 },
 "nbformat": 4,
 "nbformat_minor": 2
}
