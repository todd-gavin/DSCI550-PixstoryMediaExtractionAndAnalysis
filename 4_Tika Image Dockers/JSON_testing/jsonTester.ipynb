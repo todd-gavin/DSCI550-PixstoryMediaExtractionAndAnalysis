{
 "cells": [
  {
   "cell_type": "code",
   "execution_count": 1,
   "metadata": {},
   "outputs": [],
   "source": [
    "import json\n",
    "import pandas as pd"
   ]
  },
  {
   "cell_type": "code",
   "execution_count": 2,
   "metadata": {},
   "outputs": [],
   "source": [
    "with open(\"image_captions_data_master.json\", \"r\") as f:\n",
    "    data = json.load(f)\n",
    "\n",
    "df = pd.DataFrame(data)"
   ]
  },
  {
   "cell_type": "code",
   "execution_count": 3,
   "metadata": {},
   "outputs": [
    {
     "data": {
      "text/html": [
       "<div>\n",
       "<style scoped>\n",
       "    .dataframe tbody tr th:only-of-type {\n",
       "        vertical-align: middle;\n",
       "    }\n",
       "\n",
       "    .dataframe tbody tr th {\n",
       "        vertical-align: top;\n",
       "    }\n",
       "\n",
       "    .dataframe thead th {\n",
       "        text-align: right;\n",
       "    }\n",
       "</style>\n",
       "<table border=\"1\" class=\"dataframe\">\n",
       "  <thead>\n",
       "    <tr style=\"text-align: right;\">\n",
       "      <th></th>\n",
       "      <th>url</th>\n",
       "      <th>caption</th>\n",
       "    </tr>\n",
       "  </thead>\n",
       "  <tbody>\n",
       "    <tr>\n",
       "      <th>0</th>\n",
       "      <td>http://192.168.1.13:8888/Pixstory-image-165073...</td>\n",
       "      <td>a group of people standing around a basketball...</td>\n",
       "    </tr>\n",
       "    <tr>\n",
       "      <th>1</th>\n",
       "      <td>http://192.168.1.13:8888/Pixstory-image-164571...</td>\n",
       "      <td>a man in a suit and tie is holding an umbrella .</td>\n",
       "    </tr>\n",
       "    <tr>\n",
       "      <th>2</th>\n",
       "      <td>http://192.168.1.13:8888/Pixstory-image-166229...</td>\n",
       "      <td>a group of young men playing a game of soccer .</td>\n",
       "    </tr>\n",
       "    <tr>\n",
       "      <th>3</th>\n",
       "      <td>http://192.168.1.13:8888/Pixstory-image-166509...</td>\n",
       "      <td>a man and woman sitting on a bench .</td>\n",
       "    </tr>\n",
       "    <tr>\n",
       "      <th>4</th>\n",
       "      <td>http://192.168.1.13:8888/Pixstory-image-166285...</td>\n",
       "      <td>a group of people standing next to each other .</td>\n",
       "    </tr>\n",
       "    <tr>\n",
       "      <th>...</th>\n",
       "      <td>...</td>\n",
       "      <td>...</td>\n",
       "    </tr>\n",
       "    <tr>\n",
       "      <th>10395</th>\n",
       "      <td>http://192.168.1.13:8888/Pixstory-image-164440...</td>\n",
       "      <td>a woman standing next to a parking meter .</td>\n",
       "    </tr>\n",
       "    <tr>\n",
       "      <th>10396</th>\n",
       "      <td>http://192.168.1.13:8888/Pixstory-image-164241...</td>\n",
       "      <td>a person holding a toothbrush in their hand .</td>\n",
       "    </tr>\n",
       "    <tr>\n",
       "      <th>10397</th>\n",
       "      <td>http://192.168.1.13:8888/Pixstory-image-165044...</td>\n",
       "      <td>a book on a bed with a book</td>\n",
       "    </tr>\n",
       "    <tr>\n",
       "      <th>10398</th>\n",
       "      <td>http://192.168.1.13:8888/Pixstory-image-164976...</td>\n",
       "      <td>a view of a bridge over a river .</td>\n",
       "    </tr>\n",
       "    <tr>\n",
       "      <th>10399</th>\n",
       "      <td>http://192.168.1.13:8888/Pixstory-image-166322...</td>\n",
       "      <td>a group of people standing next to each other .</td>\n",
       "    </tr>\n",
       "  </tbody>\n",
       "</table>\n",
       "<p>10400 rows × 2 columns</p>\n",
       "</div>"
      ],
      "text/plain": [
       "                                                     url  \\\n",
       "0      http://192.168.1.13:8888/Pixstory-image-165073...   \n",
       "1      http://192.168.1.13:8888/Pixstory-image-164571...   \n",
       "2      http://192.168.1.13:8888/Pixstory-image-166229...   \n",
       "3      http://192.168.1.13:8888/Pixstory-image-166509...   \n",
       "4      http://192.168.1.13:8888/Pixstory-image-166285...   \n",
       "...                                                  ...   \n",
       "10395  http://192.168.1.13:8888/Pixstory-image-164440...   \n",
       "10396  http://192.168.1.13:8888/Pixstory-image-164241...   \n",
       "10397  http://192.168.1.13:8888/Pixstory-image-165044...   \n",
       "10398  http://192.168.1.13:8888/Pixstory-image-164976...   \n",
       "10399  http://192.168.1.13:8888/Pixstory-image-166322...   \n",
       "\n",
       "                                                 caption  \n",
       "0      a group of people standing around a basketball...  \n",
       "1       a man in a suit and tie is holding an umbrella .  \n",
       "2        a group of young men playing a game of soccer .  \n",
       "3                   a man and woman sitting on a bench .  \n",
       "4        a group of people standing next to each other .  \n",
       "...                                                  ...  \n",
       "10395         a woman standing next to a parking meter .  \n",
       "10396      a person holding a toothbrush in their hand .  \n",
       "10397                        a book on a bed with a book  \n",
       "10398                  a view of a bridge over a river .  \n",
       "10399    a group of people standing next to each other .  \n",
       "\n",
       "[10400 rows x 2 columns]"
      ]
     },
     "execution_count": 3,
     "metadata": {},
     "output_type": "execute_result"
    }
   ],
   "source": [
    "df"
   ]
  }
 ],
 "metadata": {
  "kernelspec": {
   "display_name": "base",
   "language": "python",
   "name": "python3"
  },
  "language_info": {
   "codemirror_mode": {
    "name": "ipython",
    "version": 3
   },
   "file_extension": ".py",
   "mimetype": "text/x-python",
   "name": "python",
   "nbconvert_exporter": "python",
   "pygments_lexer": "ipython3",
   "version": "3.9.13"
  },
  "orig_nbformat": 4
 },
 "nbformat": 4,
 "nbformat_minor": 2
}
