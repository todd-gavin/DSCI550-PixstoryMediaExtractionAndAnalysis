{
 "cells": [
  {
   "cell_type": "markdown",
   "source": [
    "# Insights into Gender & Age Trends w.r.t. Image Captions & Objects Recognised\n",
    "This notebook looks at the final dataset and checks to see if there are any age or gender specific trends we see in the text captions or identified objects in the image media."
   ],
   "metadata": {
    "collapsed": false
   }
  },
  {
   "cell_type": "code",
   "execution_count": 87,
   "outputs": [],
   "source": [
    "# imports\n",
    "import pandas as pd"
   ],
   "metadata": {
    "collapsed": false
   }
  },
  {
   "cell_type": "markdown",
   "source": [
    "Load df:"
   ],
   "metadata": {
    "collapsed": false
   }
  },
  {
   "cell_type": "code",
   "execution_count": 88,
   "outputs": [
    {
     "name": "stderr",
     "output_type": "stream",
     "text": [
      "/var/folders/wn/q8y17bz53_z82y4lc9dzz5mm0000gn/T/ipykernel_56140/3327316891.py:1: DtypeWarning: Columns (2,3,5,8) have mixed types. Specify dtype option on import or set low_memory=False.\n",
      "  df = pd.read_csv(\"Master_Dataset_TranslationsDetoxifyGeoTopicImages_Edited.csv\")\n"
     ]
    }
   ],
   "source": [
    "df = pd.read_csv(\"../Datasets/Master_Dataset_TranslationsDetoxifyGeoTopicImages_Edited.csv\")"
   ],
   "metadata": {
    "collapsed": false
   }
  },
  {
   "cell_type": "markdown",
   "source": [
    "See the top 5 image captions generated:"
   ],
   "metadata": {
    "collapsed": false
   }
  },
  {
   "cell_type": "code",
   "execution_count": 89,
   "metadata": {
    "collapsed": true
   },
   "outputs": [
    {
     "name": "stdout",
     "output_type": "stream",
     "text": [
      "a group of people standing next to each other .       5022\n",
      "a group of men standing next to each other .          2118\n",
      "a group of young men playing a game of soccer .       1438\n",
      "a man holding a tennis racquet on a tennis court .    1396\n",
      "a man in a suit and tie standing in a room .          1088\n",
      "Name: caption, dtype: int64\n"
     ]
    }
   ],
   "source": [
    "top_5_captions = df['caption'].value_counts()[:5]\n",
    "\n",
    "print(top_5_captions)"
   ]
  },
  {
   "cell_type": "code",
   "execution_count": 90,
   "outputs": [
    {
     "name": "stdout",
     "output_type": "stream",
     "text": [
      "a group of people standing next to each other .\n",
      "25.95201115093588\n",
      "male      0.604690\n",
      "female    0.264238\n",
      "others    0.131072\n",
      "Name: Gender, dtype: float64\n",
      "\n",
      "a group of men standing next to each other .\n",
      "25.844192634560905\n",
      "male      0.609658\n",
      "female    0.268612\n",
      "others    0.121730\n",
      "Name: Gender, dtype: float64\n",
      "\n",
      "a group of young men playing a game of soccer .\n",
      "26.063977746870652\n",
      "male      0.625181\n",
      "female    0.241679\n",
      "others    0.133140\n",
      "Name: Gender, dtype: float64\n",
      "\n",
      "a man holding a tennis racquet on a tennis court .\n",
      "26.313037249283667\n",
      "male      0.596947\n",
      "female    0.277863\n",
      "others    0.125191\n",
      "Name: Gender, dtype: float64\n",
      "\n",
      "a man in a suit and tie standing in a room .\n",
      "25.80238970588235\n",
      "male      0.651663\n",
      "female    0.213307\n",
      "others    0.135029\n",
      "Name: Gender, dtype: float64\n",
      "\n"
     ]
    },
    {
     "name": "stderr",
     "output_type": "stream",
     "text": [
      "/var/folders/wn/q8y17bz53_z82y4lc9dzz5mm0000gn/T/ipykernel_56140/1592995489.py:4: SettingWithCopyWarning: \n",
      "A value is trying to be set on a copy of a slice from a DataFrame.\n",
      "Try using .loc[row_indexer,col_indexer] = value instead\n",
      "\n",
      "See the caveats in the documentation: https://pandas.pydata.org/pandas-docs/stable/user_guide/indexing.html#returning-a-view-versus-a-copy\n",
      "  caption_df['Age'] = caption_df['Age'].astype(int)\n",
      "/var/folders/wn/q8y17bz53_z82y4lc9dzz5mm0000gn/T/ipykernel_56140/1592995489.py:4: SettingWithCopyWarning: \n",
      "A value is trying to be set on a copy of a slice from a DataFrame.\n",
      "Try using .loc[row_indexer,col_indexer] = value instead\n",
      "\n",
      "See the caveats in the documentation: https://pandas.pydata.org/pandas-docs/stable/user_guide/indexing.html#returning-a-view-versus-a-copy\n",
      "  caption_df['Age'] = caption_df['Age'].astype(int)\n",
      "/var/folders/wn/q8y17bz53_z82y4lc9dzz5mm0000gn/T/ipykernel_56140/1592995489.py:4: SettingWithCopyWarning: \n",
      "A value is trying to be set on a copy of a slice from a DataFrame.\n",
      "Try using .loc[row_indexer,col_indexer] = value instead\n",
      "\n",
      "See the caveats in the documentation: https://pandas.pydata.org/pandas-docs/stable/user_guide/indexing.html#returning-a-view-versus-a-copy\n",
      "  caption_df['Age'] = caption_df['Age'].astype(int)\n",
      "/var/folders/wn/q8y17bz53_z82y4lc9dzz5mm0000gn/T/ipykernel_56140/1592995489.py:4: SettingWithCopyWarning: \n",
      "A value is trying to be set on a copy of a slice from a DataFrame.\n",
      "Try using .loc[row_indexer,col_indexer] = value instead\n",
      "\n",
      "See the caveats in the documentation: https://pandas.pydata.org/pandas-docs/stable/user_guide/indexing.html#returning-a-view-versus-a-copy\n",
      "  caption_df['Age'] = caption_df['Age'].astype(int)\n",
      "/var/folders/wn/q8y17bz53_z82y4lc9dzz5mm0000gn/T/ipykernel_56140/1592995489.py:4: SettingWithCopyWarning: \n",
      "A value is trying to be set on a copy of a slice from a DataFrame.\n",
      "Try using .loc[row_indexer,col_indexer] = value instead\n",
      "\n",
      "See the caveats in the documentation: https://pandas.pydata.org/pandas-docs/stable/user_guide/indexing.html#returning-a-view-versus-a-copy\n",
      "  caption_df['Age'] = caption_df['Age'].astype(int)\n"
     ]
    }
   ],
   "source": [
    "for caption in top_5_captions.index:\n",
    "    print(caption)\n",
    "    caption_df = df[df['caption'] == caption]\n",
    "    caption_df['Age'] = caption_df['Age'].astype(int)\n",
    "    mean_age = caption_df.Age.mean()\n",
    "    print(mean_age)\n",
    "    print(caption_df.Gender.value_counts(normalize=True))\n",
    "    print()"
   ],
   "metadata": {
    "collapsed": false
   }
  },
  {
   "cell_type": "code",
   "execution_count": 91,
   "outputs": [
    {
     "name": "stdout",
     "output_type": "stream",
     "text": [
      "['web site, website, internet site, site']                              2171\n",
      "['comic book', 'book jacket, dust cover, dust jacket, dust wrapper']    1151\n",
      "['suit, suit of clothes', 'Windsor tie']                                1116\n",
      "['soccer ball']                                                          999\n",
      "['soccer ball', 'rugby ball']                                            751\n",
      "Name: object_recognition, dtype: int64\n"
     ]
    }
   ],
   "source": [
    "top_5_objects = df['object_recognition'].value_counts()[:5]\n",
    "\n",
    "print(top_5_objects)"
   ],
   "metadata": {
    "collapsed": false
   }
  },
  {
   "cell_type": "code",
   "execution_count": 92,
   "outputs": [
    {
     "name": "stdout",
     "output_type": "stream",
     "text": [
      "['web site, website, internet site, site']\n",
      "26.221556886227546\n",
      "male      0.653383\n",
      "female    0.189991\n",
      "others    0.156627\n",
      "Name: Gender, dtype: float64\n",
      "\n",
      "['comic book', 'book jacket, dust cover, dust jacket, dust wrapper']\n",
      "25.67680278019114\n",
      "male      0.604167\n",
      "female    0.267045\n",
      "others    0.128788\n",
      "Name: Gender, dtype: float64\n",
      "\n",
      "['suit, suit of clothes', 'Windsor tie']\n",
      "25.623655913978496\n",
      "male      0.63586\n",
      "female    0.23475\n",
      "others    0.12939\n",
      "Name: Gender, dtype: float64\n",
      "\n",
      "['soccer ball']\n",
      "25.92092092092092\n",
      "male      0.630350\n",
      "female    0.210117\n",
      "others    0.159533\n",
      "Name: Gender, dtype: float64\n",
      "\n",
      "['soccer ball', 'rugby ball']\n",
      "26.118508655126497\n",
      "male      0.655860\n",
      "female    0.251870\n",
      "others    0.092269\n",
      "Name: Gender, dtype: float64\n",
      "\n"
     ]
    },
    {
     "name": "stderr",
     "output_type": "stream",
     "text": [
      "/var/folders/wn/q8y17bz53_z82y4lc9dzz5mm0000gn/T/ipykernel_56140/3078637652.py:4: SettingWithCopyWarning: \n",
      "A value is trying to be set on a copy of a slice from a DataFrame.\n",
      "Try using .loc[row_indexer,col_indexer] = value instead\n",
      "\n",
      "See the caveats in the documentation: https://pandas.pydata.org/pandas-docs/stable/user_guide/indexing.html#returning-a-view-versus-a-copy\n",
      "  object_df['Age'] = object_df['Age'].astype(int)\n",
      "/var/folders/wn/q8y17bz53_z82y4lc9dzz5mm0000gn/T/ipykernel_56140/3078637652.py:4: SettingWithCopyWarning: \n",
      "A value is trying to be set on a copy of a slice from a DataFrame.\n",
      "Try using .loc[row_indexer,col_indexer] = value instead\n",
      "\n",
      "See the caveats in the documentation: https://pandas.pydata.org/pandas-docs/stable/user_guide/indexing.html#returning-a-view-versus-a-copy\n",
      "  object_df['Age'] = object_df['Age'].astype(int)\n",
      "/var/folders/wn/q8y17bz53_z82y4lc9dzz5mm0000gn/T/ipykernel_56140/3078637652.py:4: SettingWithCopyWarning: \n",
      "A value is trying to be set on a copy of a slice from a DataFrame.\n",
      "Try using .loc[row_indexer,col_indexer] = value instead\n",
      "\n",
      "See the caveats in the documentation: https://pandas.pydata.org/pandas-docs/stable/user_guide/indexing.html#returning-a-view-versus-a-copy\n",
      "  object_df['Age'] = object_df['Age'].astype(int)\n",
      "/var/folders/wn/q8y17bz53_z82y4lc9dzz5mm0000gn/T/ipykernel_56140/3078637652.py:4: SettingWithCopyWarning: \n",
      "A value is trying to be set on a copy of a slice from a DataFrame.\n",
      "Try using .loc[row_indexer,col_indexer] = value instead\n",
      "\n",
      "See the caveats in the documentation: https://pandas.pydata.org/pandas-docs/stable/user_guide/indexing.html#returning-a-view-versus-a-copy\n",
      "  object_df['Age'] = object_df['Age'].astype(int)\n",
      "/var/folders/wn/q8y17bz53_z82y4lc9dzz5mm0000gn/T/ipykernel_56140/3078637652.py:4: SettingWithCopyWarning: \n",
      "A value is trying to be set on a copy of a slice from a DataFrame.\n",
      "Try using .loc[row_indexer,col_indexer] = value instead\n",
      "\n",
      "See the caveats in the documentation: https://pandas.pydata.org/pandas-docs/stable/user_guide/indexing.html#returning-a-view-versus-a-copy\n",
      "  object_df['Age'] = object_df['Age'].astype(int)\n"
     ]
    }
   ],
   "source": [
    "for objects in top_5_objects.index:\n",
    "    print(objects)\n",
    "    object_df = df[df['object_recognition'] == objects]\n",
    "    object_df['Age'] = object_df['Age'].astype(int)\n",
    "    mean_age = object_df.Age.mean()\n",
    "    print(mean_age)\n",
    "    print(object_df.Gender.value_counts(normalize=True))\n",
    "    print()"
   ],
   "metadata": {
    "collapsed": false
   }
  }
 ],
 "metadata": {
  "kernelspec": {
   "display_name": "Python 3",
   "language": "python",
   "name": "python3"
  },
  "language_info": {
   "codemirror_mode": {
    "name": "ipython",
    "version": 2
   },
   "file_extension": ".py",
   "mimetype": "text/x-python",
   "name": "python",
   "nbconvert_exporter": "python",
   "pygments_lexer": "ipython2",
   "version": "2.7.6"
  }
 },
 "nbformat": 4,
 "nbformat_minor": 0
}
