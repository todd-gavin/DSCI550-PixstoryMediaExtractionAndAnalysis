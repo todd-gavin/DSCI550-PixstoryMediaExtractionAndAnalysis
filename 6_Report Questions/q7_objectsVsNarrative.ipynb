{
 "cells": [
  {
   "cell_type": "code",
   "execution_count": 1,
   "metadata": {},
   "outputs": [
    {
     "ename": "",
     "evalue": "",
     "output_type": "error",
     "traceback": [
      "\u001b[1;31mCanceled future for execute_request message before replies were done"
     ]
    },
    {
     "ename": "",
     "evalue": "",
     "output_type": "error",
     "traceback": [
      "\u001b[1;31mThe Kernel crashed while executing code in the the current cell or a previous cell. Please review the code in the cell(s) to identify a possible cause of the failure. Click <a href='https://aka.ms/vscodeJupyterKernelCrash'>here</a> for more info. View Jupyter <a href='command:jupyter.viewOutput'>log</a> for further details."
     ]
    }
   ],
   "source": [
    "import pandas as pd\n",
    "import spacy"
   ]
  },
  {
   "cell_type": "code",
   "execution_count": 5,
   "metadata": {},
   "outputs": [],
   "source": [
    "\n",
    "# Load JSON file into a Pandas DataFrame\n",
    "df_objects = pd.read_json('image_object_recognition_master.json')\n",
    "\n",
    "df_captions = pd.read_json('image_captions_data_master.json')\n",
    "\n",
    "#df_objects\n",
    "#df_captions"
   ]
  },
  {
   "cell_type": "code",
   "execution_count": 14,
   "metadata": {},
   "outputs": [],
   "source": [
    "#preparing pixstory df\n",
    "\n",
    "df_Pixstory = pd.read_csv('Master_Dataset_Raw.csv')\n",
    "\n",
    "pd.set_option('display.max_colwidth', None)\n",
    "\n",
    "#Define a lambda function to modify the URLs to be viewable\n",
    "modify_url = lambda url: url.replace(\".com/\", \".com/optimized/\")\n",
    "\n",
    "# Apply the lambda function to the \"Media\" column of the DataFrame\n",
    "df_Pixstory['Media'] = df_Pixstory['Media'].apply(modify_url)\n",
    "\n",
    "# Rename column to prepare for merge\n",
    "df_Pixstory = df_Pixstory.rename(columns={'Media': 'url'})\n",
    "\n",
    "\n",
    "#df_Pixstory"
   ]
  },
  {
   "cell_type": "code",
   "execution_count": 15,
   "metadata": {},
   "outputs": [],
   "source": [
    "# Merge the data frames on the URL column\n",
    "objects_captions_df = pd.merge(df_objects, df_captions, on='url', how='inner')\n",
    "\n",
    "# Define a lambda function to modify the URLs\n",
    "modify_url = lambda url: 'https://image.pixstory.com/optimized/' + url.split('/')[-1]\n",
    "\n",
    "# Apply the lambda function to the URL column\n",
    "objects_captions_df['url'] = objects_captions_df['url'].apply(modify_url)\n",
    "\n",
    "#objects_captions_df"
   ]
  },
  {
   "cell_type": "code",
   "execution_count": 32,
   "metadata": {},
   "outputs": [],
   "source": [
    "all_merged_df = pd.merge(objects_captions_df, df_Pixstory, on='url', how='inner')\n",
    "\n",
    "# Set the maximum column width to 50 characters\n",
    "pd.set_option('display.max_colwidth', 50)\n",
    "\n",
    "# Count the number of unique URLs in the 'url' column\n",
    "unique_url_count = all_merged_df['url'].nunique()\n",
    "\n",
    "# Display the count of unique URLs\n",
    "#print(unique_url_count)\n",
    "\n",
    "#all_merged_df"
   ]
  },
  {
   "attachments": {},
   "cell_type": "markdown",
   "metadata": {},
   "source": [
    "# Are the identified objects present in the image described in the original post and/or the generated caption? "
   ]
  },
  {
   "cell_type": "code",
   "execution_count": null,
   "metadata": {},
   "outputs": [],
   "source": [
    "\n",
    "# Load the spaCy English language model\n",
    "nlp = spacy.load('en_core_web_sm')\n",
    "\n",
    "# Define a function to extract the named entities from a text string\n",
    "def extract_entities(text):\n",
    "    doc = nlp(text)\n",
    "    entities = []\n",
    "    for ent in doc.ents:\n",
    "        if ent.label_ == 'PERSON' or ent.label_ == 'ORG' or ent.label_ == 'PRODUCT':\n",
    "            entities.append(ent.text)\n",
    "    return entities\n",
    "\n",
    "# Apply the function to the text column and create a new column with the extracted entities\n",
    "all_merged_df['narrative_mentioned_objects'] = all_merged_df['text_column'].apply(extract_entities)\n",
    "\n",
    "# Display the data frame with the extracted entities\n",
    "all_merged_df\n"
   ]
  }
 ],
 "metadata": {
  "kernelspec": {
   "display_name": "base",
   "language": "python",
   "name": "python3"
  },
  "language_info": {
   "codemirror_mode": {
    "name": "ipython",
    "version": 3
   },
   "file_extension": ".py",
   "mimetype": "text/x-python",
   "name": "python",
   "nbconvert_exporter": "python",
   "pygments_lexer": "ipython3",
   "version": "3.9.13"
  },
  "orig_nbformat": 4
 },
 "nbformat": 4,
 "nbformat_minor": 2
}
