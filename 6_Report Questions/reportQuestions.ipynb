{
 "cells": [
  {
   "attachments": {},
   "cell_type": "markdown",
   "metadata": {},
   "source": [
    "#### Write a short 4-page report describing your observations, i.e. what you noticed about the dataset as you completed the tasks. For example, the following questions are of interest. \n",
    " \n",
    "1. Are there any age or gender or topic based correlations by location in the posts?  \n",
    "2. What is the most prevalent language in the posts, and least prevalent?  \n",
    "3. Is there a correlation between post language and identified mentioned locations? \n",
    "4. Are  there  correlations  between  the  sporting  events,  or  the  entertainment  events  with locations?  \n",
    "5. Do the Detoxify scores and associated GLAAD and ADL or sarcasm flags line up? Is there any relationship between the flags and the identified Detoxify scores?  \n",
    "6. Do the image captions accurately represent the image?  \n",
    "7. Are the identified objects present in the image described in the original post and/or the generated caption? \n",
    "8. Are  there  any  age,  or  gender  specific  trends  you  see  in  the  text  captions  or  identified objects in the image media? \n",
    " \n",
    "`Also include your thoughts about the ML and Deep Learning software like RTG, GeoTopicParser, Detoxify, LangDetect, Tika Image Captioning, etc. – what was easy about using it? What wasn’t?`"
   ]
  },
  {
   "cell_type": "code",
   "execution_count": null,
   "metadata": {},
   "outputs": [],
   "source": []
  }
 ],
 "metadata": {
  "language_info": {
   "name": "python"
  },
  "orig_nbformat": 4
 },
 "nbformat": 4,
 "nbformat_minor": 2
}
