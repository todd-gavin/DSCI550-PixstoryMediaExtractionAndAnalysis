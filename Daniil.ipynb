{
 "cells": [
  {
   "cell_type": "markdown",
   "metadata": {},
   "source": [
    "# How to Install Apache Mavne MVN\n",
    "\n",
    "1. Download this file: https://dlcdn.apache.org/maven/maven-3/3.9.1/binaries/apache-maven-3.9.1-bin.tar.gz\n",
    "2. Place file in repo folder. \n",
    "3. Run this command in you terminal at the folder where the tar file is located: tar xzvf apache-maven-3.9.1-bin.tar.gz\n",
    "4. Locate the file path of the apachae-maven folder using command: pwd\n",
    "5. Using that file path, run this command in the same working directory: export PATH=/Users/daniilabbruzzese/Documents/Senior\\ Year/DSCI\\ 550/assignment\\ 2/DSCI550-PixstoryMediaExtractionAndAnalysis/apache-maven-3.9.1/bin:$PATH\n",
    "6. Check that MVN is installed using command: mvn -v"
   ]
  },
  {
   "cell_type": "code",
   "execution_count": null,
   "metadata": {},
   "outputs": [],
   "source": [
    "$ cd $HOME/src\n",
    "$ git clone https://github.com/chrismattmann/lucene-geo-gazetteer.git\n",
    "$ cd lucene-geo-gazetteer\n",
    "$ mvn install assembly:assembly\n",
    "$ add $HOME/src/lucene-geo-gazetteer/src/main/bin to your PATH environment variable"
   ]
  },
  {
   "cell_type": "code",
   "execution_count": null,
   "metadata": {},
   "outputs": [],
   "source": [
    "apache-maven/bin/mvn install assembly:assembly\n"
   ]
  }
 ],
 "metadata": {
  "language_info": {
   "name": "python"
  },
  "orig_nbformat": 4
 },
 "nbformat": 4,
 "nbformat_minor": 2
}
