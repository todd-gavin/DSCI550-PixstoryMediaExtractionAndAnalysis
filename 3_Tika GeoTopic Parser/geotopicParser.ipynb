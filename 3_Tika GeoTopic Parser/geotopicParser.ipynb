{
 "cells": [
  {
   "cell_type": "code",
   "execution_count": 1,
   "metadata": {},
   "outputs": [],
   "source": [
    "from tika import parser"
   ]
  },
  {
   "cell_type": "code",
   "execution_count": 2,
   "metadata": {},
   "outputs": [
    {
     "name": "stderr",
     "output_type": "stream",
     "text": [
      "2023-03-27 13:51:27,433 [MainThread  ] [INFO ]  Retrieving http://search.maven.org/remotecontent?filepath=org/apache/tika/tika-server-standard/2.6.0/tika-server-standard-2.6.0.jar to /var/folders/fn/pdhscw6s1wz7r1wk9ssprtz80000gn/T/tika-server.jar.\n",
      "2023-03-27 13:53:23,335 [MainThread  ] [INFO ]  Retrieving http://search.maven.org/remotecontent?filepath=org/apache/tika/tika-server-standard/2.6.0/tika-server-standard-2.6.0.jar.md5 to /var/folders/fn/pdhscw6s1wz7r1wk9ssprtz80000gn/T/tika-server.jar.md5.\n",
      "2023-03-27 13:53:24,258 [MainThread  ] [WARNI]  Failed to see startup log message; retrying...\n",
      "2023-03-27 13:53:29,266 [MainThread  ] [WARNI]  Failed to see startup log message; retrying...\n"
     ]
    },
    {
     "name": "stdout",
     "output_type": "stream",
     "text": [
      "{'metadata': {'X-TIKA:Parsed-By': 'org.apache.tika.parser.EmptyParser', 'X-TIKA:Parsed-By-Full-Set': 'org.apache.tika.parser.EmptyParser', 'X-TIKA:parse_time_millis': '27', 'X-TIKA:embedded_depth': '0', 'resourceName': \"b'polar.geot'\", 'Content-Length': '881', 'Content-Type-Override': 'application/geotopic', 'Content-Type': 'application/geotopic'}, 'content': None, 'status': 200}\n"
     ]
    }
   ],
   "source": [
    "parsed = parser.from_file('polar.geot', headers={'Content-Type' : 'application/geotopic'})\n",
    "print(parsed)"
   ]
  }
 ],
 "metadata": {
  "kernelspec": {
   "display_name": "Python 3",
   "language": "python",
   "name": "python3"
  },
  "language_info": {
   "codemirror_mode": {
    "name": "ipython",
    "version": 3
   },
   "file_extension": ".py",
   "mimetype": "text/x-python",
   "name": "python",
   "nbconvert_exporter": "python",
   "pygments_lexer": "ipython3",
   "version": "3.9.13"
  },
  "orig_nbformat": 4
 },
 "nbformat": 4,
 "nbformat_minor": 2
}
