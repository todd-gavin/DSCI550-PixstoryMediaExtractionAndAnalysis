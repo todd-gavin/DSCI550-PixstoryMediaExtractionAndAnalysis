{
 "cells": [
  {
   "cell_type": "code",
   "execution_count": 1,
   "id": "77ea3d75",
   "metadata": {
    "collapsed": true
   },
   "outputs": [
    {
     "name": "stdout",
     "output_type": "stream",
     "text": [
      "Requirement already satisfied: langdetect in /Users/taniadawood/opt/anaconda3/lib/python3.8/site-packages (1.0.9)\r\n",
      "Requirement already satisfied: six in /Users/taniadawood/opt/anaconda3/lib/python3.8/site-packages (from langdetect) (1.15.0)\r\n"
     ]
    }
   ],
   "source": [
    "!pip install langdetect"
   ]
  },
  {
   "cell_type": "code",
   "execution_count": 41,
   "id": "c1d41765",
   "metadata": {},
   "outputs": [
    {
     "name": "stdout",
     "output_type": "stream",
     "text": [
      "Found existing installation: tika 2.6.0\n",
      "Uninstalling tika-2.6.0:\n",
      "  Successfully uninstalled tika-2.6.0\n",
      "Note: you may need to restart the kernel to use updated packages.\n"
     ]
    }
   ],
   "source": [
    "pip uninstall tika -y"
   ]
  },
  {
   "cell_type": "code",
   "execution_count": 42,
   "id": "273e4d1c",
   "metadata": {},
   "outputs": [
    {
     "name": "stdout",
     "output_type": "stream",
     "text": [
      "Collecting tika\n",
      "  Using cached tika-2.6.0-py3-none-any.whl\n",
      "Requirement already satisfied: setuptools in /Users/taniadawood/opt/anaconda3/lib/python3.8/site-packages (from tika) (52.0.0.post20210125)\n",
      "Requirement already satisfied: requests in /Users/taniadawood/opt/anaconda3/lib/python3.8/site-packages (from tika) (2.26.0)\n",
      "Requirement already satisfied: certifi>=2017.4.17 in /Users/taniadawood/opt/anaconda3/lib/python3.8/site-packages (from requests->tika) (2020.12.5)\n",
      "Requirement already satisfied: charset-normalizer~=2.0.0 in /Users/taniadawood/opt/anaconda3/lib/python3.8/site-packages (from requests->tika) (2.0.12)\n",
      "Requirement already satisfied: idna<4,>=2.5 in /Users/taniadawood/opt/anaconda3/lib/python3.8/site-packages (from requests->tika) (2.10)\n",
      "Requirement already satisfied: urllib3<1.27,>=1.21.1 in /Users/taniadawood/opt/anaconda3/lib/python3.8/site-packages (from requests->tika) (1.26.4)\n",
      "Installing collected packages: tika\n",
      "Successfully installed tika-2.6.0\n",
      "Note: you may need to restart the kernel to use updated packages.\n"
     ]
    }
   ],
   "source": [
    "pip install tika"
   ]
  },
  {
   "cell_type": "markdown",
   "id": "7c104df4",
   "metadata": {},
   "source": [
    "Lang Detection -- Google"
   ]
  },
  {
   "cell_type": "code",
   "execution_count": 1,
   "id": "cd323fa9",
   "metadata": {},
   "outputs": [],
   "source": [
    "#importing libraries\n",
    "import pandas as pd\n",
    "from langdetect import detect_langs, LangDetectException\n",
    "\n",
    "#To get consistent results, calling the following code before the first language detection\n",
    "from langdetect import DetectorFactory\n",
    "DetectorFactory.seed = 0"
   ]
  },
  {
   "cell_type": "code",
   "execution_count": 2,
   "id": "7859a994",
   "metadata": {},
   "outputs": [],
   "source": [
    "#reading in data to a df \n",
    "df = pd.read_csv('/Users/taniadawood/Desktop/DSCI550-PixstoryMediaExtractionAndAnalysis/Datasets/Master_Dataset_Raw_LangDetect.csv')\n",
    "\n"
   ]
  },
  {
   "cell_type": "code",
   "execution_count": 3,
   "id": "c27b1cb2",
   "metadata": {},
   "outputs": [],
   "source": [
    "#helps my Tika server run \n",
    "from tika import parser\n",
    "parsed = parser.from_buffer('str')\n"
   ]
  },
  {
   "cell_type": "code",
   "execution_count": 4,
   "id": "e5ff29d9",
   "metadata": {},
   "outputs": [
    {
     "data": {
      "text/plain": [
       "{'metadata': {'X-TIKA:Parsed-By': ['org.apache.tika.parser.DefaultParser',\n",
       "   'org.apache.tika.parser.csv.TextAndCSVParser'],\n",
       "  'X-TIKA:Parsed-By-Full-Set': ['org.apache.tika.parser.DefaultParser',\n",
       "   'org.apache.tika.parser.csv.TextAndCSVParser'],\n",
       "  'X-TIKA:content_handler': 'ToTextContentHandler',\n",
       "  'Content-Encoding': 'ISO-8859-1',\n",
       "  'X-TIKA:parse_time_millis': '169',\n",
       "  'X-TIKA:embedded_depth': '0',\n",
       "  'Content-Length': '3',\n",
       "  'Content-Type': 'text/plain; charset=ISO-8859-1'},\n",
       " 'content': '\\n\\n\\n\\n\\n\\n\\n\\n\\nstr\\n',\n",
       " 'status': 200}"
      ]
     },
     "execution_count": 4,
     "metadata": {},
     "output_type": "execute_result"
    }
   ],
   "source": [
    "parsed"
   ]
  },
  {
   "cell_type": "code",
   "execution_count": 5,
   "id": "87afbb30",
   "metadata": {},
   "outputs": [
    {
     "data": {
      "text/html": [
       "<div>\n",
       "<style scoped>\n",
       "    .dataframe tbody tr th:only-of-type {\n",
       "        vertical-align: middle;\n",
       "    }\n",
       "\n",
       "    .dataframe tbody tr th {\n",
       "        vertical-align: top;\n",
       "    }\n",
       "\n",
       "    .dataframe thead th {\n",
       "        text-align: right;\n",
       "    }\n",
       "</style>\n",
       "<table border=\"1\" class=\"dataframe\">\n",
       "  <thead>\n",
       "    <tr style=\"text-align: right;\">\n",
       "      <th></th>\n",
       "      <th>Story Primary ID</th>\n",
       "      <th>Story ID</th>\n",
       "      <th>User Primary ID</th>\n",
       "      <th>User ID</th>\n",
       "      <th>Gender</th>\n",
       "      <th>Age</th>\n",
       "      <th>Title</th>\n",
       "      <th>Narrative</th>\n",
       "      <th>Media</th>\n",
       "      <th>Account Created Date</th>\n",
       "      <th>Date (No Timestamp)</th>\n",
       "      <th>Interest</th>\n",
       "    </tr>\n",
       "  </thead>\n",
       "  <tbody>\n",
       "    <tr>\n",
       "      <th>0</th>\n",
       "      <td>121169</td>\n",
       "      <td>STY1659426957</td>\n",
       "      <td>103</td>\n",
       "      <td>USR1606807023</td>\n",
       "      <td>female</td>\n",
       "      <td>34</td>\n",
       "      <td>Trend of the Year: Barbiecore</td>\n",
       "      <td>The colour of the year is here, and it's *drum...</td>\n",
       "      <td>https://image.pixstory.com/Pixstory-image-1659...</td>\n",
       "      <td>2020-01-12 12:47:00</td>\n",
       "      <td>2020-01-12</td>\n",
       "      <td>trends, fashion, barbie</td>\n",
       "    </tr>\n",
       "  </tbody>\n",
       "</table>\n",
       "</div>"
      ],
      "text/plain": [
       "   Story Primary ID       Story ID  User Primary ID        User ID  Gender  \\\n",
       "0            121169  STY1659426957              103  USR1606807023  female   \n",
       "\n",
       "   Age                          Title  \\\n",
       "0   34  Trend of the Year: Barbiecore   \n",
       "\n",
       "                                           Narrative  \\\n",
       "0  The colour of the year is here, and it's *drum...   \n",
       "\n",
       "                                               Media Account Created Date  \\\n",
       "0  https://image.pixstory.com/Pixstory-image-1659...  2020-01-12 12:47:00   \n",
       "\n",
       "  Date (No Timestamp)                 Interest  \n",
       "0          2020-01-12  trends, fashion, barbie  "
      ]
     },
     "execution_count": 5,
     "metadata": {},
     "output_type": "execute_result"
    }
   ],
   "source": [
    "df.head(1)"
   ]
  },
  {
   "cell_type": "code",
   "execution_count": 6,
   "id": "4cc8e24d",
   "metadata": {},
   "outputs": [],
   "source": [
    "#changing narrative column to type string to avoid errors while using lang detect \n",
    "df['Narrative'] = df['Narrative'].astype(str)"
   ]
  },
  {
   "cell_type": "code",
   "execution_count": 7,
   "id": "5637bba3",
   "metadata": {},
   "outputs": [],
   "source": [
    "#defining a function to detect language and handle exceptions\n",
    "def detect_language(Text):\n",
    "    if not Text:\n",
    "        return 'n/a'\n",
    "    else:\n",
    "        try:\n",
    "            return detect_langs(Text)\n",
    "        except LangDetectException:\n",
    "            return 'unknown'"
   ]
  },
  {
   "cell_type": "code",
   "execution_count": 8,
   "id": "b2c36430",
   "metadata": {},
   "outputs": [],
   "source": [
    "#applying lang detect function\n",
    "df['Narrative LangDetect'] = df['Narrative'].apply(detect_language)"
   ]
  },
  {
   "cell_type": "code",
   "execution_count": 9,
   "id": "a973a29b",
   "metadata": {
    "scrolled": true
   },
   "outputs": [
    {
     "data": {
      "text/html": [
       "<div>\n",
       "<style scoped>\n",
       "    .dataframe tbody tr th:only-of-type {\n",
       "        vertical-align: middle;\n",
       "    }\n",
       "\n",
       "    .dataframe tbody tr th {\n",
       "        vertical-align: top;\n",
       "    }\n",
       "\n",
       "    .dataframe thead th {\n",
       "        text-align: right;\n",
       "    }\n",
       "</style>\n",
       "<table border=\"1\" class=\"dataframe\">\n",
       "  <thead>\n",
       "    <tr style=\"text-align: right;\">\n",
       "      <th></th>\n",
       "      <th>Story Primary ID</th>\n",
       "      <th>Story ID</th>\n",
       "      <th>User Primary ID</th>\n",
       "      <th>User ID</th>\n",
       "      <th>Gender</th>\n",
       "      <th>Age</th>\n",
       "      <th>Title</th>\n",
       "      <th>Narrative</th>\n",
       "      <th>Media</th>\n",
       "      <th>Account Created Date</th>\n",
       "      <th>Date (No Timestamp)</th>\n",
       "      <th>Interest</th>\n",
       "      <th>Narrative LangDetect</th>\n",
       "    </tr>\n",
       "  </thead>\n",
       "  <tbody>\n",
       "    <tr>\n",
       "      <th>35809</th>\n",
       "      <td>116542</td>\n",
       "      <td>STY1657964510</td>\n",
       "      <td>23748</td>\n",
       "      <td>USR1642618401</td>\n",
       "      <td>male</td>\n",
       "      <td>26</td>\n",
       "      <td>Koulibaly al Chelsea il comunicato del Napoli</td>\n",
       "      <td>\"Kalidou,\\nabbiamo trascorso insieme 8 stagion...</td>\n",
       "      <td>https://image.pixstory.com/Pixstory-image-1657...</td>\n",
       "      <td>2022-01-20 00:23:21</td>\n",
       "      <td>2022-01-20</td>\n",
       "      <td>Sports, sport, calcio, calciomercato, serie a,...</td>\n",
       "      <td>[it:0.9999958074692731]</td>\n",
       "    </tr>\n",
       "    <tr>\n",
       "      <th>21488</th>\n",
       "      <td>149559</td>\n",
       "      <td>STY1664217353</td>\n",
       "      <td>11859</td>\n",
       "      <td>USR1638425715</td>\n",
       "      <td>male</td>\n",
       "      <td>21</td>\n",
       "      <td>Gauhati University Assam recruitment: Teaching...</td>\n",
       "      <td>&lt;p dir=\"ltr\"&gt;Gauhati University Assam recruitm...</td>\n",
       "      <td>https://image.pixstory.com/Pixstory-image-1664...</td>\n",
       "      <td>2021-12-02 11:45:15</td>\n",
       "      <td>2021-12-02</td>\n",
       "      <td>Technology, History, Food, Entertainment, Spor...</td>\n",
       "      <td>[en:0.9999940596691582]</td>\n",
       "    </tr>\n",
       "    <tr>\n",
       "      <th>2754</th>\n",
       "      <td>89265</td>\n",
       "      <td>STY1648058165</td>\n",
       "      <td>472</td>\n",
       "      <td>USR1612356664</td>\n",
       "      <td>male</td>\n",
       "      <td>22</td>\n",
       "      <td>How Sri Lanka is going out of its way to get i...</td>\n",
       "      <td>A little over a week back, Sri Lanka President...</td>\n",
       "      <td>https://image.pixstory.com/Pixstory-image-1648...</td>\n",
       "      <td>2021-02-03 18:21:04</td>\n",
       "      <td>2021-02-03</td>\n",
       "      <td>sri lanka, gotabaya rajapaksa, economic crisis...</td>\n",
       "      <td>[en:0.9999978396056868]</td>\n",
       "    </tr>\n",
       "    <tr>\n",
       "      <th>26717</th>\n",
       "      <td>81358</td>\n",
       "      <td>STY1644846567</td>\n",
       "      <td>19480</td>\n",
       "      <td>USR1641927505</td>\n",
       "      <td>male</td>\n",
       "      <td>21</td>\n",
       "      <td>Lo scintillio di Area</td>\n",
       "      <td>Area è un brand emergente newyorkese fondato n...</td>\n",
       "      <td>https://image.pixstory.com/Pixstory-image-1644...</td>\n",
       "      <td>2022-01-12 00:28:25</td>\n",
       "      <td>2022-01-12</td>\n",
       "      <td>area, new york fashion week, fashion, fashion ...</td>\n",
       "      <td>[it:0.999996491761932]</td>\n",
       "    </tr>\n",
       "    <tr>\n",
       "      <th>86321</th>\n",
       "      <td>136940</td>\n",
       "      <td>STY1662269003</td>\n",
       "      <td>86282</td>\n",
       "      <td>USR1662268871</td>\n",
       "      <td>NaN</td>\n",
       "      <td>29</td>\n",
       "      <td>Lord Kanha ❤️</td>\n",
       "      <td>&lt;p dir=\"ltr\"&gt;Lord Kanha &amp;#10084;&amp;#65039;&lt;/p&gt;</td>\n",
       "      <td>https://image.pixstory.com/Pixstory-image-1662...</td>\n",
       "      <td>2022-09-04 10:51:11</td>\n",
       "      <td>2022-09-04</td>\n",
       "      <td>Technology, History, Food, Entertainment, Spor...</td>\n",
       "      <td>[af:0.714282910059934, id:0.14285868531136864,...</td>\n",
       "    </tr>\n",
       "  </tbody>\n",
       "</table>\n",
       "</div>"
      ],
      "text/plain": [
       "       Story Primary ID       Story ID  User Primary ID        User ID Gender  \\\n",
       "35809            116542  STY1657964510            23748  USR1642618401   male   \n",
       "21488            149559  STY1664217353            11859  USR1638425715   male   \n",
       "2754              89265  STY1648058165              472  USR1612356664   male   \n",
       "26717             81358  STY1644846567            19480  USR1641927505   male   \n",
       "86321            136940  STY1662269003            86282  USR1662268871    NaN   \n",
       "\n",
       "       Age                                              Title  \\\n",
       "35809   26      Koulibaly al Chelsea il comunicato del Napoli   \n",
       "21488   21  Gauhati University Assam recruitment: Teaching...   \n",
       "2754    22  How Sri Lanka is going out of its way to get i...   \n",
       "26717   21                              Lo scintillio di Area   \n",
       "86321   29                                      Lord Kanha ❤️   \n",
       "\n",
       "                                               Narrative  \\\n",
       "35809  \"Kalidou,\\nabbiamo trascorso insieme 8 stagion...   \n",
       "21488  <p dir=\"ltr\">Gauhati University Assam recruitm...   \n",
       "2754   A little over a week back, Sri Lanka President...   \n",
       "26717  Area è un brand emergente newyorkese fondato n...   \n",
       "86321       <p dir=\"ltr\">Lord Kanha &#10084;&#65039;</p>   \n",
       "\n",
       "                                                   Media Account Created Date  \\\n",
       "35809  https://image.pixstory.com/Pixstory-image-1657...  2022-01-20 00:23:21   \n",
       "21488  https://image.pixstory.com/Pixstory-image-1664...  2021-12-02 11:45:15   \n",
       "2754   https://image.pixstory.com/Pixstory-image-1648...  2021-02-03 18:21:04   \n",
       "26717  https://image.pixstory.com/Pixstory-image-1644...  2022-01-12 00:28:25   \n",
       "86321  https://image.pixstory.com/Pixstory-image-1662...  2022-09-04 10:51:11   \n",
       "\n",
       "      Date (No Timestamp)                                           Interest  \\\n",
       "35809          2022-01-20  Sports, sport, calcio, calciomercato, serie a,...   \n",
       "21488          2021-12-02  Technology, History, Food, Entertainment, Spor...   \n",
       "2754           2021-02-03  sri lanka, gotabaya rajapaksa, economic crisis...   \n",
       "26717          2022-01-12  area, new york fashion week, fashion, fashion ...   \n",
       "86321          2022-09-04  Technology, History, Food, Entertainment, Spor...   \n",
       "\n",
       "                                    Narrative LangDetect  \n",
       "35809                            [it:0.9999958074692731]  \n",
       "21488                            [en:0.9999940596691582]  \n",
       "2754                             [en:0.9999978396056868]  \n",
       "26717                             [it:0.999996491761932]  \n",
       "86321  [af:0.714282910059934, id:0.14285868531136864,...  "
      ]
     },
     "execution_count": 9,
     "metadata": {},
     "output_type": "execute_result"
    }
   ],
   "source": [
    "df.sample(5)"
   ]
  },
  {
   "cell_type": "markdown",
   "id": "06faa7c5",
   "metadata": {},
   "source": [
    "Lang Detection -- Tika"
   ]
  },
  {
   "cell_type": "code",
   "execution_count": 11,
   "id": "09e58134",
   "metadata": {
    "collapsed": true
   },
   "outputs": [
    {
     "name": "stdout",
     "output_type": "stream",
     "text": [
      "Requirement already satisfied: tika in /Users/taniadawood/opt/anaconda3/lib/python3.8/site-packages (2.6.0)\n",
      "Requirement already satisfied: requests in /Users/taniadawood/opt/anaconda3/lib/python3.8/site-packages (from tika) (2.26.0)\n",
      "Requirement already satisfied: setuptools in /Users/taniadawood/opt/anaconda3/lib/python3.8/site-packages (from tika) (52.0.0.post20210125)\n",
      "Requirement already satisfied: charset-normalizer~=2.0.0 in /Users/taniadawood/opt/anaconda3/lib/python3.8/site-packages (from requests->tika) (2.0.12)\n",
      "Requirement already satisfied: certifi>=2017.4.17 in /Users/taniadawood/opt/anaconda3/lib/python3.8/site-packages (from requests->tika) (2020.12.5)\n",
      "Requirement already satisfied: idna<4,>=2.5 in /Users/taniadawood/opt/anaconda3/lib/python3.8/site-packages (from requests->tika) (2.10)\n",
      "Requirement already satisfied: urllib3<1.27,>=1.21.1 in /Users/taniadawood/opt/anaconda3/lib/python3.8/site-packages (from requests->tika) (1.26.4)\n",
      "Note: you may need to restart the kernel to use updated packages.\n"
     ]
    }
   ],
   "source": [
    "pip install tika"
   ]
  },
  {
   "cell_type": "code",
   "execution_count": 10,
   "id": "ce1960c4",
   "metadata": {},
   "outputs": [],
   "source": [
    "import tika"
   ]
  },
  {
   "cell_type": "code",
   "execution_count": 11,
   "id": "f6fbd304",
   "metadata": {},
   "outputs": [],
   "source": [
    "from tika import language"
   ]
  },
  {
   "cell_type": "code",
   "execution_count": 12,
   "id": "2ed77a37",
   "metadata": {},
   "outputs": [],
   "source": [
    "df['Narrative TikaDetect'] = df['Narrative'].apply(lambda x: language.from_buffer(x, requestOptions={'timeout': 500}))\n",
    "\n"
   ]
  },
  {
   "cell_type": "code",
   "execution_count": 13,
   "id": "0af38769",
   "metadata": {},
   "outputs": [
    {
     "data": {
      "text/html": [
       "<div>\n",
       "<style scoped>\n",
       "    .dataframe tbody tr th:only-of-type {\n",
       "        vertical-align: middle;\n",
       "    }\n",
       "\n",
       "    .dataframe tbody tr th {\n",
       "        vertical-align: top;\n",
       "    }\n",
       "\n",
       "    .dataframe thead th {\n",
       "        text-align: right;\n",
       "    }\n",
       "</style>\n",
       "<table border=\"1\" class=\"dataframe\">\n",
       "  <thead>\n",
       "    <tr style=\"text-align: right;\">\n",
       "      <th></th>\n",
       "      <th>Story Primary ID</th>\n",
       "      <th>Story ID</th>\n",
       "      <th>User Primary ID</th>\n",
       "      <th>User ID</th>\n",
       "      <th>Gender</th>\n",
       "      <th>Age</th>\n",
       "      <th>Title</th>\n",
       "      <th>Narrative</th>\n",
       "      <th>Media</th>\n",
       "      <th>Account Created Date</th>\n",
       "      <th>Date (No Timestamp)</th>\n",
       "      <th>Interest</th>\n",
       "      <th>Narrative LangDetect</th>\n",
       "      <th>Narrative TikaDetect</th>\n",
       "    </tr>\n",
       "  </thead>\n",
       "  <tbody>\n",
       "    <tr>\n",
       "      <th>77063</th>\n",
       "      <td>127175</td>\n",
       "      <td>STY1660559593</td>\n",
       "      <td>74001</td>\n",
       "      <td>USR1660559412</td>\n",
       "      <td>male</td>\n",
       "      <td>23</td>\n",
       "      <td>College life</td>\n",
       "      <td>Great day and one of the most fun nights of my...</td>\n",
       "      <td>https://image.pixstory.com/Pixstory-image-1660...</td>\n",
       "      <td>2022-08-15 16:00:00</td>\n",
       "      <td>2022-08-15</td>\n",
       "      <td>playing sports, clubbing</td>\n",
       "      <td>[en:0.9999956690727475]</td>\n",
       "      <td>en</td>\n",
       "    </tr>\n",
       "    <tr>\n",
       "      <th>60154</th>\n",
       "      <td>106505</td>\n",
       "      <td>STY1654952195</td>\n",
       "      <td>37241</td>\n",
       "      <td>USR1652794310</td>\n",
       "      <td>NaN</td>\n",
       "      <td>20</td>\n",
       "      <td>Story of Vipin Khadse .</td>\n",
       "      <td>Vipin Khadse, a final-year medical student, as...</td>\n",
       "      <td>https://image.pixstory.com/Pixstory-image-1654...</td>\n",
       "      <td>2022-05-17 19:01:50</td>\n",
       "      <td>2022-05-17</td>\n",
       "      <td>#heros, #doctor, #birth, #bravery</td>\n",
       "      <td>[en:0.9999975266044834]</td>\n",
       "      <td>en</td>\n",
       "    </tr>\n",
       "    <tr>\n",
       "      <th>17020</th>\n",
       "      <td>146617</td>\n",
       "      <td>STY1663688512</td>\n",
       "      <td>11045</td>\n",
       "      <td>USR1637258628</td>\n",
       "      <td>others</td>\n",
       "      <td>22</td>\n",
       "      <td>Priyanka Chopra Jonas shares pictures of daugh...</td>\n",
       "      <td>&lt;p dir=\"ltr\"&gt;She shared two picture of herself...</td>\n",
       "      <td>https://image.pixstory.com/Pixstory-image-1663...</td>\n",
       "      <td>2021-11-18 23:33:48</td>\n",
       "      <td>2021-11-18</td>\n",
       "      <td>Technology, History, Food, Entertainment, Spor...</td>\n",
       "      <td>[en:0.9999942752544623]</td>\n",
       "      <td>en</td>\n",
       "    </tr>\n",
       "    <tr>\n",
       "      <th>61297</th>\n",
       "      <td>102384</td>\n",
       "      <td>STY1653445326</td>\n",
       "      <td>39235</td>\n",
       "      <td>USR1653424345</td>\n",
       "      <td>female</td>\n",
       "      <td>40</td>\n",
       "      <td>My heart... the reason for everything that I d...</td>\n",
       "      <td>nan</td>\n",
       "      <td>https://image.pixstory.com/Pixstory-image-1653...</td>\n",
       "      <td>2022-05-25 02:02:25</td>\n",
       "      <td>2022-05-25</td>\n",
       "      <td>hanging out!</td>\n",
       "      <td>[tl:0.9999985360616094]</td>\n",
       "      <td>tl</td>\n",
       "    </tr>\n",
       "    <tr>\n",
       "      <th>73769</th>\n",
       "      <td>144523</td>\n",
       "      <td>STY1663345704</td>\n",
       "      <td>70960</td>\n",
       "      <td>USR1660229141</td>\n",
       "      <td>NaN</td>\n",
       "      <td>32</td>\n",
       "      <td>Take a trip down the memory lane ... Tera musk...</td>\n",
       "      <td>&lt;p dir=\"ltr\"&gt;Remember the days when you used t...</td>\n",
       "      <td>https://image.pixstory.com/Pixstory-image-1663...</td>\n",
       "      <td>2022-08-11 20:15:41</td>\n",
       "      <td>2022-08-11</td>\n",
       "      <td>bollywood music, hindi songs, music</td>\n",
       "      <td>[en:0.9999983711031847]</td>\n",
       "      <td>en</td>\n",
       "    </tr>\n",
       "  </tbody>\n",
       "</table>\n",
       "</div>"
      ],
      "text/plain": [
       "       Story Primary ID       Story ID  User Primary ID        User ID  \\\n",
       "77063            127175  STY1660559593            74001  USR1660559412   \n",
       "60154            106505  STY1654952195            37241  USR1652794310   \n",
       "17020            146617  STY1663688512            11045  USR1637258628   \n",
       "61297            102384  STY1653445326            39235  USR1653424345   \n",
       "73769            144523  STY1663345704            70960  USR1660229141   \n",
       "\n",
       "       Gender  Age                                              Title  \\\n",
       "77063    male   23                                       College life   \n",
       "60154     NaN   20                            Story of Vipin Khadse .   \n",
       "17020  others   22  Priyanka Chopra Jonas shares pictures of daugh...   \n",
       "61297  female   40  My heart... the reason for everything that I d...   \n",
       "73769     NaN   32  Take a trip down the memory lane ... Tera musk...   \n",
       "\n",
       "                                               Narrative  \\\n",
       "77063  Great day and one of the most fun nights of my...   \n",
       "60154  Vipin Khadse, a final-year medical student, as...   \n",
       "17020  <p dir=\"ltr\">She shared two picture of herself...   \n",
       "61297                                                nan   \n",
       "73769  <p dir=\"ltr\">Remember the days when you used t...   \n",
       "\n",
       "                                                   Media Account Created Date  \\\n",
       "77063  https://image.pixstory.com/Pixstory-image-1660...  2022-08-15 16:00:00   \n",
       "60154  https://image.pixstory.com/Pixstory-image-1654...  2022-05-17 19:01:50   \n",
       "17020  https://image.pixstory.com/Pixstory-image-1663...  2021-11-18 23:33:48   \n",
       "61297  https://image.pixstory.com/Pixstory-image-1653...  2022-05-25 02:02:25   \n",
       "73769  https://image.pixstory.com/Pixstory-image-1663...  2022-08-11 20:15:41   \n",
       "\n",
       "      Date (No Timestamp)                                           Interest  \\\n",
       "77063          2022-08-15                           playing sports, clubbing   \n",
       "60154          2022-05-17                  #heros, #doctor, #birth, #bravery   \n",
       "17020          2021-11-18  Technology, History, Food, Entertainment, Spor...   \n",
       "61297          2022-05-25                                       hanging out!   \n",
       "73769          2022-08-11                bollywood music, hindi songs, music   \n",
       "\n",
       "          Narrative LangDetect Narrative TikaDetect  \n",
       "77063  [en:0.9999956690727475]                   en  \n",
       "60154  [en:0.9999975266044834]                   en  \n",
       "17020  [en:0.9999942752544623]                   en  \n",
       "61297  [tl:0.9999985360616094]                   tl  \n",
       "73769  [en:0.9999983711031847]                   en  "
      ]
     },
     "execution_count": 13,
     "metadata": {},
     "output_type": "execute_result"
    }
   ],
   "source": [
    "df.sample(5)"
   ]
  },
  {
   "cell_type": "code",
   "execution_count": 14,
   "id": "d1887f5c",
   "metadata": {},
   "outputs": [],
   "source": [
    "df.to_csv('Master_Dataset_Raw_LangDetect_Complete.csv', index=False)"
   ]
  },
  {
   "cell_type": "code",
   "execution_count": null,
   "id": "3c063dd7",
   "metadata": {},
   "outputs": [],
   "source": []
  }
 ],
 "metadata": {
  "kernelspec": {
   "display_name": "Python 3",
   "language": "python",
   "name": "python3"
  },
  "language_info": {
   "codemirror_mode": {
    "name": "ipython",
    "version": 3
   },
   "file_extension": ".py",
   "mimetype": "text/x-python",
   "name": "python",
   "nbconvert_exporter": "python",
   "pygments_lexer": "ipython3",
   "version": "3.8.8"
  }
 },
 "nbformat": 4,
 "nbformat_minor": 5
}
