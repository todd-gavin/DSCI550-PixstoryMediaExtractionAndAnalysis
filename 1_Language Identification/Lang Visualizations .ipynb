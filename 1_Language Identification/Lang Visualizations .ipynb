{
 "cells": [
  {
   "cell_type": "code",
   "execution_count": 18,
   "id": "065c24f6",
   "metadata": {},
   "outputs": [],
   "source": [
    "import pandas as pd\n",
    "from collections import Counter\n",
    "import matplotlib.pyplot as plt\n",
    "import numpy as np"
   ]
  },
  {
   "cell_type": "code",
   "execution_count": 4,
   "id": "fd93bed5",
   "metadata": {},
   "outputs": [],
   "source": [
    "df = pd.read_csv('/Users/taniadawood/Desktop/DSCI550-PixstoryMediaExtractionAndAnalysis/1_Language Identification/Master_Dataset_Raw_LangDetect_Complete.csv')\n"
   ]
  },
  {
   "cell_type": "code",
   "execution_count": 5,
   "id": "1bbb1f89",
   "metadata": {
    "collapsed": true
   },
   "outputs": [
    {
     "data": {
      "text/html": [
       "<div>\n",
       "<style scoped>\n",
       "    .dataframe tbody tr th:only-of-type {\n",
       "        vertical-align: middle;\n",
       "    }\n",
       "\n",
       "    .dataframe tbody tr th {\n",
       "        vertical-align: top;\n",
       "    }\n",
       "\n",
       "    .dataframe thead th {\n",
       "        text-align: right;\n",
       "    }\n",
       "</style>\n",
       "<table border=\"1\" class=\"dataframe\">\n",
       "  <thead>\n",
       "    <tr style=\"text-align: right;\">\n",
       "      <th></th>\n",
       "      <th>Story Primary ID</th>\n",
       "      <th>Story ID</th>\n",
       "      <th>User Primary ID</th>\n",
       "      <th>User ID</th>\n",
       "      <th>Gender</th>\n",
       "      <th>Age</th>\n",
       "      <th>Title</th>\n",
       "      <th>Narrative</th>\n",
       "      <th>Media</th>\n",
       "      <th>Account Created Date</th>\n",
       "      <th>Date (No Timestamp)</th>\n",
       "      <th>Interest</th>\n",
       "      <th>Narrative LangDetect</th>\n",
       "      <th>Narrative TikaDetect</th>\n",
       "    </tr>\n",
       "  </thead>\n",
       "  <tbody>\n",
       "    <tr>\n",
       "      <th>0</th>\n",
       "      <td>121169</td>\n",
       "      <td>STY1659426957</td>\n",
       "      <td>103</td>\n",
       "      <td>USR1606807023</td>\n",
       "      <td>female</td>\n",
       "      <td>34</td>\n",
       "      <td>Trend of the Year: Barbiecore</td>\n",
       "      <td>The colour of the year is here, and it's *drum...</td>\n",
       "      <td>https://image.pixstory.com/Pixstory-image-1659...</td>\n",
       "      <td>2020-01-12 12:47:00</td>\n",
       "      <td>2020-01-12</td>\n",
       "      <td>trends, fashion, barbie</td>\n",
       "      <td>[en:0.9999974986518982]</td>\n",
       "      <td>en</td>\n",
       "    </tr>\n",
       "    <tr>\n",
       "      <th>1</th>\n",
       "      <td>127727</td>\n",
       "      <td>STY1660634861</td>\n",
       "      <td>103</td>\n",
       "      <td>USR1606807023</td>\n",
       "      <td>female</td>\n",
       "      <td>34</td>\n",
       "      <td>Abomination of the day</td>\n",
       "      <td>We Indians do love to bastardise our foods- Ch...</td>\n",
       "      <td>https://image.pixstory.com/Pixstory-image-1660...</td>\n",
       "      <td>2020-01-12 12:47:00</td>\n",
       "      <td>2020-01-12</td>\n",
       "      <td>Food, momos, weird menus</td>\n",
       "      <td>[en:0.9999957708537239]</td>\n",
       "      <td>en</td>\n",
       "    </tr>\n",
       "    <tr>\n",
       "      <th>2</th>\n",
       "      <td>123665</td>\n",
       "      <td>STY1660027898</td>\n",
       "      <td>103</td>\n",
       "      <td>USR1606807023</td>\n",
       "      <td>female</td>\n",
       "      <td>34</td>\n",
       "      <td>Shameful headline in 2022</td>\n",
       "      <td>Can professors not have personal lives? \\n\\nAd...</td>\n",
       "      <td>https://image.pixstory.com/Pixstory-image-1660...</td>\n",
       "      <td>2020-01-12 12:47:00</td>\n",
       "      <td>2020-01-12</td>\n",
       "      <td>misogyny, st  xaviers</td>\n",
       "      <td>[en:0.999996152302975]</td>\n",
       "      <td>en</td>\n",
       "    </tr>\n",
       "    <tr>\n",
       "      <th>3</th>\n",
       "      <td>130517</td>\n",
       "      <td>STY1661151635</td>\n",
       "      <td>103</td>\n",
       "      <td>USR1606807023</td>\n",
       "      <td>female</td>\n",
       "      <td>34</td>\n",
       "      <td>Woman lawyer arrested for abusing security guard</td>\n",
       "      <td>She was recorded on video manhandling him, sho...</td>\n",
       "      <td>https://image.pixstory.com/Pixstory-image-1661...</td>\n",
       "      <td>2020-01-12 12:47:00</td>\n",
       "      <td>2020-01-12</td>\n",
       "      <td>Technology, History, Food, Entertainment, Spor...</td>\n",
       "      <td>[en:0.9999974174347146]</td>\n",
       "      <td>en</td>\n",
       "    </tr>\n",
       "    <tr>\n",
       "      <th>4</th>\n",
       "      <td>125466</td>\n",
       "      <td>STY1660372361</td>\n",
       "      <td>109</td>\n",
       "      <td>USR1606851217</td>\n",
       "      <td>others</td>\n",
       "      <td>31</td>\n",
       "      <td>What is the Inflation Reduction Act?</td>\n",
       "      <td>The House passed the Inflation Reduction Act o...</td>\n",
       "      <td>https://image.pixstory.com/Pixstory-image-1660...</td>\n",
       "      <td>2020-02-12 01:03:00</td>\n",
       "      <td>2020-02-12</td>\n",
       "      <td>us government</td>\n",
       "      <td>[en:0.9999966874383718]</td>\n",
       "      <td>en</td>\n",
       "    </tr>\n",
       "  </tbody>\n",
       "</table>\n",
       "</div>"
      ],
      "text/plain": [
       "   Story Primary ID       Story ID  User Primary ID        User ID  Gender  \\\n",
       "0            121169  STY1659426957              103  USR1606807023  female   \n",
       "1            127727  STY1660634861              103  USR1606807023  female   \n",
       "2            123665  STY1660027898              103  USR1606807023  female   \n",
       "3            130517  STY1661151635              103  USR1606807023  female   \n",
       "4            125466  STY1660372361              109  USR1606851217  others   \n",
       "\n",
       "   Age                                             Title  \\\n",
       "0   34                     Trend of the Year: Barbiecore   \n",
       "1   34                            Abomination of the day   \n",
       "2   34                         Shameful headline in 2022   \n",
       "3   34  Woman lawyer arrested for abusing security guard   \n",
       "4   31              What is the Inflation Reduction Act?   \n",
       "\n",
       "                                           Narrative  \\\n",
       "0  The colour of the year is here, and it's *drum...   \n",
       "1  We Indians do love to bastardise our foods- Ch...   \n",
       "2  Can professors not have personal lives? \\n\\nAd...   \n",
       "3  She was recorded on video manhandling him, sho...   \n",
       "4  The House passed the Inflation Reduction Act o...   \n",
       "\n",
       "                                               Media Account Created Date  \\\n",
       "0  https://image.pixstory.com/Pixstory-image-1659...  2020-01-12 12:47:00   \n",
       "1  https://image.pixstory.com/Pixstory-image-1660...  2020-01-12 12:47:00   \n",
       "2  https://image.pixstory.com/Pixstory-image-1660...  2020-01-12 12:47:00   \n",
       "3  https://image.pixstory.com/Pixstory-image-1661...  2020-01-12 12:47:00   \n",
       "4  https://image.pixstory.com/Pixstory-image-1660...  2020-02-12 01:03:00   \n",
       "\n",
       "  Date (No Timestamp)                                           Interest  \\\n",
       "0          2020-01-12                            trends, fashion, barbie   \n",
       "1          2020-01-12                           Food, momos, weird menus   \n",
       "2          2020-01-12                              misogyny, st  xaviers   \n",
       "3          2020-01-12  Technology, History, Food, Entertainment, Spor...   \n",
       "4          2020-02-12                                      us government   \n",
       "\n",
       "      Narrative LangDetect Narrative TikaDetect  \n",
       "0  [en:0.9999974986518982]                   en  \n",
       "1  [en:0.9999957708537239]                   en  \n",
       "2   [en:0.999996152302975]                   en  \n",
       "3  [en:0.9999974174347146]                   en  \n",
       "4  [en:0.9999966874383718]                   en  "
      ]
     },
     "execution_count": 5,
     "metadata": {},
     "output_type": "execute_result"
    }
   ],
   "source": [
    "df.head(5)"
   ]
  },
  {
   "cell_type": "markdown",
   "id": "9d55e06b",
   "metadata": {},
   "source": [
    "What is the most prevalent language in the posts, and least prevalent? (Tania)"
   ]
  },
  {
   "cell_type": "code",
   "execution_count": 40,
   "id": "2bbe7c29",
   "metadata": {
    "scrolled": true
   },
   "outputs": [
    {
     "name": "stdout",
     "output_type": "stream",
     "text": [
      "Counter({'en': 67056, 'it': 11575, 'bn': 2691, 'af': 1256, nan: 1247, 'ro': 940, 'id': 757, 'cy': 640, 'ms': 626, 'tl': 609, 'de': 601, 'fr': 585, 'hi': 577, 'ml': 487, 'ca': 459, 'no': 437, 'so': 434, 'nl': 353, 'eu': 338, 'ht': 318, 'br': 253, 'ga': 252, 'da': 225, 'sv': 200, 'sl': 197, 'et': 181, 'sw': 179, 'sq': 171, 'tr': 163, 'mt': 146, 'pl': 139, 'oc': 107, 'fi': 105, 'pt': 100, 'es': 75, 'cs': 69, 'sk': 65, 'ast': 55, 'hr': 46, 'is': 44, 'an': 43, 'lt': 41, 'gl': 34, 'vi': 30, 'fa': 20, 'hu': 19, 'lv': 19, 'mr': 10, 'ne': 9, 'ru': 9, 'ta': 3, 'zh-CN': 2, 'pa': 1, 'uk': 1, 'te': 1})\n"
     ]
    }
   ],
   "source": [
    "tika_lang_count = Counter(df['Narrative TikaDetect'])\n",
    "\n",
    "print(tika_lang_count)\n"
   ]
  },
  {
   "cell_type": "code",
   "execution_count": 39,
   "id": "5b9e213c",
   "metadata": {},
   "outputs": [
    {
     "name": "stdout",
     "output_type": "stream",
     "text": [
      "Counter({'en': 67056, 'it': 11575, 'bn': 2691, 'af': 1256, nan: 1247, 'ro': 940, 'id': 757, 'cy': 640, 'ms': 626, 'tl': 609, 'de': 601, 'fr': 585, 'hi': 577, 'ml': 487, 'ca': 459, 'no': 437, 'so': 434, 'nl': 353, 'eu': 338, 'ht': 318, 'br': 253, 'ga': 252, 'da': 225, 'sv': 200, 'sl': 197, 'et': 181, 'sw': 179, 'sq': 171, 'tr': 163, 'mt': 146, 'pl': 139, 'oc': 107, 'fi': 105, 'pt': 100, 'es': 75, 'cs': 69, 'sk': 65, 'ast': 55, 'hr': 46, 'is': 44, 'an': 43, 'lt': 41, 'gl': 34, 'vi': 30, 'fa': 20, 'hu': 19, 'lv': 19, 'mr': 10, 'ne': 9, 'ru': 9, 'ta': 3, 'zh-CN': 2, 'pa': 1, 'uk': 1, 'te': 1})\n"
     ]
    }
   ],
   "source": [
    "print(tika_lang_count)"
   ]
  },
  {
   "cell_type": "code",
   "execution_count": 51,
   "id": "cff327fe",
   "metadata": {},
   "outputs": [
    {
     "data": {
      "text/plain": [
       "Text(0.5, 1.0, 'Histogram of Detected Languages')"
      ]
     },
     "execution_count": 51,
     "metadata": {},
     "output_type": "execute_result"
    },
    {
     "data": {
      "image/png": "[encoded data removed]",
      "text/plain": [
       "<Figure size 1440x720 with 1 Axes>"
      ]
     },
     "metadata": {
      "needs_background": "light"
     },
     "output_type": "display_data"
    }
   ],
   "source": [
    "# convert counter to dictionary, with string values\n",
    "tika_lang_dict = {str(k): v for k, v in tika_lang_count.items()}\n",
    "\n",
    "# plot histogram\n",
    "fig, ax = plt.subplots(figsize=(20, 10))\n",
    "ax.hist(tika_lang_count.keys(), weights=tika_lang_count.values(), bins=50)\n",
    "ax.set_xlabel('Language')\n",
    "ax.set_ylabel('Frequency')\n",
    "ax.set_title('Histogram of Detected Languages')"
   ]
  },
  {
   "cell_type": "code",
   "execution_count": 41,
   "id": "ef099497",
   "metadata": {},
   "outputs": [
    {
     "name": "stdout",
     "output_type": "stream",
     "text": [
      "Counter({'en': 67663, 'it': 9241, 'bn': 2693, 'ca': 2485, 'af': 1619, 'id': 1559, 'ro': 1245, nan: 1182, 'fr': 681, 'tl': 646, 'de': 618, 'hi': 578, 'no': 531, 'ml': 486, 'cy': 436, 'so': 385, 'nl': 350, 'sw': 266, 'sl': 263, 'da': 220, 'sq': 214, 'et': 207, 'sv': 204, 'fi': 194, 'tr': 173, 'pt': 141, 'pl': 128, 'es': 105, 'hr': 78, 'vi': 78, 'sk': 71, 'lt': 67, 'cs': 60, 'lv': 52, 'fa': 21, 'hu': 19, 'ne': 11, 'mr': 10, 'ru': 9, 'ja': 4, 'ta': 3, 'zh': 2, 'pa': 1, 'te': 1})\n"
     ]
    }
   ],
   "source": [
    "df['language_code'] = df['Narrative LangDetect'].str.extract(r'\\[([a-z]{2})')\n",
    "\n",
    "google_lang_count = Counter(df['language_code'])\n",
    "\n",
    "print(google_lang_count)"
   ]
  },
  {
   "cell_type": "code",
   "execution_count": 57,
   "id": "a16aed17",
   "metadata": {},
   "outputs": [
    {
     "data": {
      "text/plain": [
       "Text(0.5, 1.0, 'Histogram of Detected Languages')"
      ]
     },
     "execution_count": 57,
     "metadata": {},
     "output_type": "execute_result"
    },
    {
     "data": {
      "image/png": "[encoded data removed]",
      "text/plain": [
       "<Figure size 1440x720 with 1 Axes>"
      ]
     },
     "metadata": {
      "needs_background": "light"
     },
     "output_type": "display_data"
    }
   ],
   "source": [
    "# convert counter to dictionary, with string values\n",
    "google_lang_dict = {str(k): v for k, v in google_lang_count.items()}\n",
    "\n",
    "# plot histogram\n",
    "fig, ax = plt.subplots(figsize=(20, 10))\n",
    "ax.hist(google_lang_count.keys(), weights=google_lang_count.values(), bins=50)\n",
    "ax.set_xlabel('Language')\n",
    "ax.set_ylabel('Frequency')\n",
    "ax.set_title('Histogram of Detected Languages')"
   ]
  },
  {
   "cell_type": "code",
   "execution_count": 58,
   "id": "96e72f44",
   "metadata": {},
   "outputs": [
    {
     "data": {
      "image/png": "[encoded data removed]",
      "text/plain": [
       "<Figure size 1440x720 with 1 Axes>"
      ]
     },
     "metadata": {
      "needs_background": "light"
     },
     "output_type": "display_data"
    }
   ],
   "source": [
    "# convert counters to dictionaries, with string values\n",
    "tika_lang_dict = {str(k): v for k, v in tika_lang_count.items()}\n",
    "google_lang_dict = {str(k): v for k, v in google_lang_count.items()}\n",
    "\n",
    "# plot histograms\n",
    "fig, ax = plt.subplots(figsize=(20, 10))\n",
    "ax.hist(tika_lang_count.keys(), weights=tika_lang_count.values(), bins=50, alpha=0.5, label='Tika')\n",
    "ax.hist(google_lang_count.keys(), weights=google_lang_count.values(), bins=50, alpha=0.5, label='Google')\n",
    "ax.set_xlabel('Language')\n",
    "ax.set_ylabel('Frequency')\n",
    "ax.set_title('Histogram of Detected Languages')\n",
    "ax.legend(loc='upper right')\n",
    "plt.show()\n"
   ]
  },
  {
   "cell_type": "code",
   "execution_count": null,
   "id": "0670f186",
   "metadata": {},
   "outputs": [],
   "source": []
  }
 ],
 "metadata": {
  "kernelspec": {
   "display_name": "Python 3",
   "language": "python",
   "name": "python3"
  },
  "language_info": {
   "codemirror_mode": {
    "name": "ipython",
    "version": 3
   },
   "file_extension": ".py",
   "mimetype": "text/x-python",
   "name": "python",
   "nbconvert_exporter": "python",
   "pygments_lexer": "ipython3",
   "version": "3.8.8"
  }
 },
 "nbformat": 4,
 "nbformat_minor": 5
}
