{
 "cells": [
  {
   "cell_type": "code",
   "execution_count": 1,
   "id": "2f8c327a",
   "metadata": {},
   "outputs": [
    {
     "name": "stdout",
     "output_type": "stream",
     "text": [
      "Requirement already satisfied: tika in /Users/taniadawood/opt/anaconda3/lib/python3.8/site-packages (2.6.0)\n",
      "Requirement already satisfied: requests in /Users/taniadawood/opt/anaconda3/lib/python3.8/site-packages (from tika) (2.26.0)\n",
      "Requirement already satisfied: setuptools in /Users/taniadawood/opt/anaconda3/lib/python3.8/site-packages (from tika) (52.0.0.post20210125)\n",
      "Requirement already satisfied: certifi>=2017.4.17 in /Users/taniadawood/opt/anaconda3/lib/python3.8/site-packages (from requests->tika) (2020.12.5)\n",
      "Requirement already satisfied: urllib3<1.27,>=1.21.1 in /Users/taniadawood/opt/anaconda3/lib/python3.8/site-packages (from requests->tika) (1.26.4)\n",
      "Requirement already satisfied: charset-normalizer~=2.0.0 in /Users/taniadawood/opt/anaconda3/lib/python3.8/site-packages (from requests->tika) (2.0.12)\n",
      "Requirement already satisfied: idna<4,>=2.5 in /Users/taniadawood/opt/anaconda3/lib/python3.8/site-packages (from requests->tika) (2.10)\n",
      "Note: you may need to restart the kernel to use updated packages.\n"
     ]
    }
   ],
   "source": [
    "pip install tika"
   ]
  },
  {
   "cell_type": "code",
   "execution_count": 3,
   "id": "d5b2def3",
   "metadata": {},
   "outputs": [
    {
     "name": "stdout",
     "output_type": "stream",
     "text": [
      "Requirement already satisfied: emoji in /Users/taniadawood/opt/anaconda3/lib/python3.8/site-packages (2.2.0)\n",
      "Note: you may need to restart the kernel to use updated packages.\n"
     ]
    }
   ],
   "source": [
    "pip install emoji"
   ]
  },
  {
   "cell_type": "code",
   "execution_count": 1,
   "id": "90c69ed4",
   "metadata": {},
   "outputs": [],
   "source": [
    "import pandas as pd\n",
    "from tika import translate\n",
    "from tika import language\n",
    "import requests\n",
    "import re\n",
    "import emoji\n"
   ]
  },
  {
   "cell_type": "code",
   "execution_count": 2,
   "id": "aab7edda",
   "metadata": {},
   "outputs": [],
   "source": [
    "df = pd.read_csv('/Users/taniadawood/Desktop/DSCI550-PixstoryMediaExtractionAndAnalysis/1_Language Identification/Master_Dataset_Raw_LangDetect_Complete.csv')\n"
   ]
  },
  {
   "cell_type": "code",
   "execution_count": 3,
   "id": "ac6b6763",
   "metadata": {},
   "outputs": [],
   "source": [
    "df['Narrative'] = df['Narrative'].astype(str)"
   ]
  },
  {
   "cell_type": "code",
   "execution_count": 4,
   "id": "83d89311",
   "metadata": {},
   "outputs": [
    {
     "data": {
      "text/html": [
       "<div>\n",
       "<style scoped>\n",
       "    .dataframe tbody tr th:only-of-type {\n",
       "        vertical-align: middle;\n",
       "    }\n",
       "\n",
       "    .dataframe tbody tr th {\n",
       "        vertical-align: top;\n",
       "    }\n",
       "\n",
       "    .dataframe thead th {\n",
       "        text-align: right;\n",
       "    }\n",
       "</style>\n",
       "<table border=\"1\" class=\"dataframe\">\n",
       "  <thead>\n",
       "    <tr style=\"text-align: right;\">\n",
       "      <th></th>\n",
       "      <th>Story Primary ID</th>\n",
       "      <th>Story ID</th>\n",
       "      <th>User Primary ID</th>\n",
       "      <th>User ID</th>\n",
       "      <th>Gender</th>\n",
       "      <th>Age</th>\n",
       "      <th>Title</th>\n",
       "      <th>Narrative</th>\n",
       "      <th>Media</th>\n",
       "      <th>Account Created Date</th>\n",
       "      <th>Date (No Timestamp)</th>\n",
       "      <th>Interest</th>\n",
       "      <th>Narrative LangDetect</th>\n",
       "      <th>Narrative TikaDetect</th>\n",
       "    </tr>\n",
       "  </thead>\n",
       "  <tbody>\n",
       "    <tr>\n",
       "      <th>25</th>\n",
       "      <td>88954.0</td>\n",
       "      <td>STY1647958076</td>\n",
       "      <td>2.0</td>\n",
       "      <td>USR1605614195</td>\n",
       "      <td>others</td>\n",
       "      <td>27.0</td>\n",
       "      <td>Good morning! 🙂</td>\n",
       "      <td>Hope you guys are having a great week!</td>\n",
       "      <td>https://image.pixstory.com/Pixstory-image-1647...</td>\n",
       "      <td>2020-11-17 17:26:35</td>\n",
       "      <td>2020-11-17</td>\n",
       "      <td>good morning</td>\n",
       "      <td>[en:0.9999983825560843]</td>\n",
       "      <td>br</td>\n",
       "    </tr>\n",
       "    <tr>\n",
       "      <th>40</th>\n",
       "      <td>121502.0</td>\n",
       "      <td>STY1659507311</td>\n",
       "      <td>4.0</td>\n",
       "      <td>USR1605615013</td>\n",
       "      <td>male</td>\n",
       "      <td>33.0</td>\n",
       "      <td>This is new test</td>\n",
       "      <td>This is new test \\n@ arightside \\nhttps://www....</td>\n",
       "      <td>https://image.pixstory.com/Pixstory-image-1659...</td>\n",
       "      <td>2020-11-17 17:40:00</td>\n",
       "      <td>2020-11-17</td>\n",
       "      <td>Technology, History, Food, Entertainment, Spor...</td>\n",
       "      <td>[et:0.8571383634949571, en:0.14285925329035773]</td>\n",
       "      <td>ht</td>\n",
       "    </tr>\n",
       "    <tr>\n",
       "      <th>42</th>\n",
       "      <td>122143.0</td>\n",
       "      <td>STY1659682079</td>\n",
       "      <td>4.0</td>\n",
       "      <td>USR1605615013</td>\n",
       "      <td>male</td>\n",
       "      <td>33.0</td>\n",
       "      <td>Hello @kumarvijay</td>\n",
       "      <td>&lt;p dir=\"ltr\"&gt;Hello @&lt;a href=\" https://www.pixs...</td>\n",
       "      <td>https://image.pixstory.com/Pixstory-image-1659...</td>\n",
       "      <td>2020-11-17 17:40:00</td>\n",
       "      <td>2020-11-17</td>\n",
       "      <td>Economy, Climate change , Technology, History,...</td>\n",
       "      <td>[lv:0.7142804590927756, en:0.2857140372265599]</td>\n",
       "      <td>mt</td>\n",
       "    </tr>\n",
       "    <tr>\n",
       "      <th>43</th>\n",
       "      <td>125240.0</td>\n",
       "      <td>STY1660311432</td>\n",
       "      <td>4.0</td>\n",
       "      <td>USR1605615013</td>\n",
       "      <td>male</td>\n",
       "      <td>33.0</td>\n",
       "      <td>This is new test</td>\n",
       "      <td>https://adachikan.com/UAT/checkout \\nkumarvija...</td>\n",
       "      <td>https://image.pixstory.com/Pixstory-image-1631...</td>\n",
       "      <td>2020-11-17 17:40:00</td>\n",
       "      <td>2020-11-17</td>\n",
       "      <td>test</td>\n",
       "      <td>[lv:0.7142821140213415, fi:0.14285728512464835...</td>\n",
       "      <td>ht</td>\n",
       "    </tr>\n",
       "  </tbody>\n",
       "</table>\n",
       "</div>"
      ],
      "text/plain": [
       "    Story Primary ID       Story ID  User Primary ID        User ID  Gender  \\\n",
       "25           88954.0  STY1647958076              2.0  USR1605614195  others   \n",
       "40          121502.0  STY1659507311              4.0  USR1605615013    male   \n",
       "42          122143.0  STY1659682079              4.0  USR1605615013    male   \n",
       "43          125240.0  STY1660311432              4.0  USR1605615013    male   \n",
       "\n",
       "     Age              Title  \\\n",
       "25  27.0    Good morning! 🙂   \n",
       "40  33.0   This is new test   \n",
       "42  33.0  Hello @kumarvijay   \n",
       "43  33.0   This is new test   \n",
       "\n",
       "                                            Narrative  \\\n",
       "25             Hope you guys are having a great week!   \n",
       "40  This is new test \\n@ arightside \\nhttps://www....   \n",
       "42  <p dir=\"ltr\">Hello @<a href=\" https://www.pixs...   \n",
       "43  https://adachikan.com/UAT/checkout \\nkumarvija...   \n",
       "\n",
       "                                                Media Account Created Date  \\\n",
       "25  https://image.pixstory.com/Pixstory-image-1647...  2020-11-17 17:26:35   \n",
       "40  https://image.pixstory.com/Pixstory-image-1659...  2020-11-17 17:40:00   \n",
       "42  https://image.pixstory.com/Pixstory-image-1659...  2020-11-17 17:40:00   \n",
       "43  https://image.pixstory.com/Pixstory-image-1631...  2020-11-17 17:40:00   \n",
       "\n",
       "   Date (No Timestamp)                                           Interest  \\\n",
       "25          2020-11-17                                       good morning   \n",
       "40          2020-11-17  Technology, History, Food, Entertainment, Spor...   \n",
       "42          2020-11-17  Economy, Climate change , Technology, History,...   \n",
       "43          2020-11-17                                               test   \n",
       "\n",
       "                                 Narrative LangDetect Narrative TikaDetect  \n",
       "25                            [en:0.9999983825560843]                   br  \n",
       "40    [et:0.8571383634949571, en:0.14285925329035773]                   ht  \n",
       "42     [lv:0.7142804590927756, en:0.2857140372265599]                   mt  \n",
       "43  [lv:0.7142821140213415, fi:0.14285728512464835...                   ht  "
      ]
     },
     "execution_count": 4,
     "metadata": {},
     "output_type": "execute_result"
    }
   ],
   "source": [
    "filter = df['Narrative TikaDetect'] != 'en'\n",
    "df.where(filter, inplace=True)\n",
    "df.dropna(inplace=True)\n",
    "df = df.head(4)\n",
    "df"
   ]
  },
  {
   "cell_type": "code",
   "execution_count": 5,
   "id": "dc91127e",
   "metadata": {},
   "outputs": [
    {
     "name": "stdout",
     "output_type": "stream",
     "text": [
      "25               Hope you guys are having a great week \n",
      "40    This is new test arightside kumarvijay kumarvi...\n",
      "42                                    Hello kumarvijay \n",
      "43                               kumarvijay kumarvijay \n",
      "Name: Narrative, dtype: object\n"
     ]
    }
   ],
   "source": [
    "#taken from the emoji docs since it's not in the latest versions\n",
    "def get_emoji_regexp():\n",
    "    # Sort emoji by length to make sure multi-character emojis are\n",
    "    # matched first\n",
    "    emojis = sorted(emoji.EMOJI_DATA, key=len, reverse=True)\n",
    "    pattern = u'(' + u'|'.join(re.escape(u) for u in emojis) + u')'\n",
    "    return re.compile(pattern)\n",
    "\n",
    "exp = get_emoji_regexp()\n",
    "\n",
    "#this function removes any emojis, html tags, URLs, and special characters before translating\n",
    "def clean_text(text):\n",
    "    try:\n",
    "        text = exp.sub(u'', text)\n",
    "        text = re.sub(r'<.*?>', '', text)\n",
    "        text = re.sub(r'http\\S+', '', text)\n",
    "        text = re.sub('[^a-zA-Z]+', ' ', text)\n",
    "        text = re.sub(r'\\s+', ' ', text)\n",
    "        return text.strip()\n",
    "    except :\n",
    "        print(text)\n",
    "    finally:\n",
    "        return text\n",
    "    \n",
    "    \n",
    "clean_narr = clean_text(df['Narrative'].apply(clean_text))\n",
    "\n",
    "df['Clean Narrative'] = clean_narr"
   ]
  },
  {
   "cell_type": "code",
   "execution_count": null,
   "id": "5bbe4f8d",
   "metadata": {
    "scrolled": true
   },
   "outputs": [],
   "source": [
    "chars = 20 #specifies the number of characters to translate out of the narrative\n",
    "\n",
    "translated_column = []\n",
    "for text, language in zip(df['Clean Narrative'], df['Narrative TikaDetect']):\n",
    "    if language != 'en':\n",
    "        if len(text) > chars:\n",
    "            translated_chunks = []\n",
    "            try:\n",
    "                #translate the narrative in chunks depending on the limit set and join them all together at the end\n",
    "                for i in range(0, len(text), chars):\n",
    "                    group = text[i:i+chars]\n",
    "                    translation = translate.from_buffer(group, language, 'en', requestOptions={'timeout':500})\n",
    "                    if ((translation == '') or (not translation)):\n",
    "                        raise ValueError('Tika server returned 500')\n",
    "                    translated_chunks.append(translation)\n",
    "                translated_text = ''.join(translated_chunks)\n",
    "                translated_column.append(translated_text)\n",
    "                \n",
    "            except Exception as error:\n",
    "                print(error)\n",
    "                print('error text', text)\n",
    "                #Appending \"redo\" for narratives that fail so they will be searchable to run again and update\n",
    "                translated_column.append('redo')\n",
    "        else:\n",
    "            try:\n",
    "                #translate the entire narrative if it's under the specified char size\n",
    "                translated_text = translate.from_buffer(text, language, 'en', requestOptions={'timeout':500})\n",
    "                if ((translated_text == '') or (not translated_text)):\n",
    "                    raise ValueError('Tika server returned 500')\n",
    "                translated_column.append(translated_text)\n",
    "            except Exception as error:\n",
    "                print(error)\n",
    "                print('error text', text)\n",
    "                #Appending \"redo\" for narratives that fail so they will be searchable to run again and update\n",
    "                translated_column.append('redo')\n",
    "    else:\n",
    "        #just append the regular text if it's already english\n",
    "        translated_column.append(text)"
   ]
  },
  {
   "cell_type": "code",
   "execution_count": null,
   "id": "66e82d1d",
   "metadata": {},
   "outputs": [],
   "source": [
    "df['Translated Narrative'] = translated_column"
   ]
  },
  {
   "cell_type": "code",
   "execution_count": null,
   "id": "e6feebd5",
   "metadata": {},
   "outputs": [],
   "source": [
    "df.to_csv('Master_Dataset_Translations_Complete', index=False)"
   ]
  },
  {
   "cell_type": "code",
   "execution_count": null,
   "id": "3f4802e3",
   "metadata": {},
   "outputs": [],
   "source": []
  }
 ],
 "metadata": {
  "kernelspec": {
   "display_name": "Python 3",
   "language": "python",
   "name": "python3"
  },
  "language_info": {
   "codemirror_mode": {
    "name": "ipython",
    "version": 3
   },
   "file_extension": ".py",
   "mimetype": "text/x-python",
   "name": "python",
   "nbconvert_exporter": "python",
   "pygments_lexer": "ipython3",
   "version": "3.8.8"
  }
 },
 "nbformat": 4,
 "nbformat_minor": 5
}
