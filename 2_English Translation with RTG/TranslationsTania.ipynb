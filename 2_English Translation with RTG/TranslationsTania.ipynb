{
 "cells": [
  {
   "cell_type": "markdown",
   "id": "2ec4e5b9",
   "metadata": {},
   "source": [
    "You need to make sure you have tika and get the docker image running with this command: \n",
    "\n",
    "IMAGE=tgowda/rtg-model:500toEng-v1\n",
    "\n",
    "docker run --platform linux/amd64 --rm -i -p 6060:6060 $IMAGE\n",
    "\n",
    "I added in  --platform Linux/amd64  to the command bc I’m on a mac and I needed that to run the image \n",
    "\n",
    "You’ll also need to pip install tika and emoji. I accidentally installed / imported requests too but didn’t end up using it \n",
    "\n",
    "Please make sure you have Java1.8 or higher intsalled on the environment you are using to run the notebook"
   ]
  },
  {
   "cell_type": "code",
   "execution_count": 1,
   "id": "2f8c327a",
   "metadata": {},
   "outputs": [
    {
     "name": "stdout",
     "output_type": "stream",
     "text": [
      "Requirement already satisfied: tika in /Users/taniadawood/opt/anaconda3/lib/python3.8/site-packages (2.6.0)\n",
      "Requirement already satisfied: requests in /Users/taniadawood/opt/anaconda3/lib/python3.8/site-packages (from tika) (2.26.0)\n",
      "Requirement already satisfied: setuptools in /Users/taniadawood/opt/anaconda3/lib/python3.8/site-packages (from tika) (52.0.0.post20210125)\n",
      "Requirement already satisfied: certifi>=2017.4.17 in /Users/taniadawood/opt/anaconda3/lib/python3.8/site-packages (from requests->tika) (2020.12.5)\n",
      "Requirement already satisfied: urllib3<1.27,>=1.21.1 in /Users/taniadawood/opt/anaconda3/lib/python3.8/site-packages (from requests->tika) (1.26.4)\n",
      "Requirement already satisfied: charset-normalizer~=2.0.0 in /Users/taniadawood/opt/anaconda3/lib/python3.8/site-packages (from requests->tika) (2.0.12)\n",
      "Requirement already satisfied: idna<4,>=2.5 in /Users/taniadawood/opt/anaconda3/lib/python3.8/site-packages (from requests->tika) (2.10)\n",
      "Note: you may need to restart the kernel to use updated packages.\n"
     ]
    }
   ],
   "source": [
    "pip install tika"
   ]
  },
  {
   "cell_type": "code",
   "execution_count": 2,
   "id": "c57aed9b",
   "metadata": {},
   "outputs": [
    {
     "name": "stdout",
     "output_type": "stream",
     "text": [
      "Requirement already satisfied: requests in /Users/taniadawood/opt/anaconda3/lib/python3.8/site-packages (2.26.0)\n",
      "Requirement already satisfied: idna<4,>=2.5 in /Users/taniadawood/opt/anaconda3/lib/python3.8/site-packages (from requests) (2.10)\n",
      "Requirement already satisfied: certifi>=2017.4.17 in /Users/taniadawood/opt/anaconda3/lib/python3.8/site-packages (from requests) (2020.12.5)\n",
      "Requirement already satisfied: urllib3<1.27,>=1.21.1 in /Users/taniadawood/opt/anaconda3/lib/python3.8/site-packages (from requests) (1.26.4)\n",
      "Requirement already satisfied: charset-normalizer~=2.0.0 in /Users/taniadawood/opt/anaconda3/lib/python3.8/site-packages (from requests) (2.0.12)\n",
      "Note: you may need to restart the kernel to use updated packages.\n"
     ]
    }
   ],
   "source": [
    "pip install requests"
   ]
  },
  {
   "cell_type": "code",
   "execution_count": 3,
   "id": "d5b2def3",
   "metadata": {},
   "outputs": [
    {
     "name": "stdout",
     "output_type": "stream",
     "text": [
      "Requirement already satisfied: emoji in /Users/taniadawood/opt/anaconda3/lib/python3.8/site-packages (2.2.0)\n",
      "Note: you may need to restart the kernel to use updated packages.\n"
     ]
    }
   ],
   "source": [
    "pip install emoji"
   ]
  },
  {
   "cell_type": "code",
   "execution_count": 77,
   "id": "90c69ed4",
   "metadata": {},
   "outputs": [],
   "source": [
    "import pandas as pd\n",
    "from tika import translate\n",
    "from tika import language\n",
    "import requests\n",
    "import re\n",
    "import emoji\n"
   ]
  },
  {
   "cell_type": "code",
   "execution_count": 78,
   "id": "aab7edda",
   "metadata": {},
   "outputs": [],
   "source": [
    "df = pd.read_csv('/Users/taniadawood/Desktop/DSCI550-PixstoryMediaExtractionAndAnalysis/1_Language Identification/Master_Dataset_Raw_LangDetect_Complete.csv')\n"
   ]
  },
  {
   "cell_type": "code",
   "execution_count": 79,
   "id": "ac6b6763",
   "metadata": {},
   "outputs": [],
   "source": [
    "df['Narrative'] = df['Narrative'].astype(str)"
   ]
  },
  {
   "cell_type": "code",
   "execution_count": null,
   "id": "dc91127e",
   "metadata": {
    "collapsed": true
   },
   "outputs": [
    {
     "name": "stdout",
     "output_type": "stream",
     "text": [
      "‌ Counting of Votes of assembly elections will commence tomorrow \n",
      "‌\n",
      "‌UP: Lucknow Police Commissioner DK Thakur said following allegations of EVM tampering, \"We've adequate security measures in place at EVM strong room. The strong room will be opened around 7 am in the presence of election observers and candidates; Counting will begin at 8 am tomorrow. Police patrolling will be done in sensitive areas.\"\n",
      "‌\n",
      "‌Uttarkhand: The Congress agreed that during the counting, senior party leaders would be present to keep an eye on the counting of votes in all thirteen districts of the state, as per a report by ANI.\n",
      "‌\n",
      "‌Punjab: Laddu preparation on full swing ahead of the counting day of state assembly elections on March 10 in Ludhiana.\n",
      "‌\n",
      "‌Ahead of vote counting on March 10, Samajwadi Party president Akhilesh Yadav has put up questions on the security of the Electronic Voting Machines (EVMs). He accused the Election Commission officials of tampering with the EVMs and said that he no longer trusts the poll body.\n",
      "‌\n",
      "‌Manipur: The Bharatiya Janata Party (BJP) Manipur president, Adhikarimayum Sharda Devi, showed confidence over its triumph in the Assembly election that took place in two phases in the northeastern state over the past few days\n",
      "‌\n",
      "‌As per the reports of ANI : \"We have set a target of over 40 seats and are confident of forming a stable government. When the final results are declared, we expect the number to be 40 plus only... We haven't taken a decision on Chief Ministerial candidate and there is no point of a new CM here,\" Devi told.\n",
      "‌\n",
      "‌Goa: Parties got down to formulating their strategies keeping in mind possible post-poll scenarios with the regional outfit MGP getting wooed by the BJP as well as the Congress, the two main adversaries of power in the coastal state with a history of political violatity. For the record, both the ruling BJP and the opposition Congress affirmed confidence about getting a clear majority in the 40-member assembly.\n",
      "As part of its deadly assault on Ukraine, Russia has taken the rare step to use intellectual property rights as a war tactic. In early March, the Russian government issued a decree saying that Russian companies are no longer obliged to compensate owners of patents, utility models and industrial designs from “unfriendly” countries. These are the western states who have issued sanctions against Russia, including the UK and US.\n",
      "\n",
      "This means that Russian businesses can use intellectual property, such as patented inventions or fashion designs, without having to pay or seek the consent of the rights holders. Affected companies cannot enforce their patents and designs against Russian imitators.\n",
      "\n",
      "This effectively legalises intellectual piracy in a country already known for failing to adequately protect intangible assets. Last year, Russia was added to a US government “priority watch list” of countries which do not sufficiently protect US intellectual properties.\n",
      "\n",
      "Vladimir Putin’s move is clearly a reaction to the west’s economic sanctions and suspension of Russia’s trade privileges. It is also an answer to many multinational companies’ decisions to cease doing business with Russian companies.\n",
      "\n",
      "Sanctions and boycotts have massively affected the Russian economy to the extent that the country is now on the verge of bankruptcy with interest rates having doubled. The stock market has remained closed for weeks and the rouble has fallen dramatically.\n",
      "\n",
      "Unprecedented attack on intellectual property\n",
      "\n",
      "The suspension of intellectual property rights as an economic weapon in the context of a conflict is unprecedented, at least in recent decades. Historical examples date back to the first world war, when the US introduced the Trading With the Enemy Act. This act seized copyright and patents owned by enemy countries, including the patent to aspirin, famously a German invention.\n",
      "\n",
      "Read full-story on The Conversation: https://theconversation.com/how-russia-is-using-intellectual-property-as-a-war-tactic-179260\n",
      "\n",
      "Image courtesy: https://www.shutterstock.com/image-photo/03052022russiarussian-president-vladimir-putin-speaks-during-2132517573\n",
      "<p dir=\"ltr\">CERT-In is observing 'Cyber Security Awareness Month October 2022' with a theme &#8220;See Yourself in Cyber&#8221; to create awareness and sensitize Internet users on safeguarding against cyber attacks, frauds and cyber crimes.<br>\n",
      "\"If you don't know the sender, it might be a pretender\"<br>\n",
      "#MeitY<br>\n",
      "#DigitalIndia</p>\n",
      "<p dir=\"ltr\">#NCSAM2022 #CyberSecurityAwareness #IndianCERT #CyberSwachhtaKendra #CSK</p>\n",
      "<p dir=\"ltr\">CERT-In is observing 'Cyber Security Awareness Month October 2022' with a theme &#8220;See Yourself in Cyber&#8221; to create awareness and sensitize Internet users on safeguarding against cyber attacks, frauds and cyber crimes. </p>\n",
      "<p dir=\"ltr\">\"Don't be safety blinded, be safety minded\" </p>\n",
      "<p dir=\"ltr\">Visit CSK website for cyber security safety tips:&#160; https://www.csk.gov.in/announcements/csam2022-t10.html </p>\n",
      "<p dir=\"ltr\">@meity @digitalindia #NCSAM2022 #CyberSecurityAwareness #IndianCERT #CyberSwachhtaKendra #CSK</p>\n",
      "<p dir=\"ltr\">CERT-In is observing 'Cyber Security Awareness Month October 2022' with a theme &#8220;See Yourself in Cyber&#8221; to create awareness and sensitize Internet users on safeguarding against cyber attacks, frauds and cyber crimes.</p>\n",
      "<p dir=\"ltr\">\"Security is our First Priority\"</p>\n",
      "<p dir=\"ltr\">@Goi_MeitY</p>\n",
      "<p dir=\"ltr\">@_DigitalIndia</p>\n",
      "<p dir=\"ltr\">#NCSAM2022 #CyberSecurityAwareness #IndianCERT #CyberSwachhtaKendra #CSK</p>\n",
      "Malaika Arora has stated that married at the age of 25 and having a child has never interfered with her career. She said, \"Somewhere, it was an example of sorts for lot of other women\".\n",
      "\n",
      "In Namrata Zakaria’s podcast called Tell Me How You Did It Malaika told \"It never was a hindrance. I'm proof of that. Not in any way has it come in the choices that I've made. Being married, or when I was married, or when I decided to have a child, don't think any of it had any bearing on my professional life. People around me had a lot more to say, but it didn't have any bearing on my professional life”.\n",
      "\n",
      "\"I always have this glamorous approach or being a certain way, it has worked in my favour,\" she added.\n",
      "Remember the 25th minute goal in the Argentina versus Mexico second round match in the 2010 World Cup?  Carlos Tevez was offside by yards, but the referee didn’t disallow the goal. The replay on the big screen inside the stadium confirmed the offside and fight broke in the technical bench followed by the entire Mexican team surrounding the referee. But the decision wasn’t changed. Equally shocking was the decision of the referee in the South Korea-Spain encounter in the 2002 World Cup quarter-finals.  South Korea got the benefit of the doubt as Egyptian Referee Gamal Al-Ghandour disallowed two legal Spanish goals and his linesmen judged one Spanish attack after another to be offside, as South Korea went on to win 5-3 on penalties to reach the semi-finals. Shortly afterward, the referee was forced to retire.\n",
      "Now, all these things are set to come to an end. Hopefully. The Qatar World Cup will have an interesting and new feature within it’s official match ball “Al Rihla”. The feature will be an updated VAR (Video Assistant Referee) system which is called semi-automated offside technology. The new technology will replace the VAR system which was introduced in the 2018 World Cup in Russia. The authorities believe that the new system will help the match official make more accurate decisions with the new technology. “VAR has already had a very positive impact on football and we can see that the number of major mistakes has already been dramatically reduced. We expect that semi-automated offside technology can take us a step further,” said FIFA Referees Committee Chairman Pierluigi Collina in a statement. The new system will have 12 cameras within the stadium which will track the movement and position of both the ball and players. The ball is with a motion sensor inside which will provide the information on the player’s position at the time when the ball is kicked. As per ESPN, the old VAR system used to 70 second to make an official offside decision. But now, the decision will be made in only 25 seconds.\n"
     ]
    },
    {
     "name": "stdout",
     "output_type": "stream",
     "text": [
      "Il comunicato di Trenitalia: \n",
      "\n",
      "Sarà riattivata alle 14.30 di oggi la linea ad Alta Velocità Roma-Napoli, con la circolazione dei treni ad alta velocità in graduale ripresa già dal pomeriggio di oggi. Questo consentirà anche il miglioramento della circolazione dei treni pendolari sulle linee convenzionali.\n",
      " \n",
      "Nella mattina di domani, mercoledì 8 giugno, potrà riprendere la normale programmazione dei treni sia fra Roma e Napoli sia nei nodi ferroviari delle due città.\n",
      " \n",
      "La linea era stata interrotta nel pomeriggio di venerdì 3 giugno a seguito dello svio della locomotiva di coda di un treno AV nei pressi di Roma Prenestina.\n",
      " \n",
      "Oltre 70 tecnici di Rete Ferroviaria Italiana (Gruppo FS Italiane) hanno lavorato per rinnovare circa un chilometro e trecento metri di binari, sostituire 400 metri di cavi tecnologici e ripristinare 150 metri di linea di alimentazione elettrica dei treni.\n",
      " \n",
      "Le attività di ripristino, concluse in meno di 48 ore, sono potute avvenire in due step: il primo è iniziato domenica pomeriggio a seguito del dissequestro di una parte dell’area interessata; il secondo da ieri sera quando l’Autorità Giudiziaria ha consentito la rimozione del locomotore sviato liberando così anche la galleria.\n",
      "Background\n",
      "\n",
      "Carotid plaque is one of the typical manifestations and precursors of diabetic cardiovascular complications. As a new adipokine, asprosin participates in the development of diabetes and cardiovascular diseases, and is considered to be closely related to insulin resistance and glucolipid metabolism. This study aimed to analyze the relationship between serum asprosin level and carotid plaque in patients with type 2 diabetes mellitus (T2DM).\n",
      "\n",
      "Methods\n",
      "\n",
      "A total of 180 patients with T2DM were selected. The basic parameters and biochemical indexes of the subjects were measured, and the serum asprosin concentration of the subjects was detected by ELISA. The carotid plaque was evaluated by color Doppler ultrasound.\n",
      "\n",
      "Results\n",
      "\n",
      "The level of serum asprosin in the T2DM with carotid plaque group was significantly higher than that in T2DM without carotid plaque group [2.53(1.73-3.21) vs. 1.72(1.23-2.34) ng/mL, P<0.05]. The incidence of carotid plaque in the low, middle and high quartiles was 31.7%, 48.3% and 70% respectively. Correlation analysis showed that serum asprosin was positively correlated with BMI, WHR, SBP, DBP, FIns, LDL-C, HOMA-IR, and HOMA-β (P<0.05). Linear regression analysis showed that WHR, DBP, FIns, and LDL-C were independent influencing factors of asprosin. Logistic regression analysis showed that serum asprosin was still significantly correlated with carotid plaque in T2DM patients after adjusting for multiple confounding factors. The area under receiver-operating curve (ROC) of asprosin predicting carotid plaque was 0.701 (0.625-0.777) in T2DM.\n",
      "\n",
      "Conclusion\n",
      "\n",
      "The level of serum asprosin in T2DM patients with carotid plaques is significantly higher, suggesting that asprosin may play a role in the occurrence and development of carotid plaques in T2DM. Detection of this index can provide new clinical evidence for the prevention and treatment of diabetic cardiovascular disease.\n",
      "\n",
      "Sources - https://www.sciencedirect.com/science/article/abs/pii/S0009912022001928\n",
      "Shahnaz Esmaeili Farshad Farzadfar \n",
      "\n",
      "Abstract \n",
      "\n",
      "Aims \n",
      "\n",
      "We aimed to report the burden of type 1 diabetes mellitus (T1DM) in the North Africa and Middle East region and its 21 countries from 1990 to 2019. \n",
      "\n",
      "Methods \n",
      "\n",
      "Information related to incidence, prevalence, mortality, disability-adjusted life-years (DALYs), and years lived with disability (YLDs) of T1DM was acquired from the 2019 Global Burden of Disease study. The burden was estimated by sex, age groups, and socio-demographic index (SDI) in 21 countries. \n",
      "\n",
      "Results \n",
      "\n",
      "Over the past 30 years, regional incidence, prevalence, mortality, and DALYs of T1DM increase by 188.7%, 304.8%, 43.7%, and 71.6%, respectively. While the age-standardized incidence and prevalence rates increased by 84% and 91%, the mortality and DALYs rates decreased by 34% and 13%. During these years, the contribution of YLDs to total DALYs increased considerably (from 17% to 42%). The highest increase in the incidence and prevalence rates occurred in high SDI countries. Moreover, the Mortality to Incidence Ratio (MIR) decreased in the region countries. \n",
      "\n",
      "Conclusions \n",
      "\n",
      "Despite progress made in diabetes care, there is a persistently increasing burden of T1DM in the region countries. This indicates that T1DM is still one of the major health challenges in the region countries, especially in high SDI Arab countries. \n",
      "\n",
      "Sources  - https://www.sciencedirect.com/science/article/abs/pii/S0168822722007264\n",
      "Abstract\n",
      "\n",
      "Aims\n",
      "\n",
      "It is now understood that almost half of newly diagnosed cases of type 1 diabetes are adult-onset. However, type 1 and type 2 diabetes are difficult to initially distinguish clinically in adults, potentially leading to ineffective care. In this study a machine learning model was developed to identify type 1 diabetes patients misdiagnosed as type 2 diabetes.\n",
      "\n",
      "Methods\n",
      "\n",
      "In this retrospective study, a machine learning model was developed to identify misdiagnosed type 1 diabetes patients from a population of patients with a prior type 2 diabetes diagnosis. Using Ambulatory Electronic Medical Records (AEMR), features capturing relevant information on age, demographics, risk factors, symptoms, treatments, procedures, vitals, or lab results were extracted from patients' medical history.\n",
      "\n",
      "Results\n",
      "\n",
      "The model identified age, BMI/weight, therapy history, and HbA1c/blood glucose values among top predictors of misdiagnosis. Model precision at low levels of recall (10%) was 17%, compared to <1% incidence rate of misdiagnosis at the time of the first type 2 diabetes encounter in AEMR.\n",
      "\n",
      "Conclusions\n",
      "\n",
      "This algorithm shows potential for being translated into screening guidelines or a clinical decision support tool embedded directly in an EMR system to reduce misdiagnosis of adult-onset type 1 diabetes and implement effective care at the outset.\n",
      "\n",
      "Sources - https://www.sciencedirect.com/science/article/pii/S0168822722008439\n",
      "[ Plasminogen activator inhibitor-1 mediate downregulation of adiponectin in type 2 diabetes patients with metabolic syndrome ] \n",
      "\n",
      "\n",
      "Shaik SarfarazNawazKhalidSiddiqui\n",
      "\n",
      "\n",
      "Introduction\n",
      "Metabolic syndrome (MetS) is a multifactorial disease characterized by metabolic abnormalities. Plasminogen activator inhibitor-1(PAI-1) is a key factor of the fibrinolysis its expression is elevated in insulin resistance, obesity, and MetS. In addition, an adiponectin produced by adipocytes is also key factor in MetS. This study aimed to investigate the relationship between PAI-1, adiponectin levels in MetS.\n",
      "\n",
      "Patients and Methods\n",
      "A total of 379 subjects were analyse in this cross-sectional study. MetS was defined by NCEP ATP-III criteria. Anthropometric, fasting blood glucose, HbA1c, total cholesterol, high-density lipoprotein, low-density lipoprotein, triglycerides, PAI-1, and adiponectin were measured.\n",
      "\n",
      "Results\n",
      "PAI-1 levels were higher in MetS compared with non-MetS. In addition, adiponectin levels were significantly lower in MetS compared to non-MetS. Furthermore, increased level of PAI-1 corresponds with increase in prevalence of MetS. PAI-1 levels were significantly associated with MetS (OR = 2.51, CI = 1.23 – 5.14; p = 0.039).\n",
      "\n",
      "Conclusion\n",
      "PAI-1 increases the risk of MetS. PAI-1 and adiponectin regulation is useful in assesing the presence and severity of MetS. Further pharmacological targeting of PAI-1 studies are necessary for MetS management.\n",
      "\n",
      "\n",
      "\n",
      "https://www.sciencedirect.com/science/article/pii/S2590153222000039\n",
      "<p dir=\"ltr\"><br>\n",
      "Abstract</p>\n",
      "<p dir=\"ltr\">Telomeres are often considered as the &#8216;ageing clock&#8217; that determines the lifespan at the cellular level, forming the ends of a chromosome, which shorten each time the cell divides itself to the point where they become so short the cell is unable to divide itself further. Telomere length alteration is often linked with lifestyle factors such as age, obesity, exposure to pesticides and pollution, depression, unhealthy diet, lack of exercise, and stress. The current review discusses the mechanism of telomere shortening in relation to ageing and lifestyle factors in general and its association with chronic diseases like diabetes which may influence the health and lifespan of an individual by increasing telomere shortening. Accelerated or excessive telomere shortening is also associated with the early onset of age-related disorders globally and, hence, reduced lifespan of individuals. Upregulated Telomerase activity and reactivation of telomeres is observed in &gt;70% of cancer patients by TERT point mutations, rearrangements, DNA amplifications, and transcript fusions, making it a useful marker in diagnosis and prognosis of various cancers. The study presents a systematic review of the unregulated Telomere activity with progression of various cancer and extrapolation of suitable pathways and prognostic information correlated with mRNA levels of TERT, which are critical among thymic epithelial tumors (TETs). In most cancers, unlimited proliferation is due to the reactivation of reverse transcriptase gene TERT. All these observations are comprehensively presented in the paper and might be useful for researchers working in the field of telomere dynamics and finding the correlation of age shortening with mRNA expression profiling.<br></p>\n",
      "<p dir=\"ltr\">Sources - https://www.sciencedirect.com/science/article/abs/pii/S0040816622001975</p>\n"
     ]
    },
    {
     "name": "stdout",
     "output_type": "stream",
     "text": [
      "Eun Jeong Ko Su JungLee \n",
      "\n",
      "Abstract \n",
      "\n",
      "Purpose \n",
      "\n",
      "This study aimed to assess indicators of type 2 diabetes mellitus (DM) management, including adequate DM control, and treatment rates, in cancer survivors according to the time of DM diagnosis and to compare them with the DM management indicators of a non-cancer control group. \n",
      "\n",
      "Methods \n",
      "\n",
      "We used the 2013–2019 data of the Korea National Health and Nutrition Examination Survey for this study. To compare their adequate DM control, and treatment rates, we identified 4,918 patients with type 2 DM aged ≥ 30 years and classified them into pre-existing diabetes, pre-existing cancer, and diabetes without cancer groups. Predictors of adequate glycemic control and diabetes treatment were analyzed using binary logistic regression. \n",
      "\n",
      "Results \n",
      "\n",
      "Diabetes without cancer group had higher fasting blood glucose and glycosylated hemoglobin A1c levels and lower adequate glycemic control than did the other two groups. The preexisting cancer group had low treatment rates. After adjusting for age, sex, employment status, and duration of diabetes, the preexisting cancer group had 0.51-fold lower odds of receiving treatment, such as insulin injection or oral diabetes medications, than the other two groups (adjusted odds ratio, 0.50; 95% confidence interval, 0.38-0.66) \n",
      "\n",
      "Conclusion \n",
      "\n",
      "Cancer survivors had lower fasting glucose and HbA1c than those with diabetes without cancer. However, as a result of the sub-analysis, the treatment rate of the pre-existing cancer group was significantly lower than that of diabetes without cancer. Based on these results, cancer survivors’ care-related healthcare workers should be aware of the need for monitoring blood sugar even in cancer survivors without underlying diabetes mellitus and pay more attention to early detection and active treatment of diabetes. \n",
      "\n",
      "Sources  - https://www.sciencedirect.com/science/article/pii/S2347562522001743\n",
      "K Sera Sera Box Office Pvt Ltd, the largest Digital Services Provider in India and pioneer of cutting-edge technology in the film production world, is on a relentless pursuit to offer high quality, new age and innovative film means to producers across the country. And with that vision in mind, the company has partnered with the renowned filmmakers Mahesh Bhatt and Vikram Bhatt to create and offer India’s First Virtual Production Studio –  Studio Virtual Worlds!\n",
      "\n",
      "Studio Virtual Worlds will offer innovative methods of filming, a new age technical team, visualizations, post-production, editing and support on the unreal engine to the producers as per their requirements. It is learnt that this virtual studio will be specifically designed to create infinite worlds and environments that would make stepping out of the studios unnecessary. It would be an end-to-end solution for all filming for Films, TV Drama and Commercial content production. The producer does not need to go to any location for filming - the location will come to the producer.\n",
      "\n",
      "Talking about the joint venture, the Chairman Mr Satish Panchariya says, “The studio named Virtual Worlds is just apt, for it intends to serve the media industry with every possible, impossible and conceivable world. All in all - Studio Virtual Worlds will be India’s first end to end virtual production studio. Landscapes, interiors, vast sets, small sets, apartments, airports, railway stations, hospitals, courts, jails, spaceships - you name it and you shall have it.”\n",
      "\n",
      "\n",
      "The studio will be located in Mumbai. Talking about this disruptive means of film shoots, Vikram Bhatt says, “With our virtual studio we will collaborate with both mainstream Hindi films, Regional films, OTT projects, Music Videos and Television. In the current scenario, the demand for Indian content in the market is increasing day by day with many foreign companies investing in India. Virtual worlds will give you much more value for your rupee than before. Our Virtual production studio will help to set up the entire project very efficiently and we will deliver the final output to the producers in superior quality.”\n"
     ]
    }
   ],
   "source": [
    "#taken from the emoji docs since it's not in the latest versions\n",
    "def get_emoji_regexp():\n",
    "    # Sort emoji by length to make sure multi-character emojis are\n",
    "    # matched first\n",
    "    emojis = sorted(emoji.EMOJI_DATA, key=len, reverse=True)\n",
    "    pattern = u'(' + u'|'.join(re.escape(u) for u in emojis) + u')'\n",
    "    return re.compile(pattern)\n",
    "\n",
    "exp = get_emoji_regexp()\n",
    "\n",
    "#this function removes any emojis, html tags, URLs, and special characters before translating\n",
    "def clean_text(text):\n",
    "    try:\n",
    "        text = exp.sub(u'', text)\n",
    "        text = re.sub(r'<.*?>', '', text)\n",
    "        text = re.sub(r'http\\S+', '', text)\n",
    "        text = re.sub('[^a-zA-Z]+', ' ', text)\n",
    "        text = re.sub(r'\\s+', ' ', text)\n",
    "        return text.strip()\n",
    "    except :\n",
    "        print(text)\n",
    "    finally:\n",
    "        return text\n",
    "    \n",
    "    \n",
    "clean_narr = clean_text(df['Narrative'].apply(clean_text))\n",
    "\n",
    "df['Clean Narrative'] = clean_narr"
   ]
  },
  {
   "cell_type": "code",
   "execution_count": null,
   "id": "5bbe4f8d",
   "metadata": {},
   "outputs": [],
   "source": [
    "chars = 10 #specifies the number of characters to translate out of the narrative\n",
    "\n",
    "translated_column = []\n",
    "for text, language in zip(df['Clean Narrative'], df['Narrative TikaDetect']):\n",
    "    if language != 'en':\n",
    "        if len(text) > chars:\n",
    "            translated_chunks = []\n",
    "            try:\n",
    "                #translate the narrative in chunks depending on the limit set and join them all together at the end\n",
    "                for i in range(0, len(text), chars):\n",
    "                    group = text[i:i+chars]\n",
    "                    translation = translate.from_buffer(group, language, 'en', requestOptions={'timeout':500})\n",
    "                    if ((translation == '') or (not translation)):\n",
    "                        raise ValueError('Tika server returned 500')\n",
    "                    translated_chunks.append(translation)\n",
    "                translated_text = ' '.join(translated_chunks)\n",
    "                translated_column.append(translated_text)\n",
    "                \n",
    "            except Exception as error:\n",
    "                print(error)\n",
    "                print('error text', text)\n",
    "                #Appending \"redo\" for narratives that fail so they will be searchable to run again and update\n",
    "                translated_column.append('redo')\n",
    "        else:\n",
    "            try:\n",
    "                #translate the entire narrative if it's under the specified char size\n",
    "                translated_text = translate.from_buffer(text, language, 'en', requestOptions={'timeout':500})\n",
    "                if ((translated_text == '') or (not translated_text)):\n",
    "                    raise ValueError('Tika server returned 500')\n",
    "                translated_column.append(translated_text)\n",
    "            except Exception as error:\n",
    "                print(error)\n",
    "                print('error text', text)\n",
    "                #Appending \"redo\" for narratives that fail so they will be searchable to run again and update\n",
    "                translated_column.append('redo')\n",
    "    else:\n",
    "        #just append the regular text if it's already english\n",
    "        translated_column.append(text)"
   ]
  },
  {
   "cell_type": "code",
   "execution_count": null,
   "id": "66e82d1d",
   "metadata": {},
   "outputs": [],
   "source": [
    "df['Translated Narrative'] = translated_column"
   ]
  },
  {
   "cell_type": "code",
   "execution_count": null,
   "id": "e6feebd5",
   "metadata": {},
   "outputs": [],
   "source": [
    "df.to_csv('Master_Dataset_Raw_LangDetect_Translated.csv', index=False)"
   ]
  },
  {
   "cell_type": "code",
   "execution_count": null,
   "id": "3f4802e3",
   "metadata": {},
   "outputs": [],
   "source": []
  }
 ],
 "metadata": {
  "kernelspec": {
   "display_name": "Python 3",
   "language": "python",
   "name": "python3"
  },
  "language_info": {
   "codemirror_mode": {
    "name": "ipython",
    "version": 3
   },
   "file_extension": ".py",
   "mimetype": "text/x-python",
   "name": "python",
   "nbconvert_exporter": "python",
   "pygments_lexer": "ipython3",
   "version": "3.8.8"
  }
 },
 "nbformat": 4,
 "nbformat_minor": 5
}
